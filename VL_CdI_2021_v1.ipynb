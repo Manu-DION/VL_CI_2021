{
  "nbformat": 4,
  "nbformat_minor": 0,
  "metadata": {
    "colab": {
      "provenance": [],
      "toc_visible": true,
      "include_colab_link": true
    },
    "kernelspec": {
      "name": "python3",
      "display_name": "Python 3"
    }
  },
  "cells": [
    {
      "cell_type": "markdown",
      "metadata": {
        "id": "view-in-github",
        "colab_type": "text"
      },
      "source": [
        "<a href=\"https://colab.research.google.com/github/Manu-DION/VL_CI_2021/blob/main/VL_CdI_2021_v1.ipynb\" target=\"_parent\"><img src=\"https://colab.research.google.com/assets/colab-badge.svg\" alt=\"Open In Colab\"/></a>"
      ]
    },
    {
      "cell_type": "markdown",
      "metadata": {
        "id": "2tn3c9gAPUM4"
      },
      "source": [
        "# \n",
        "## 02 - Python and Pandas: Summarizing Voter List Data (Colab)\n",
        "<p class=\"lead\">\n",
        "Michelle Brown Notes v 6.0<br>\n",
        " Uses a scrabled/anonomyize versio of Voter list (one csv file) \n",
        " "
      ]
    },
    {
      "cell_type": "markdown",
      "metadata": {
        "id": "1n6D4a7TPUNK"
      },
      "source": [
        "In this notebook we are going to be combining files into one large file--a voter list of more than 3 million records. We will summarize the data, and make a simple histogram. We'll also go over how to save subsets of the data.[link text](https://)"
      ]
    },
    {
      "cell_type": "markdown",
      "metadata": {
        "id": "HdY1OGDRPUNQ"
      },
      "source": [
        "# Outline\n",
        "\n",
        "<!-- MarkdownTOC autolink=true autoanchor=true bracket=round -->\n",
        "\n",
        "- [Import Libraries](#imp)\n",
        "- [Read in the first file](#read1)\n",
        "- [Checking missing values](#missing)\n",
        "- [Snapshot of histograms (plots)](#plots)\n",
        "- [Duplicate and unique names](#dups)\n",
        "- [Summarizing at a higher level](#sumhigh)\n",
        "- [Create a dataset at the polling station level](#pslevel)\n",
        "- [Make a histogram](#histo)\n",
        "- [Save the polling station level dataset](#save)\n",
        "\n",
        "<!-- /MarkdownTOC -->"
      ]
    },
    {
      "cell_type": "markdown",
      "metadata": {
        "id": "P11MIGwAPUNV"
      },
      "source": [
        "<a name=\"imp\"></a>\n",
        "# Importing libraries"
      ]
    },
    {
      "cell_type": "markdown",
      "metadata": {
        "id": "zk3ID0y0PUNZ"
      },
      "source": [
        "Again we import the analysis module called pandas as a variable called 'pd' so we can use it's associated methods. But we are also going to import some other libraries that we'll use later to make inline plots. "
      ]
    },
    {
      "cell_type": "code",
      "metadata": {
        "id": "5HpYNM1QPUNb"
      },
      "source": [
        "import pandas as pd\n",
        "%matplotlib inline\n",
        "from matplotlib import pyplot as plt\n",
        "import numpy as np\n",
        "import datetime"
      ],
      "execution_count": null,
      "outputs": []
    },
    {
      "cell_type": "markdown",
      "metadata": {
        "id": "dIdh7v9LPUNp"
      },
      "source": [
        "<a name=\"read1\"></a>\n",
        "# Read in first file of the Voter List"
      ]
    },
    {
      "cell_type": "markdown",
      "metadata": {
        "id": "5tRSIxBrPn-V"
      },
      "source": [
        "(Colab) Get the file and put them here in our Colab environment. (After running the code, you can click the folder icon on the left and then see the file listed)\n"
      ]
    },
    {
      "cell_type": "code",
      "metadata": {
        "id": "1Uip33edFXZD",
        "colab": {
          "base_uri": "https://localhost:8080/"
        },
        "outputId": "d0ba0db0-95cf-4278-fa7b-3dd0b5b0508a"
      },
      "source": [
        "! wget \"https://www.dropbox.com/s/sb1zzwtg35hs0dn/Liste%20%C3%A9lectorale%20d%C3%A9finitive%202021.CSV\""
      ],
      "execution_count": null,
      "outputs": [
        {
          "output_type": "stream",
          "name": "stdout",
          "text": [
            "--2022-09-15 13:23:27--  https://www.dropbox.com/s/sb1zzwtg35hs0dn/Liste%20%C3%A9lectorale%20d%C3%A9finitive%202021.CSV\n",
            "Resolving www.dropbox.com (www.dropbox.com)... 162.125.5.18, 2620:100:6021:18::a27d:4112\n",
            "Connecting to www.dropbox.com (www.dropbox.com)|162.125.5.18|:443... connected.\n",
            "HTTP request sent, awaiting response... 302 Found\n",
            "Location: /s/raw/sb1zzwtg35hs0dn/Liste%20%C3%A9lectorale%20d%C3%A9finitive%202021.CSV [following]\n",
            "--2022-09-15 13:23:27--  https://www.dropbox.com/s/raw/sb1zzwtg35hs0dn/Liste%20%C3%A9lectorale%20d%C3%A9finitive%202021.CSV\n",
            "Reusing existing connection to www.dropbox.com:443.\n",
            "HTTP request sent, awaiting response... 302 Found\n",
            "Location: https://uc7bafc6a171cc4e19448e948f73.dl.dropboxusercontent.com/cd/0/inline/Bs-kM2FI2RslxhhW_foMPwAq1_fPxbfeM_WyceXn3OKoSXIf-LFrw7MXefKalq5eQhB_ruaTJ1lS82dGNd4DzBdflLqZIOG6qcgyl-T0fbUVQzA-mWPTDEEl9_JOj_-CgHmbTRMN0ye7thBh65A65DEsreBvLzj7DpOWaxYcrIIKHg/file# [following]\n",
            "--2022-09-15 13:23:27--  https://uc7bafc6a171cc4e19448e948f73.dl.dropboxusercontent.com/cd/0/inline/Bs-kM2FI2RslxhhW_foMPwAq1_fPxbfeM_WyceXn3OKoSXIf-LFrw7MXefKalq5eQhB_ruaTJ1lS82dGNd4DzBdflLqZIOG6qcgyl-T0fbUVQzA-mWPTDEEl9_JOj_-CgHmbTRMN0ye7thBh65A65DEsreBvLzj7DpOWaxYcrIIKHg/file\n",
            "Resolving uc7bafc6a171cc4e19448e948f73.dl.dropboxusercontent.com (uc7bafc6a171cc4e19448e948f73.dl.dropboxusercontent.com)... 162.125.3.15, 2620:100:6018:15::a27d:30f\n",
            "Connecting to uc7bafc6a171cc4e19448e948f73.dl.dropboxusercontent.com (uc7bafc6a171cc4e19448e948f73.dl.dropboxusercontent.com)|162.125.3.15|:443... connected.\n",
            "HTTP request sent, awaiting response... 200 OK\n",
            "Length: 2081643459 (1.9G) [text/plain]\n",
            "Saving to: ‘Liste électorale définitive 2021.CSV’\n",
            "\n",
            "Liste électorale dé 100%[===================>]   1.94G  86.4MB/s    in 24s     \n",
            "\n",
            "2022-09-15 13:23:52 (83.4 MB/s) - ‘Liste électorale définitive 2021.CSV’ saved [2081643459/2081643459]\n",
            "\n"
          ]
        }
      ]
    },
    {
      "cell_type": "code",
      "metadata": {
        "id": "XvSQUPeaf9t2"
      },
      "source": [
        "file_path =  \"/content/Liste électorale définitive 2021.CSV\""
      ],
      "execution_count": null,
      "outputs": []
    },
    {
      "cell_type": "markdown",
      "metadata": {
        "collapsed": true,
        "id": "ho8s_iSNPUNs"
      },
      "source": [
        "We read in the csv file noting that it is separated by \";\" and store it as dataframe called df and see it's shape (rows and columns)\n",
        "\n",
        "We use the option \"index_col=False\" so that pandas does not take the Numero formulaire and try to assign that as the internal index (which we do not want)"
      ]
    },
    {
      "cell_type": "code",
      "metadata": {
        "scrolled": false,
        "id": "7YiuSsfkPUNw"
      },
      "source": [
        "df = pd.read_csv(file_path, sep=\";\", index_col=False)\n",
        "# df = pd.read_csv(file_path, sep=\";\", on_bad_lines='skip')"
      ],
      "execution_count": null,
      "outputs": []
    },
    {
      "cell_type": "code",
      "source": [
        "df.shape"
      ],
      "metadata": {
        "colab": {
          "base_uri": "https://localhost:8080/"
        },
        "id": "Y9KhnrxVdVuV",
        "outputId": "c3eb2d8a-60a9-4918-98fb-e469466a427c"
      },
      "execution_count": null,
      "outputs": [
        {
          "output_type": "execute_result",
          "data": {
            "text/plain": [
              "(7495082, 28)"
            ]
          },
          "metadata": {},
          "execution_count": 5
        }
      ]
    },
    {
      "cell_type": "markdown",
      "source": [
        "Let's create a variablet ttlrec which will hold the total number of records (voters) so we can reference it later when looking at duplicates"
      ],
      "metadata": {
        "id": "zKtRvailn2NG"
      }
    },
    {
      "cell_type": "code",
      "source": [
        "ttlrec = df.shape[0]\n",
        "print(ttlrec)"
      ],
      "metadata": {
        "colab": {
          "base_uri": "https://localhost:8080/"
        },
        "id": "rpLGak9Xn_Rn",
        "outputId": "1214b502-7f19-49d7-dc68-2f8c08202f08"
      },
      "execution_count": null,
      "outputs": [
        {
          "output_type": "stream",
          "name": "stdout",
          "text": [
            "7495082\n"
          ]
        }
      ]
    },
    {
      "cell_type": "code",
      "source": [
        "df.head(100)"
      ],
      "metadata": {
        "colab": {
          "base_uri": "https://localhost:8080/",
          "height": 1000
        },
        "id": "qwm7ka0CmnsB",
        "outputId": "4d22f793-07c4-4e42-d80a-48e4f7b74097"
      },
      "execution_count": null,
      "outputs": [
        {
          "output_type": "execute_result",
          "data": {
            "text/plain": [
              "    Numero Formulaire 2021 Numero Electeur  Code Departement  \\\n",
              "0             1.065192e+09  V 0065 2924 53                 1   \n",
              "1                      NaN  V 0204 5947 41                 1   \n",
              "2                      NaN  V 0095 5498 80                 1   \n",
              "3             1.065195e+09  V 0213 5607 77                 1   \n",
              "4                      NaN  V 0081 6013 67                 1   \n",
              "..                     ...             ...               ...   \n",
              "95                     NaN  V 0101 3551 86                 1   \n",
              "96                     NaN  V 0094 5530 26                 1   \n",
              "97                     NaN  V 0039 1912 34                 1   \n",
              "98                     NaN  V 0095 5479 14                 1   \n",
              "99                     NaN  V 0081 6051 25                 1   \n",
              "\n",
              "   Libelle Departement  Code Sous-Prefecture Libelle Sous-Prefecture  \\\n",
              "0            AGBOVILLE                     1               AGBOVILLE   \n",
              "1            AGBOVILLE                     1               AGBOVILLE   \n",
              "2            AGBOVILLE                     1               AGBOVILLE   \n",
              "3            AGBOVILLE                     1               AGBOVILLE   \n",
              "4            AGBOVILLE                     1               AGBOVILLE   \n",
              "..                 ...                   ...                     ...   \n",
              "95           AGBOVILLE                     1               AGBOVILLE   \n",
              "96           AGBOVILLE                     1               AGBOVILLE   \n",
              "97           AGBOVILLE                     1               AGBOVILLE   \n",
              "98           AGBOVILLE                     1               AGBOVILLE   \n",
              "99           AGBOVILLE                     1               AGBOVILLE   \n",
              "\n",
              "    Code Commune Libelle Commune  Code Lieu de Vote  \\\n",
              "0              1       AGBOVILLE                  1   \n",
              "1              1       AGBOVILLE                  1   \n",
              "2              1       AGBOVILLE                  1   \n",
              "3              1       AGBOVILLE                  1   \n",
              "4              1       AGBOVILLE                  1   \n",
              "..           ...             ...                ...   \n",
              "95             1       AGBOVILLE                  1   \n",
              "96             1       AGBOVILLE                  1   \n",
              "97             1       AGBOVILLE                  1   \n",
              "98             1       AGBOVILLE                  1   \n",
              "99             1       AGBOVILLE                  1   \n",
              "\n",
              "         Libelle Lieu de Vote  ...    Prenoms du Pere  \\\n",
              "0   G S ADAHOU EXTENTION 1- 2  ...  ALLECHI MARCELLIN   \n",
              "1   G S ADAHOU EXTENTION 1- 2  ...           OMO NOEL   \n",
              "2   G S ADAHOU EXTENTION 1- 2  ...     YAYA SYLVESTRE   \n",
              "3   G S ADAHOU EXTENTION 1- 2  ...            KOBENAN   \n",
              "4   G S ADAHOU EXTENTION 1- 2  ...      AHOU SERAPHIN   \n",
              "..                        ...  ...                ...   \n",
              "95  G S ADAHOU EXTENTION 1- 2  ...            KOUAKOU   \n",
              "96  G S ADAHOU EXTENTION 1- 2  ...                AKA   \n",
              "97  G S ADAHOU EXTENTION 1- 2  ...            KOUASSI   \n",
              "98  G S ADAHOU EXTENTION 1- 2  ...                AKA   \n",
              "99  G S ADAHOU EXTENTION 1- 2  ...        OCHOU JULES   \n",
              "\n",
              "   Date de Naissance du Pere Lieu de Naissance du Pere Nom de la Mere  \\\n",
              "0                 30/12/1939            AKEIKOI ANYAMA          EKENI   \n",
              "1                        NaN                      KOKO        GNAMIEN   \n",
              "2                 01/01/1951               GRAND-ALEPE         AKPOUI   \n",
              "3                        NaN                       NaN           YAWA   \n",
              "4                 30/12/1964          ATTINGUIE ANYAMA           OCHO   \n",
              "..                       ...                       ...            ...   \n",
              "95                01/01/1900                   INCONNU        KOUAKOU   \n",
              "96                01/01/1900                   DIDIEVI        BASSERI   \n",
              "97                01/01/1900                      ANDE            YAO   \n",
              "98                01/01/1900                 AGBOVILLE           ALLA   \n",
              "99                16/02/1959                 AGBOVILLE         ARRIKO   \n",
              "\n",
              "   Prenoms de la Mere Date de Naissance de la Mere  \\\n",
              "0              CHADON                   01/01/1951   \n",
              "1     ABOUHO LIDIVINE                          NaN   \n",
              "2                CHIA                   14/07/1959   \n",
              "3       BUO MADELEINE                   01/01/1962   \n",
              "4    N'GBESSO ROSALIE                   01/01/1900   \n",
              "..                ...                          ...   \n",
              "95              ASSIE                   01/01/1959   \n",
              "96             ADJOUA                   01/01/1900   \n",
              "97             AFFOUE                   01/01/1900   \n",
              "98      MAH HENRIETTE                   01/01/1928   \n",
              "99           AWO ROSE                   26/08/1970   \n",
              "\n",
              "   Lieu de Naissance de la Mere             Adresse Physique  \\\n",
              "0                GRAND AKOUDZIN  AGBOVILLE ADAHOU EXTENSION    \n",
              "1                           NaN            ADAHOU AGBOVILLE    \n",
              "2                   GRAND-ALEPE            ADAHOU EXTENSION    \n",
              "3                       GOUMERE  AGBOVILLE ADAHOU EXTENTION    \n",
              "4                     AGBOVILLE            ADAHOU EXTENSION    \n",
              "..                          ...                          ...   \n",
              "95                        ARRAH            ADAHOU EXTENSION    \n",
              "96                    AGBOVILLE            ADAHOU EXTENSION    \n",
              "97                       BOUAKE  AGBOVILLE ADAHOU EXTENSION    \n",
              "98            ANOUMAMBA M'BATTO            ADAHOU EXTENSION    \n",
              "99                        CECHI            ADAHOU EXTENSION    \n",
              "\n",
              "       Adresse Postale        Profession  \n",
              "0     BP 512 AGBOVILLE      INSTITUTRICE  \n",
              "1                 BP               ELEVE  \n",
              "2   05 BP 2663 ABIDJAN        PROFESSEUR  \n",
              "3                 BP               ELEVE  \n",
              "4                 BP    ELEVE FOOTBALEUR  \n",
              "..                 ...               ...  \n",
              "95                BP            MENAGERE  \n",
              "96                BP            MENAGERE  \n",
              "97                BP          COUTURIERE  \n",
              "98    BP 870 AGBOVILLE       COMMERCANTE  \n",
              "99                BP               ELEVE  \n",
              "\n",
              "[100 rows x 28 columns]"
            ],
            "text/html": [
              "\n",
              "  <div id=\"df-8408256b-6bdb-42a0-b6f0-5575419dc3b8\">\n",
              "    <div class=\"colab-df-container\">\n",
              "      <div>\n",
              "<style scoped>\n",
              "    .dataframe tbody tr th:only-of-type {\n",
              "        vertical-align: middle;\n",
              "    }\n",
              "\n",
              "    .dataframe tbody tr th {\n",
              "        vertical-align: top;\n",
              "    }\n",
              "\n",
              "    .dataframe thead th {\n",
              "        text-align: right;\n",
              "    }\n",
              "</style>\n",
              "<table border=\"1\" class=\"dataframe\">\n",
              "  <thead>\n",
              "    <tr style=\"text-align: right;\">\n",
              "      <th></th>\n",
              "      <th>Numero Formulaire 2021</th>\n",
              "      <th>Numero Electeur</th>\n",
              "      <th>Code Departement</th>\n",
              "      <th>Libelle Departement</th>\n",
              "      <th>Code Sous-Prefecture</th>\n",
              "      <th>Libelle Sous-Prefecture</th>\n",
              "      <th>Code Commune</th>\n",
              "      <th>Libelle Commune</th>\n",
              "      <th>Code Lieu de Vote</th>\n",
              "      <th>Libelle Lieu de Vote</th>\n",
              "      <th>...</th>\n",
              "      <th>Prenoms du Pere</th>\n",
              "      <th>Date de Naissance du Pere</th>\n",
              "      <th>Lieu de Naissance du Pere</th>\n",
              "      <th>Nom de la Mere</th>\n",
              "      <th>Prenoms de la Mere</th>\n",
              "      <th>Date de Naissance de la Mere</th>\n",
              "      <th>Lieu de Naissance de la Mere</th>\n",
              "      <th>Adresse Physique</th>\n",
              "      <th>Adresse Postale</th>\n",
              "      <th>Profession</th>\n",
              "    </tr>\n",
              "  </thead>\n",
              "  <tbody>\n",
              "    <tr>\n",
              "      <th>0</th>\n",
              "      <td>1.065192e+09</td>\n",
              "      <td>V 0065 2924 53</td>\n",
              "      <td>1</td>\n",
              "      <td>AGBOVILLE</td>\n",
              "      <td>1</td>\n",
              "      <td>AGBOVILLE</td>\n",
              "      <td>1</td>\n",
              "      <td>AGBOVILLE</td>\n",
              "      <td>1</td>\n",
              "      <td>G S ADAHOU EXTENTION 1- 2</td>\n",
              "      <td>...</td>\n",
              "      <td>ALLECHI MARCELLIN</td>\n",
              "      <td>30/12/1939</td>\n",
              "      <td>AKEIKOI ANYAMA</td>\n",
              "      <td>EKENI</td>\n",
              "      <td>CHADON</td>\n",
              "      <td>01/01/1951</td>\n",
              "      <td>GRAND AKOUDZIN</td>\n",
              "      <td>AGBOVILLE ADAHOU EXTENSION</td>\n",
              "      <td>BP 512 AGBOVILLE</td>\n",
              "      <td>INSTITUTRICE</td>\n",
              "    </tr>\n",
              "    <tr>\n",
              "      <th>1</th>\n",
              "      <td>NaN</td>\n",
              "      <td>V 0204 5947 41</td>\n",
              "      <td>1</td>\n",
              "      <td>AGBOVILLE</td>\n",
              "      <td>1</td>\n",
              "      <td>AGBOVILLE</td>\n",
              "      <td>1</td>\n",
              "      <td>AGBOVILLE</td>\n",
              "      <td>1</td>\n",
              "      <td>G S ADAHOU EXTENTION 1- 2</td>\n",
              "      <td>...</td>\n",
              "      <td>OMO NOEL</td>\n",
              "      <td>NaN</td>\n",
              "      <td>KOKO</td>\n",
              "      <td>GNAMIEN</td>\n",
              "      <td>ABOUHO LIDIVINE</td>\n",
              "      <td>NaN</td>\n",
              "      <td>NaN</td>\n",
              "      <td>ADAHOU AGBOVILLE</td>\n",
              "      <td>BP</td>\n",
              "      <td>ELEVE</td>\n",
              "    </tr>\n",
              "    <tr>\n",
              "      <th>2</th>\n",
              "      <td>NaN</td>\n",
              "      <td>V 0095 5498 80</td>\n",
              "      <td>1</td>\n",
              "      <td>AGBOVILLE</td>\n",
              "      <td>1</td>\n",
              "      <td>AGBOVILLE</td>\n",
              "      <td>1</td>\n",
              "      <td>AGBOVILLE</td>\n",
              "      <td>1</td>\n",
              "      <td>G S ADAHOU EXTENTION 1- 2</td>\n",
              "      <td>...</td>\n",
              "      <td>YAYA SYLVESTRE</td>\n",
              "      <td>01/01/1951</td>\n",
              "      <td>GRAND-ALEPE</td>\n",
              "      <td>AKPOUI</td>\n",
              "      <td>CHIA</td>\n",
              "      <td>14/07/1959</td>\n",
              "      <td>GRAND-ALEPE</td>\n",
              "      <td>ADAHOU EXTENSION</td>\n",
              "      <td>05 BP 2663 ABIDJAN</td>\n",
              "      <td>PROFESSEUR</td>\n",
              "    </tr>\n",
              "    <tr>\n",
              "      <th>3</th>\n",
              "      <td>1.065195e+09</td>\n",
              "      <td>V 0213 5607 77</td>\n",
              "      <td>1</td>\n",
              "      <td>AGBOVILLE</td>\n",
              "      <td>1</td>\n",
              "      <td>AGBOVILLE</td>\n",
              "      <td>1</td>\n",
              "      <td>AGBOVILLE</td>\n",
              "      <td>1</td>\n",
              "      <td>G S ADAHOU EXTENTION 1- 2</td>\n",
              "      <td>...</td>\n",
              "      <td>KOBENAN</td>\n",
              "      <td>NaN</td>\n",
              "      <td>NaN</td>\n",
              "      <td>YAWA</td>\n",
              "      <td>BUO MADELEINE</td>\n",
              "      <td>01/01/1962</td>\n",
              "      <td>GOUMERE</td>\n",
              "      <td>AGBOVILLE ADAHOU EXTENTION</td>\n",
              "      <td>BP</td>\n",
              "      <td>ELEVE</td>\n",
              "    </tr>\n",
              "    <tr>\n",
              "      <th>4</th>\n",
              "      <td>NaN</td>\n",
              "      <td>V 0081 6013 67</td>\n",
              "      <td>1</td>\n",
              "      <td>AGBOVILLE</td>\n",
              "      <td>1</td>\n",
              "      <td>AGBOVILLE</td>\n",
              "      <td>1</td>\n",
              "      <td>AGBOVILLE</td>\n",
              "      <td>1</td>\n",
              "      <td>G S ADAHOU EXTENTION 1- 2</td>\n",
              "      <td>...</td>\n",
              "      <td>AHOU SERAPHIN</td>\n",
              "      <td>30/12/1964</td>\n",
              "      <td>ATTINGUIE ANYAMA</td>\n",
              "      <td>OCHO</td>\n",
              "      <td>N'GBESSO ROSALIE</td>\n",
              "      <td>01/01/1900</td>\n",
              "      <td>AGBOVILLE</td>\n",
              "      <td>ADAHOU EXTENSION</td>\n",
              "      <td>BP</td>\n",
              "      <td>ELEVE FOOTBALEUR</td>\n",
              "    </tr>\n",
              "    <tr>\n",
              "      <th>...</th>\n",
              "      <td>...</td>\n",
              "      <td>...</td>\n",
              "      <td>...</td>\n",
              "      <td>...</td>\n",
              "      <td>...</td>\n",
              "      <td>...</td>\n",
              "      <td>...</td>\n",
              "      <td>...</td>\n",
              "      <td>...</td>\n",
              "      <td>...</td>\n",
              "      <td>...</td>\n",
              "      <td>...</td>\n",
              "      <td>...</td>\n",
              "      <td>...</td>\n",
              "      <td>...</td>\n",
              "      <td>...</td>\n",
              "      <td>...</td>\n",
              "      <td>...</td>\n",
              "      <td>...</td>\n",
              "      <td>...</td>\n",
              "      <td>...</td>\n",
              "    </tr>\n",
              "    <tr>\n",
              "      <th>95</th>\n",
              "      <td>NaN</td>\n",
              "      <td>V 0101 3551 86</td>\n",
              "      <td>1</td>\n",
              "      <td>AGBOVILLE</td>\n",
              "      <td>1</td>\n",
              "      <td>AGBOVILLE</td>\n",
              "      <td>1</td>\n",
              "      <td>AGBOVILLE</td>\n",
              "      <td>1</td>\n",
              "      <td>G S ADAHOU EXTENTION 1- 2</td>\n",
              "      <td>...</td>\n",
              "      <td>KOUAKOU</td>\n",
              "      <td>01/01/1900</td>\n",
              "      <td>INCONNU</td>\n",
              "      <td>KOUAKOU</td>\n",
              "      <td>ASSIE</td>\n",
              "      <td>01/01/1959</td>\n",
              "      <td>ARRAH</td>\n",
              "      <td>ADAHOU EXTENSION</td>\n",
              "      <td>BP</td>\n",
              "      <td>MENAGERE</td>\n",
              "    </tr>\n",
              "    <tr>\n",
              "      <th>96</th>\n",
              "      <td>NaN</td>\n",
              "      <td>V 0094 5530 26</td>\n",
              "      <td>1</td>\n",
              "      <td>AGBOVILLE</td>\n",
              "      <td>1</td>\n",
              "      <td>AGBOVILLE</td>\n",
              "      <td>1</td>\n",
              "      <td>AGBOVILLE</td>\n",
              "      <td>1</td>\n",
              "      <td>G S ADAHOU EXTENTION 1- 2</td>\n",
              "      <td>...</td>\n",
              "      <td>AKA</td>\n",
              "      <td>01/01/1900</td>\n",
              "      <td>DIDIEVI</td>\n",
              "      <td>BASSERI</td>\n",
              "      <td>ADJOUA</td>\n",
              "      <td>01/01/1900</td>\n",
              "      <td>AGBOVILLE</td>\n",
              "      <td>ADAHOU EXTENSION</td>\n",
              "      <td>BP</td>\n",
              "      <td>MENAGERE</td>\n",
              "    </tr>\n",
              "    <tr>\n",
              "      <th>97</th>\n",
              "      <td>NaN</td>\n",
              "      <td>V 0039 1912 34</td>\n",
              "      <td>1</td>\n",
              "      <td>AGBOVILLE</td>\n",
              "      <td>1</td>\n",
              "      <td>AGBOVILLE</td>\n",
              "      <td>1</td>\n",
              "      <td>AGBOVILLE</td>\n",
              "      <td>1</td>\n",
              "      <td>G S ADAHOU EXTENTION 1- 2</td>\n",
              "      <td>...</td>\n",
              "      <td>KOUASSI</td>\n",
              "      <td>01/01/1900</td>\n",
              "      <td>ANDE</td>\n",
              "      <td>YAO</td>\n",
              "      <td>AFFOUE</td>\n",
              "      <td>01/01/1900</td>\n",
              "      <td>BOUAKE</td>\n",
              "      <td>AGBOVILLE ADAHOU EXTENSION</td>\n",
              "      <td>BP</td>\n",
              "      <td>COUTURIERE</td>\n",
              "    </tr>\n",
              "    <tr>\n",
              "      <th>98</th>\n",
              "      <td>NaN</td>\n",
              "      <td>V 0095 5479 14</td>\n",
              "      <td>1</td>\n",
              "      <td>AGBOVILLE</td>\n",
              "      <td>1</td>\n",
              "      <td>AGBOVILLE</td>\n",
              "      <td>1</td>\n",
              "      <td>AGBOVILLE</td>\n",
              "      <td>1</td>\n",
              "      <td>G S ADAHOU EXTENTION 1- 2</td>\n",
              "      <td>...</td>\n",
              "      <td>AKA</td>\n",
              "      <td>01/01/1900</td>\n",
              "      <td>AGBOVILLE</td>\n",
              "      <td>ALLA</td>\n",
              "      <td>MAH HENRIETTE</td>\n",
              "      <td>01/01/1928</td>\n",
              "      <td>ANOUMAMBA M'BATTO</td>\n",
              "      <td>ADAHOU EXTENSION</td>\n",
              "      <td>BP 870 AGBOVILLE</td>\n",
              "      <td>COMMERCANTE</td>\n",
              "    </tr>\n",
              "    <tr>\n",
              "      <th>99</th>\n",
              "      <td>NaN</td>\n",
              "      <td>V 0081 6051 25</td>\n",
              "      <td>1</td>\n",
              "      <td>AGBOVILLE</td>\n",
              "      <td>1</td>\n",
              "      <td>AGBOVILLE</td>\n",
              "      <td>1</td>\n",
              "      <td>AGBOVILLE</td>\n",
              "      <td>1</td>\n",
              "      <td>G S ADAHOU EXTENTION 1- 2</td>\n",
              "      <td>...</td>\n",
              "      <td>OCHOU JULES</td>\n",
              "      <td>16/02/1959</td>\n",
              "      <td>AGBOVILLE</td>\n",
              "      <td>ARRIKO</td>\n",
              "      <td>AWO ROSE</td>\n",
              "      <td>26/08/1970</td>\n",
              "      <td>CECHI</td>\n",
              "      <td>ADAHOU EXTENSION</td>\n",
              "      <td>BP</td>\n",
              "      <td>ELEVE</td>\n",
              "    </tr>\n",
              "  </tbody>\n",
              "</table>\n",
              "<p>100 rows × 28 columns</p>\n",
              "</div>\n",
              "      <button class=\"colab-df-convert\" onclick=\"convertToInteractive('df-8408256b-6bdb-42a0-b6f0-5575419dc3b8')\"\n",
              "              title=\"Convert this dataframe to an interactive table.\"\n",
              "              style=\"display:none;\">\n",
              "        \n",
              "  <svg xmlns=\"http://www.w3.org/2000/svg\" height=\"24px\"viewBox=\"0 0 24 24\"\n",
              "       width=\"24px\">\n",
              "    <path d=\"M0 0h24v24H0V0z\" fill=\"none\"/>\n",
              "    <path d=\"M18.56 5.44l.94 2.06.94-2.06 2.06-.94-2.06-.94-.94-2.06-.94 2.06-2.06.94zm-11 1L8.5 8.5l.94-2.06 2.06-.94-2.06-.94L8.5 2.5l-.94 2.06-2.06.94zm10 10l.94 2.06.94-2.06 2.06-.94-2.06-.94-.94-2.06-.94 2.06-2.06.94z\"/><path d=\"M17.41 7.96l-1.37-1.37c-.4-.4-.92-.59-1.43-.59-.52 0-1.04.2-1.43.59L10.3 9.45l-7.72 7.72c-.78.78-.78 2.05 0 2.83L4 21.41c.39.39.9.59 1.41.59.51 0 1.02-.2 1.41-.59l7.78-7.78 2.81-2.81c.8-.78.8-2.07 0-2.86zM5.41 20L4 18.59l7.72-7.72 1.47 1.35L5.41 20z\"/>\n",
              "  </svg>\n",
              "      </button>\n",
              "      \n",
              "  <style>\n",
              "    .colab-df-container {\n",
              "      display:flex;\n",
              "      flex-wrap:wrap;\n",
              "      gap: 12px;\n",
              "    }\n",
              "\n",
              "    .colab-df-convert {\n",
              "      background-color: #E8F0FE;\n",
              "      border: none;\n",
              "      border-radius: 50%;\n",
              "      cursor: pointer;\n",
              "      display: none;\n",
              "      fill: #1967D2;\n",
              "      height: 32px;\n",
              "      padding: 0 0 0 0;\n",
              "      width: 32px;\n",
              "    }\n",
              "\n",
              "    .colab-df-convert:hover {\n",
              "      background-color: #E2EBFA;\n",
              "      box-shadow: 0px 1px 2px rgba(60, 64, 67, 0.3), 0px 1px 3px 1px rgba(60, 64, 67, 0.15);\n",
              "      fill: #174EA6;\n",
              "    }\n",
              "\n",
              "    [theme=dark] .colab-df-convert {\n",
              "      background-color: #3B4455;\n",
              "      fill: #D2E3FC;\n",
              "    }\n",
              "\n",
              "    [theme=dark] .colab-df-convert:hover {\n",
              "      background-color: #434B5C;\n",
              "      box-shadow: 0px 1px 3px 1px rgba(0, 0, 0, 0.15);\n",
              "      filter: drop-shadow(0px 1px 2px rgba(0, 0, 0, 0.3));\n",
              "      fill: #FFFFFF;\n",
              "    }\n",
              "  </style>\n",
              "\n",
              "      <script>\n",
              "        const buttonEl =\n",
              "          document.querySelector('#df-8408256b-6bdb-42a0-b6f0-5575419dc3b8 button.colab-df-convert');\n",
              "        buttonEl.style.display =\n",
              "          google.colab.kernel.accessAllowed ? 'block' : 'none';\n",
              "\n",
              "        async function convertToInteractive(key) {\n",
              "          const element = document.querySelector('#df-8408256b-6bdb-42a0-b6f0-5575419dc3b8');\n",
              "          const dataTable =\n",
              "            await google.colab.kernel.invokeFunction('convertToInteractive',\n",
              "                                                     [key], {});\n",
              "          if (!dataTable) return;\n",
              "\n",
              "          const docLinkHtml = 'Like what you see? Visit the ' +\n",
              "            '<a target=\"_blank\" href=https://colab.research.google.com/notebooks/data_table.ipynb>data table notebook</a>'\n",
              "            + ' to learn more about interactive tables.';\n",
              "          element.innerHTML = '';\n",
              "          dataTable['output_type'] = 'display_data';\n",
              "          await google.colab.output.renderOutput(dataTable, element);\n",
              "          const docLink = document.createElement('div');\n",
              "          docLink.innerHTML = docLinkHtml;\n",
              "          element.appendChild(docLink);\n",
              "        }\n",
              "      </script>\n",
              "    </div>\n",
              "  </div>\n",
              "  "
            ]
          },
          "metadata": {},
          "execution_count": 9
        }
      ]
    },
    {
      "cell_type": "code",
      "source": [
        "df.tail()"
      ],
      "metadata": {
        "colab": {
          "base_uri": "https://localhost:8080/",
          "height": 543
        },
        "id": "cmZRNq5M6Lxt",
        "outputId": "670202bd-5aea-4df5-a52a-0027b4bfd5bd"
      },
      "execution_count": null,
      "outputs": [
        {
          "output_type": "execute_result",
          "data": {
            "text/plain": [
              "         Numero Formulaire 2021 Numero Electeur  Code Departement  \\\n",
              "7495077            1.065824e+09  V 0102 0582 59               999   \n",
              "7495078            1.065827e+09  V 0026 5371 73               999   \n",
              "7495079            1.065825e+09  V 0102 0499 61               999   \n",
              "7495080            1.065827e+09  V 0203 9534 13               999   \n",
              "7495081            1.065823e+09  V 0216 3083 94               999   \n",
              "\n",
              "        Libelle Departement  Code Sous-Prefecture Libelle Sous-Prefecture  \\\n",
              "7495077            DIASPORA                     3                  EUROPE   \n",
              "7495078            DIASPORA                     3                  EUROPE   \n",
              "7495079            DIASPORA                     3                  EUROPE   \n",
              "7495080            DIASPORA                     3                  EUROPE   \n",
              "7495081            DIASPORA                     3                  EUROPE   \n",
              "\n",
              "         Code Commune Libelle Commune  Code Lieu de Vote Libelle Lieu de Vote  \\\n",
              "7495077            17       ALLEMAGNE                  3              COLOGNE   \n",
              "7495078            17       ALLEMAGNE                  3              COLOGNE   \n",
              "7495079            17       ALLEMAGNE                  3              COLOGNE   \n",
              "7495080            17       ALLEMAGNE                  3              COLOGNE   \n",
              "7495081            17       ALLEMAGNE                  3              COLOGNE   \n",
              "\n",
              "         ...     Prenoms du Pere Date de Naissance du Pere  \\\n",
              "7495077  ...             GEORGES                01/01/1919   \n",
              "7495078  ...        BI N'GUESSAN                26/09/1955   \n",
              "7495079  ...              ALBERT                01/01/1913   \n",
              "7495080  ...              ZIRIKI                06/10/1962   \n",
              "7495081  ...  ZADIMY MARC FIDELE                26/04/1972   \n",
              "\n",
              "        Lieu de Naissance du Pere Nom de la Mere Prenoms de la Mere  \\\n",
              "7495077                 DJATEGNOA          NAKOU       NAKPO DJOGBA   \n",
              "7495078            FERKESSEDOUGOU             YA   LOU KIELA ANGELE   \n",
              "7495079                    TIBOUO           YABO          MADELEINE   \n",
              "7495080                     ISSIA           YORO     MENEHY CHANTAL   \n",
              "7495081                       NaN         DJEDJE         ANNE MARIE   \n",
              "\n",
              "        Date de Naissance de la Mere Lieu de Naissance de la Mere  \\\n",
              "7495077                   01/01/1925                       DOBOUO   \n",
              "7495078                   01/01/1965                      BOUAFLE   \n",
              "7495079                   01/01/1900                          NaN   \n",
              "7495080                   01/01/1972                       SAIOUA   \n",
              "7495081                   01/01/1971                          NaN   \n",
              "\n",
              "                        Adresse Physique   Adresse Postale    Profession  \n",
              "7495077    GEORG-GROSSER-STRASSE 1 50321        BP  BRUEHL     COMPTABLE  \n",
              "7495078                 MASTWEG 88 42349     BP  WUPPERTAL      ETUDIANT  \n",
              "7495079      AM ALTEN STELLWERK 54 50733         BP  KOELN  ENTREPRENEUR  \n",
              "7495080      KLEINE RIEDSTRASSE 6C 68168      BP  MANNHEIM      ETUDIANT  \n",
              "7495081  ADALBER-STIFFE STRASSE 24 71638   BP  LUDWIGSBURG     ETUDIANTE  \n",
              "\n",
              "[5 rows x 28 columns]"
            ],
            "text/html": [
              "\n",
              "  <div id=\"df-f9ecf61b-1e9d-4b20-a213-d4f31df95e53\">\n",
              "    <div class=\"colab-df-container\">\n",
              "      <div>\n",
              "<style scoped>\n",
              "    .dataframe tbody tr th:only-of-type {\n",
              "        vertical-align: middle;\n",
              "    }\n",
              "\n",
              "    .dataframe tbody tr th {\n",
              "        vertical-align: top;\n",
              "    }\n",
              "\n",
              "    .dataframe thead th {\n",
              "        text-align: right;\n",
              "    }\n",
              "</style>\n",
              "<table border=\"1\" class=\"dataframe\">\n",
              "  <thead>\n",
              "    <tr style=\"text-align: right;\">\n",
              "      <th></th>\n",
              "      <th>Numero Formulaire 2021</th>\n",
              "      <th>Numero Electeur</th>\n",
              "      <th>Code Departement</th>\n",
              "      <th>Libelle Departement</th>\n",
              "      <th>Code Sous-Prefecture</th>\n",
              "      <th>Libelle Sous-Prefecture</th>\n",
              "      <th>Code Commune</th>\n",
              "      <th>Libelle Commune</th>\n",
              "      <th>Code Lieu de Vote</th>\n",
              "      <th>Libelle Lieu de Vote</th>\n",
              "      <th>...</th>\n",
              "      <th>Prenoms du Pere</th>\n",
              "      <th>Date de Naissance du Pere</th>\n",
              "      <th>Lieu de Naissance du Pere</th>\n",
              "      <th>Nom de la Mere</th>\n",
              "      <th>Prenoms de la Mere</th>\n",
              "      <th>Date de Naissance de la Mere</th>\n",
              "      <th>Lieu de Naissance de la Mere</th>\n",
              "      <th>Adresse Physique</th>\n",
              "      <th>Adresse Postale</th>\n",
              "      <th>Profession</th>\n",
              "    </tr>\n",
              "  </thead>\n",
              "  <tbody>\n",
              "    <tr>\n",
              "      <th>7495077</th>\n",
              "      <td>1.065824e+09</td>\n",
              "      <td>V 0102 0582 59</td>\n",
              "      <td>999</td>\n",
              "      <td>DIASPORA</td>\n",
              "      <td>3</td>\n",
              "      <td>EUROPE</td>\n",
              "      <td>17</td>\n",
              "      <td>ALLEMAGNE</td>\n",
              "      <td>3</td>\n",
              "      <td>COLOGNE</td>\n",
              "      <td>...</td>\n",
              "      <td>GEORGES</td>\n",
              "      <td>01/01/1919</td>\n",
              "      <td>DJATEGNOA</td>\n",
              "      <td>NAKOU</td>\n",
              "      <td>NAKPO DJOGBA</td>\n",
              "      <td>01/01/1925</td>\n",
              "      <td>DOBOUO</td>\n",
              "      <td>GEORG-GROSSER-STRASSE 1 50321</td>\n",
              "      <td>BP  BRUEHL</td>\n",
              "      <td>COMPTABLE</td>\n",
              "    </tr>\n",
              "    <tr>\n",
              "      <th>7495078</th>\n",
              "      <td>1.065827e+09</td>\n",
              "      <td>V 0026 5371 73</td>\n",
              "      <td>999</td>\n",
              "      <td>DIASPORA</td>\n",
              "      <td>3</td>\n",
              "      <td>EUROPE</td>\n",
              "      <td>17</td>\n",
              "      <td>ALLEMAGNE</td>\n",
              "      <td>3</td>\n",
              "      <td>COLOGNE</td>\n",
              "      <td>...</td>\n",
              "      <td>BI N'GUESSAN</td>\n",
              "      <td>26/09/1955</td>\n",
              "      <td>FERKESSEDOUGOU</td>\n",
              "      <td>YA</td>\n",
              "      <td>LOU KIELA ANGELE</td>\n",
              "      <td>01/01/1965</td>\n",
              "      <td>BOUAFLE</td>\n",
              "      <td>MASTWEG 88 42349</td>\n",
              "      <td>BP  WUPPERTAL</td>\n",
              "      <td>ETUDIANT</td>\n",
              "    </tr>\n",
              "    <tr>\n",
              "      <th>7495079</th>\n",
              "      <td>1.065825e+09</td>\n",
              "      <td>V 0102 0499 61</td>\n",
              "      <td>999</td>\n",
              "      <td>DIASPORA</td>\n",
              "      <td>3</td>\n",
              "      <td>EUROPE</td>\n",
              "      <td>17</td>\n",
              "      <td>ALLEMAGNE</td>\n",
              "      <td>3</td>\n",
              "      <td>COLOGNE</td>\n",
              "      <td>...</td>\n",
              "      <td>ALBERT</td>\n",
              "      <td>01/01/1913</td>\n",
              "      <td>TIBOUO</td>\n",
              "      <td>YABO</td>\n",
              "      <td>MADELEINE</td>\n",
              "      <td>01/01/1900</td>\n",
              "      <td>NaN</td>\n",
              "      <td>AM ALTEN STELLWERK 54 50733</td>\n",
              "      <td>BP  KOELN</td>\n",
              "      <td>ENTREPRENEUR</td>\n",
              "    </tr>\n",
              "    <tr>\n",
              "      <th>7495080</th>\n",
              "      <td>1.065827e+09</td>\n",
              "      <td>V 0203 9534 13</td>\n",
              "      <td>999</td>\n",
              "      <td>DIASPORA</td>\n",
              "      <td>3</td>\n",
              "      <td>EUROPE</td>\n",
              "      <td>17</td>\n",
              "      <td>ALLEMAGNE</td>\n",
              "      <td>3</td>\n",
              "      <td>COLOGNE</td>\n",
              "      <td>...</td>\n",
              "      <td>ZIRIKI</td>\n",
              "      <td>06/10/1962</td>\n",
              "      <td>ISSIA</td>\n",
              "      <td>YORO</td>\n",
              "      <td>MENEHY CHANTAL</td>\n",
              "      <td>01/01/1972</td>\n",
              "      <td>SAIOUA</td>\n",
              "      <td>KLEINE RIEDSTRASSE 6C 68168</td>\n",
              "      <td>BP  MANNHEIM</td>\n",
              "      <td>ETUDIANT</td>\n",
              "    </tr>\n",
              "    <tr>\n",
              "      <th>7495081</th>\n",
              "      <td>1.065823e+09</td>\n",
              "      <td>V 0216 3083 94</td>\n",
              "      <td>999</td>\n",
              "      <td>DIASPORA</td>\n",
              "      <td>3</td>\n",
              "      <td>EUROPE</td>\n",
              "      <td>17</td>\n",
              "      <td>ALLEMAGNE</td>\n",
              "      <td>3</td>\n",
              "      <td>COLOGNE</td>\n",
              "      <td>...</td>\n",
              "      <td>ZADIMY MARC FIDELE</td>\n",
              "      <td>26/04/1972</td>\n",
              "      <td>NaN</td>\n",
              "      <td>DJEDJE</td>\n",
              "      <td>ANNE MARIE</td>\n",
              "      <td>01/01/1971</td>\n",
              "      <td>NaN</td>\n",
              "      <td>ADALBER-STIFFE STRASSE 24 71638</td>\n",
              "      <td>BP  LUDWIGSBURG</td>\n",
              "      <td>ETUDIANTE</td>\n",
              "    </tr>\n",
              "  </tbody>\n",
              "</table>\n",
              "<p>5 rows × 28 columns</p>\n",
              "</div>\n",
              "      <button class=\"colab-df-convert\" onclick=\"convertToInteractive('df-f9ecf61b-1e9d-4b20-a213-d4f31df95e53')\"\n",
              "              title=\"Convert this dataframe to an interactive table.\"\n",
              "              style=\"display:none;\">\n",
              "        \n",
              "  <svg xmlns=\"http://www.w3.org/2000/svg\" height=\"24px\"viewBox=\"0 0 24 24\"\n",
              "       width=\"24px\">\n",
              "    <path d=\"M0 0h24v24H0V0z\" fill=\"none\"/>\n",
              "    <path d=\"M18.56 5.44l.94 2.06.94-2.06 2.06-.94-2.06-.94-.94-2.06-.94 2.06-2.06.94zm-11 1L8.5 8.5l.94-2.06 2.06-.94-2.06-.94L8.5 2.5l-.94 2.06-2.06.94zm10 10l.94 2.06.94-2.06 2.06-.94-2.06-.94-.94-2.06-.94 2.06-2.06.94z\"/><path d=\"M17.41 7.96l-1.37-1.37c-.4-.4-.92-.59-1.43-.59-.52 0-1.04.2-1.43.59L10.3 9.45l-7.72 7.72c-.78.78-.78 2.05 0 2.83L4 21.41c.39.39.9.59 1.41.59.51 0 1.02-.2 1.41-.59l7.78-7.78 2.81-2.81c.8-.78.8-2.07 0-2.86zM5.41 20L4 18.59l7.72-7.72 1.47 1.35L5.41 20z\"/>\n",
              "  </svg>\n",
              "      </button>\n",
              "      \n",
              "  <style>\n",
              "    .colab-df-container {\n",
              "      display:flex;\n",
              "      flex-wrap:wrap;\n",
              "      gap: 12px;\n",
              "    }\n",
              "\n",
              "    .colab-df-convert {\n",
              "      background-color: #E8F0FE;\n",
              "      border: none;\n",
              "      border-radius: 50%;\n",
              "      cursor: pointer;\n",
              "      display: none;\n",
              "      fill: #1967D2;\n",
              "      height: 32px;\n",
              "      padding: 0 0 0 0;\n",
              "      width: 32px;\n",
              "    }\n",
              "\n",
              "    .colab-df-convert:hover {\n",
              "      background-color: #E2EBFA;\n",
              "      box-shadow: 0px 1px 2px rgba(60, 64, 67, 0.3), 0px 1px 3px 1px rgba(60, 64, 67, 0.15);\n",
              "      fill: #174EA6;\n",
              "    }\n",
              "\n",
              "    [theme=dark] .colab-df-convert {\n",
              "      background-color: #3B4455;\n",
              "      fill: #D2E3FC;\n",
              "    }\n",
              "\n",
              "    [theme=dark] .colab-df-convert:hover {\n",
              "      background-color: #434B5C;\n",
              "      box-shadow: 0px 1px 3px 1px rgba(0, 0, 0, 0.15);\n",
              "      filter: drop-shadow(0px 1px 2px rgba(0, 0, 0, 0.3));\n",
              "      fill: #FFFFFF;\n",
              "    }\n",
              "  </style>\n",
              "\n",
              "      <script>\n",
              "        const buttonEl =\n",
              "          document.querySelector('#df-f9ecf61b-1e9d-4b20-a213-d4f31df95e53 button.colab-df-convert');\n",
              "        buttonEl.style.display =\n",
              "          google.colab.kernel.accessAllowed ? 'block' : 'none';\n",
              "\n",
              "        async function convertToInteractive(key) {\n",
              "          const element = document.querySelector('#df-f9ecf61b-1e9d-4b20-a213-d4f31df95e53');\n",
              "          const dataTable =\n",
              "            await google.colab.kernel.invokeFunction('convertToInteractive',\n",
              "                                                     [key], {});\n",
              "          if (!dataTable) return;\n",
              "\n",
              "          const docLinkHtml = 'Like what you see? Visit the ' +\n",
              "            '<a target=\"_blank\" href=https://colab.research.google.com/notebooks/data_table.ipynb>data table notebook</a>'\n",
              "            + ' to learn more about interactive tables.';\n",
              "          element.innerHTML = '';\n",
              "          dataTable['output_type'] = 'display_data';\n",
              "          await google.colab.output.renderOutput(dataTable, element);\n",
              "          const docLink = document.createElement('div');\n",
              "          docLink.innerHTML = docLinkHtml;\n",
              "          element.appendChild(docLink);\n",
              "        }\n",
              "      </script>\n",
              "    </div>\n",
              "  </div>\n",
              "  "
            ]
          },
          "metadata": {},
          "execution_count": 10
        }
      ]
    },
    {
      "cell_type": "code",
      "source": [
        "df.columns"
      ],
      "metadata": {
        "colab": {
          "base_uri": "https://localhost:8080/"
        },
        "id": "VBUPMuoW6ma9",
        "outputId": "f28e26b9-97fc-41a7-e9b3-4c0de117ff15"
      },
      "execution_count": null,
      "outputs": [
        {
          "output_type": "execute_result",
          "data": {
            "text/plain": [
              "Index(['Numero Formulaire 2021', 'Numero Electeur', 'Code Departement',\n",
              "       'Libelle Departement', 'Code Sous-Prefecture',\n",
              "       'Libelle Sous-Prefecture', 'Code Commune', 'Libelle Commune',\n",
              "       'Code Lieu de Vote', 'Libelle Lieu de Vote', 'Bureau de vote',\n",
              "       'Nom/Nom de Jeune Fille', 'Nom d'Epouse', 'Prenoms', 'Sexe',\n",
              "       'Date de Naissance', 'Lieu de Naissance', 'Nom du Pere',\n",
              "       'Prenoms du Pere', 'Date de Naissance du Pere',\n",
              "       'Lieu de Naissance du Pere', 'Nom de la Mere', 'Prenoms de la Mere',\n",
              "       'Date de Naissance de la Mere', 'Lieu de Naissance de la Mere',\n",
              "       'Adresse Physique', 'Adresse Postale', 'Profession'],\n",
              "      dtype='object')"
            ]
          },
          "metadata": {},
          "execution_count": 11
        }
      ]
    },
    {
      "cell_type": "markdown",
      "source": [
        "# List of the variables \n",
        "\n",
        "*   ['Numero Formulaire 2021;  Number of Form if registered in 2020\n",
        "*   \"Numero Electeur\";     **Voter Number** \n",
        "*   \"Code Departement\";\n",
        "*   \"Libelle Departement\";\n",
        "*   \"Code Sous-Prefecture\";\n",
        "*   \"Libelle Sous-Prefecture\";\n",
        "*   \"Code Commune\";\n",
        "*   \"Libelle Commune\";\n",
        "*   \"Code Lieu de Vote\";\n",
        "*   \"Libelle Lieu de Vote\";\n",
        "*   \"Bureau de vote\";   \n",
        "*   \"Nom/Nom de Jeune Fille\";  **LAST  NAMES** (maiden)\n",
        "*   \"Nom d'Epouse\";    Name of Spouse \n",
        "*   \"Prenoms\";   **FIRST Names**\n",
        "*   \"Sexe\";\n",
        "*   \"Date de Naissance\";   **Date of Birth**\n",
        "*   \"Lieu de Naissance\";  Place of Birth \n",
        "*   \"Nom du Pere\";    Father Last name \n",
        "*   \"Prenoms du Pere\";  Father first name\n",
        "*   \"Date de Naissance du Pere\"; \n",
        "*   \"Lieu de Naissance du Pere\";\n",
        "*   \"Nom de la Mere\";\n",
        "*   \"Prenoms de la Mere\";\n",
        "*   \"Date de Naissance de la Mere\";\n",
        "*   \"Lieu de Naissance de la Mere\";\n",
        "*   \"Adresse Physique\"; Physical Address\n",
        "*   \"Adresse Postale\";  Postal address \n",
        "*   \"Profession\"'\n",
        "\n"
      ],
      "metadata": {
        "id": "iOeW2EMaU-xW"
      }
    },
    {
      "cell_type": "markdown",
      "metadata": {
        "id": "hORGrtROPUQs"
      },
      "source": [
        "<a name=\"missing\"></a>\n",
        "# Checking the missing values on the complete dataset"
      ]
    },
    {
      "cell_type": "markdown",
      "metadata": {
        "id": "gCHeZZoMPUQt"
      },
      "source": [
        "This will give use the number of missing (null) values for each column"
      ]
    },
    {
      "cell_type": "code",
      "metadata": {
        "scrolled": true,
        "id": "qLzuh84JPUQu",
        "colab": {
          "base_uri": "https://localhost:8080/"
        },
        "outputId": "eba0bb9d-fc0d-4ea0-d42e-75fe0f34306d"
      },
      "source": [
        "print(df.isnull().sum())\n",
        "print(f\"Total records is {ttlrec}\")"
      ],
      "execution_count": null,
      "outputs": [
        {
          "output_type": "stream",
          "name": "stdout",
          "text": [
            "Numero Formulaire 2021          5845313\n",
            "Numero Electeur                       0\n",
            "Code Departement                      0\n",
            "Libelle Departement                   0\n",
            "Code Sous-Prefecture                  0\n",
            "Libelle Sous-Prefecture               0\n",
            "Code Commune                          0\n",
            "Libelle Commune                       0\n",
            "Code Lieu de Vote                     0\n",
            "Libelle Lieu de Vote                  0\n",
            "Bureau de vote                        0\n",
            "Nom/Nom de Jeune Fille               67\n",
            "Nom d'Epouse                    7284926\n",
            "Prenoms                              65\n",
            "Sexe                                  0\n",
            "Date de Naissance                     0\n",
            "Lieu de Naissance                  3153\n",
            "Nom du Pere                          95\n",
            "Prenoms du Pere                  222512\n",
            "Date de Naissance du Pere        843843\n",
            "Lieu de Naissance du Pere        946177\n",
            "Nom de la Mere                      191\n",
            "Prenoms de la Mere               218522\n",
            "Date de Naissance de la Mere     915303\n",
            "Lieu de Naissance de la Mere    1060225\n",
            "Adresse Physique                      0\n",
            "Adresse Postale                       0\n",
            "Profession                         7386\n",
            "dtype: int64\n",
            "Total records is 7495082\n"
          ]
        }
      ]
    },
    {
      "cell_type": "code",
      "source": [
        "7284926 / ttlrec"
      ],
      "metadata": {
        "colab": {
          "base_uri": "https://localhost:8080/"
        },
        "id": "8yg2DndL8fz0",
        "outputId": "a7f1d7b2-9662-4607-ad03-52f17f158942"
      },
      "execution_count": null,
      "outputs": [
        {
          "output_type": "execute_result",
          "data": {
            "text/plain": [
              "0.9719608137709501"
            ]
          },
          "metadata": {},
          "execution_count": 13
        }
      ]
    },
    {
      "cell_type": "markdown",
      "source": [
        "Question: do the 67 nulls in Nom overlap with the 65 in Prenom?\n",
        "\n",
        "\n",
        "Filter by the 67 nulls in 'Nom/Nom de Jeune Fille'"
      ],
      "metadata": {
        "id": "sPAw2Tzk9YMy"
      }
    },
    {
      "cell_type": "code",
      "source": [
        "df['Nom/Nom de Jeune Fille']"
      ],
      "metadata": {
        "colab": {
          "base_uri": "https://localhost:8080/"
        },
        "id": "ljWuSl5j7aEK",
        "outputId": "d8386f24-da42-4396-8d68-5def12bb54d5"
      },
      "execution_count": null,
      "outputs": [
        {
          "output_type": "execute_result",
          "data": {
            "text/plain": [
              "0                 ABAH\n",
              "1                 ABBA\n",
              "2                 ABBE\n",
              "3                  ABO\n",
              "4                 ABOH\n",
              "              ...     \n",
              "7495077    ZAGBALLOUNE\n",
              "7495078            ZAN\n",
              "7495079         ZIKEHI\n",
              "7495080         ZIRIHI\n",
              "7495081           ZOPO\n",
              "Name: Nom/Nom de Jeune Fille, Length: 7495082, dtype: object"
            ]
          },
          "metadata": {},
          "execution_count": 39
        }
      ]
    },
    {
      "cell_type": "code",
      "source": [
        "nomnulldf = df[df['Nom/Nom de Jeune Fille'].isna()]"
      ],
      "metadata": {
        "id": "Tv9pSwx49g5-"
      },
      "execution_count": null,
      "outputs": []
    },
    {
      "cell_type": "code",
      "source": [
        "nomnulldf.head(67)"
      ],
      "metadata": {
        "id": "EeA7scVH-Kin"
      },
      "execution_count": null,
      "outputs": []
    },
    {
      "cell_type": "markdown",
      "source": [
        "Take the new dataframe of null noms and filter to see teh records where the Prenoms is also null "
      ],
      "metadata": {
        "id": "CVQCvxia-Tba"
      }
    },
    {
      "cell_type": "code",
      "source": [
        "nomnulldf[nomnulldf['Prenoms'].isna()]"
      ],
      "metadata": {
        "id": "Bj67bT_E9XHf"
      },
      "execution_count": null,
      "outputs": []
    },
    {
      "cell_type": "code",
      "source": [
        "nomnulldf['Prenoms']"
      ],
      "metadata": {
        "id": "rlfgzCYK-v96"
      },
      "execution_count": null,
      "outputs": []
    },
    {
      "cell_type": "markdown",
      "source": [
        "So the null Prenoms do NOT overlap with the null Noms "
      ],
      "metadata": {
        "id": "pLoQFKuz_se_"
      }
    },
    {
      "cell_type": "markdown",
      "metadata": {
        "id": "Jw7-dLwNPUQx"
      },
      "source": [
        "This will give us a count of non-null values for each column (opposite fo null) \n"
      ]
    },
    {
      "cell_type": "markdown",
      "source": [
        "## Let's look at entries for 'Adresse Physique'"
      ],
      "metadata": {
        "id": "y06P59VrAYxJ"
      }
    },
    {
      "cell_type": "code",
      "source": [
        "df['Adresse Physique']"
      ],
      "metadata": {
        "id": "rMqnwXeMA2G1"
      },
      "execution_count": null,
      "outputs": []
    },
    {
      "cell_type": "markdown",
      "source": [
        "## Let's look at Adresse Postale "
      ],
      "metadata": {
        "id": "6DVjWC3EB3WX"
      }
    },
    {
      "cell_type": "code",
      "source": [
        "df['Adresse Postale']"
      ],
      "metadata": {
        "id": "xiBJWZXPCIKf"
      },
      "execution_count": null,
      "outputs": []
    },
    {
      "cell_type": "code",
      "source": [
        "df['Adresse Postale-trim'] = df['Adresse Postale'].str.strip()"
      ],
      "metadata": {
        "id": "wi-SAt4PCwGU"
      },
      "execution_count": null,
      "outputs": []
    },
    {
      "cell_type": "markdown",
      "source": [],
      "metadata": {
        "id": "4DOmK2fdDffv"
      }
    },
    {
      "cell_type": "markdown",
      "source": [
        "Let's create a new column for Adresse Postale where the whitespace is trimmed from the beginning and the end (removed) so we can them look for just \"BP\""
      ],
      "metadata": {
        "id": "BfKPe5d2C-nh"
      }
    },
    {
      "cell_type": "code",
      "source": [
        "df[df['Adresse Postale-trim'] == \"BP\"]"
      ],
      "metadata": {
        "id": "HKxN2BH8B8Ua"
      },
      "execution_count": null,
      "outputs": []
    },
    {
      "cell_type": "markdown",
      "source": [
        "Looking at the null/missing for Nom de la Mere\n",
        "\n",
        "we will filter down to the records that are missing for that adn set it as it's own dataframe"
      ],
      "metadata": {
        "id": "7NoutfrlEKhi"
      }
    },
    {
      "cell_type": "code",
      "source": [
        "nommeredf = df[df['Nom de la Mere'].isna()]"
      ],
      "metadata": {
        "id": "wtEKh1BzEJ7j"
      },
      "execution_count": null,
      "outputs": []
    },
    {
      "cell_type": "code",
      "source": [
        "nommeredf.shape"
      ],
      "metadata": {
        "id": "ZsQLVSZrE9Kn"
      },
      "execution_count": null,
      "outputs": []
    },
    {
      "cell_type": "code",
      "source": [
        "nommeredf.head(100)"
      ],
      "metadata": {
        "id": "XJgerIDOEk83"
      },
      "execution_count": null,
      "outputs": []
    },
    {
      "cell_type": "code",
      "metadata": {
        "id": "HVbHkxRmPUQz"
      },
      "source": [
        "df.count()"
      ],
      "execution_count": null,
      "outputs": []
    },
    {
      "cell_type": "markdown",
      "metadata": {
        "id": "enKmaqhHPURv"
      },
      "source": [
        "<a name=\"dups\"></a>\n",
        "#  Duplicate and unique records</h1>\n",
        "Let's check for the number of unique entries in specific column like 'Numero Electeur'"
      ]
    },
    {
      "cell_type": "code",
      "source": [
        "print(\"Number of unique is: \")\n",
        "print(df['Numero Electeur'].nunique())\n",
        "print(\"Total records is :\", ttlrec)"
      ],
      "metadata": {
        "colab": {
          "base_uri": "https://localhost:8080/"
        },
        "id": "CP9sb62kbdsZ",
        "outputId": "abe1e200-5101-401f-ffb2-40a3e0eefeff"
      },
      "execution_count": null,
      "outputs": [
        {
          "output_type": "stream",
          "name": "stdout",
          "text": [
            "Number of unique is: \n",
            "7495082\n",
            "Total records is : 7495082\n"
          ]
        }
      ]
    },
    {
      "cell_type": "code",
      "source": [
        "df['Numero Electeur'].unique()"
      ],
      "metadata": {
        "colab": {
          "base_uri": "https://localhost:8080/"
        },
        "id": "ostPh5icknGz",
        "outputId": "03eabe38-b174-49bd-92ba-497777fccfba"
      },
      "execution_count": null,
      "outputs": [
        {
          "output_type": "execute_result",
          "data": {
            "text/plain": [
              "array(['V 0065 2924 53', 'V 0204 5947 41', 'V 0095 5498 80', ...,\n",
              "       'V 0102 0499 61', 'V 0203 9534 13', 'V 0216 3083 94'], dtype=object)"
            ]
          },
          "metadata": {},
          "execution_count": 15
        }
      ]
    },
    {
      "cell_type": "code",
      "source": [
        "df['fil-prenom'] = df['Nom/Nom de Jeune Fille'] + '-' + df['Prenoms'] "
      ],
      "metadata": {
        "id": "n9mFahGqbdqV"
      },
      "execution_count": null,
      "outputs": []
    },
    {
      "cell_type": "markdown",
      "source": [
        "Now let's get a count of the unique in the column"
      ],
      "metadata": {
        "id": "LqTt4x_dcz19"
      }
    },
    {
      "cell_type": "code",
      "source": [
        "df['fil-prenom'].nunique()"
      ],
      "metadata": {
        "colab": {
          "base_uri": "https://localhost:8080/"
        },
        "id": "R7u0VDHSvtoz",
        "outputId": "2cc3d89f-daef-4be7-963e-ae98514e59d2"
      },
      "execution_count": null,
      "outputs": [
        {
          "output_type": "execute_result",
          "data": {
            "text/plain": [
              "4339177"
            ]
          },
          "metadata": {},
          "execution_count": 41
        }
      ]
    },
    {
      "cell_type": "markdown",
      "source": [
        "Let's preview the unique in the column "
      ],
      "metadata": {
        "id": "70LlQEGJc4Cf"
      }
    },
    {
      "cell_type": "code",
      "source": [
        "df['fil-prenom'].unique()"
      ],
      "metadata": {
        "colab": {
          "base_uri": "https://localhost:8080/"
        },
        "id": "RZabDYGYc3hr",
        "outputId": "4550b50d-84e5-4bc4-9449-b4d61196742f"
      },
      "execution_count": null,
      "outputs": [
        {
          "output_type": "execute_result",
          "data": {
            "text/plain": [
              "array(['ABAH-MARIE EDWIGE', 'ABBA-ATTOWLA HERMANN CEDRICK',\n",
              "       'ABBE-YAYA CAROLINE', ..., 'ZIKEHI-HILAIRE',\n",
              "       'ZIRIHI-KESSIE CYRILLE', \"ZOPO-LOU N'GUESSAN MOREL\"], dtype=object)"
            ]
          },
          "metadata": {},
          "execution_count": 18
        }
      ]
    },
    {
      "cell_type": "markdown",
      "source": [
        "Let's see how many unique with concatenating 3 variables "
      ],
      "metadata": {
        "id": "OVXWUsLSvV5q"
      }
    },
    {
      "cell_type": "code",
      "source": [
        "df['fil_pre_dob'] = df['Nom/Nom de Jeune Fille'] + '-' + df['Prenoms'] + '-' + df['Date de Naissance'].astype(str)"
      ],
      "metadata": {
        "id": "AwUqqn2Tvcg2"
      },
      "execution_count": null,
      "outputs": []
    },
    {
      "cell_type": "code",
      "source": [
        "df['fil_pre_dob'].nunique()"
      ],
      "metadata": {
        "colab": {
          "base_uri": "https://localhost:8080/"
        },
        "id": "qE9aWUJbwNdz",
        "outputId": "8abb2e82-8bee-440f-d072-5aa8c3b7a08c"
      },
      "execution_count": null,
      "outputs": [
        {
          "output_type": "execute_result",
          "data": {
            "text/plain": [
              "7111192"
            ]
          },
          "metadata": {},
          "execution_count": 44
        }
      ]
    },
    {
      "cell_type": "markdown",
      "source": [
        "The new variable has 7,111,192 unique records "
      ],
      "metadata": {
        "id": "XhvaIiblvn5T"
      }
    },
    {
      "cell_type": "markdown",
      "source": [
        "Now let's examine Bureau "
      ],
      "metadata": {
        "id": "M2aDQ4QWwzL6"
      }
    },
    {
      "cell_type": "code",
      "source": [
        "df['Bureau de vote'].nunique()"
      ],
      "metadata": {
        "colab": {
          "base_uri": "https://localhost:8080/"
        },
        "id": "fqeuKxRxzdHl",
        "outputId": "35d5f2d0-a00e-47f0-aa68-224f7b53dc97"
      },
      "execution_count": null,
      "outputs": [
        {
          "output_type": "execute_result",
          "data": {
            "text/plain": [
              "68"
            ]
          },
          "metadata": {},
          "execution_count": 45
        }
      ]
    },
    {
      "cell_type": "markdown",
      "source": [
        "Creating a new colum with unique ID for each Bureau de vote \"b-id\"\n",
        "\n",
        "Code Departement                  int64\n",
        "Code Sous-Prefecture              int64\n",
        "Code Commune                      int64\n",
        "Code Lieu de Vote                 int64\n",
        "Bureau de vote                    int64"
      ],
      "metadata": {
        "id": "ZCqPCLWQxCnJ"
      }
    },
    {
      "cell_type": "code",
      "source": [
        "df['b-id'] = df['Code Departement'].astype(str) +\"-\"+ df['Code Sous-Prefecture'].astype(str) + \"-\" + df['Code Lieu de Vote'].astype(str) + \"-\" +  df[\"Bureau de vote\"].astype(str)"
      ],
      "metadata": {
        "id": "9MUdWSjKw-H6"
      },
      "execution_count": null,
      "outputs": []
    },
    {
      "cell_type": "code",
      "source": [
        "df['b-id'].nunique()"
      ],
      "metadata": {
        "colab": {
          "base_uri": "https://localhost:8080/"
        },
        "id": "3s-NAMQJzdJs",
        "outputId": "00d233b0-51d8-4279-95ea-a727f5852b1d"
      },
      "execution_count": null,
      "outputs": [
        {
          "output_type": "execute_result",
          "data": {
            "text/plain": [
              "16874"
            ]
          },
          "metadata": {},
          "execution_count": 49
        }
      ]
    },
    {
      "cell_type": "markdown",
      "source": [
        "Number of unique Department codes "
      ],
      "metadata": {
        "id": "jmrhvEWkzm6K"
      }
    },
    {
      "cell_type": "code",
      "source": [
        "df['Code Departement'].nunique()"
      ],
      "metadata": {
        "colab": {
          "base_uri": "https://localhost:8080/"
        },
        "id": "Qq0c1-VVzf7h",
        "outputId": "5cc4d0e3-8307-4e55-c653-c979c6a48cbb"
      },
      "execution_count": null,
      "outputs": [
        {
          "output_type": "execute_result",
          "data": {
            "text/plain": [
              "109"
            ]
          },
          "metadata": {},
          "execution_count": 50
        }
      ]
    },
    {
      "cell_type": "code",
      "source": [
        "df['Libelle Departement'].nunique()"
      ],
      "metadata": {
        "colab": {
          "base_uri": "https://localhost:8080/"
        },
        "id": "GI7ETZLqzf_9",
        "outputId": "c796e12f-870f-4918-f118-1e10f1bf240c"
      },
      "execution_count": null,
      "outputs": [
        {
          "output_type": "execute_result",
          "data": {
            "text/plain": [
              "109"
            ]
          },
          "metadata": {},
          "execution_count": 52
        }
      ]
    },
    {
      "cell_type": "code",
      "source": [
        "df['Code Sous-Prefecture'].nunique()"
      ],
      "metadata": {
        "colab": {
          "base_uri": "https://localhost:8080/"
        },
        "id": "xfzQH8oNzgEC",
        "outputId": "06fbb287-5df3-48fb-bdda-06e33239d485"
      },
      "execution_count": null,
      "outputs": [
        {
          "output_type": "execute_result",
          "data": {
            "text/plain": [
              "23"
            ]
          },
          "metadata": {},
          "execution_count": 55
        }
      ]
    },
    {
      "cell_type": "code",
      "source": [
        "df['Libelle Sous-Prefecture'].nunique()"
      ],
      "metadata": {
        "colab": {
          "base_uri": "https://localhost:8080/"
        },
        "id": "qolQ-ahZzgGk",
        "outputId": "0c39c85b-fd76-4d5f-a082-53891de6021d"
      },
      "execution_count": null,
      "outputs": [
        {
          "output_type": "execute_result",
          "data": {
            "text/plain": [
              "507"
            ]
          },
          "metadata": {},
          "execution_count": 54
        }
      ]
    },
    {
      "cell_type": "markdown",
      "source": [
        "The number of unique 'Name of Prefecture' makes more sense at 507"
      ],
      "metadata": {
        "id": "XUPTLM5m1LXp"
      }
    },
    {
      "cell_type": "code",
      "source": [
        "df['Code Commune'].nunique()"
      ],
      "metadata": {
        "colab": {
          "base_uri": "https://localhost:8080/"
        },
        "id": "nvB5QR1Z0MHZ",
        "outputId": "e52a5c82-c024-42ec-95fc-61f1648f85ac"
      },
      "execution_count": null,
      "outputs": [
        {
          "output_type": "execute_result",
          "data": {
            "text/plain": [
              "18"
            ]
          },
          "metadata": {},
          "execution_count": 56
        }
      ]
    },
    {
      "cell_type": "code",
      "source": [
        "df['Libelle Commune'].nunique()"
      ],
      "metadata": {
        "colab": {
          "base_uri": "https://localhost:8080/"
        },
        "id": "mCG5X8W70MKI",
        "outputId": "72f05616-f95e-4dd0-c285-b1e9f20ce6aa"
      },
      "execution_count": null,
      "outputs": [
        {
          "output_type": "execute_result",
          "data": {
            "text/plain": [
              "538"
            ]
          },
          "metadata": {},
          "execution_count": 57
        }
      ]
    },
    {
      "cell_type": "code",
      "source": [
        "df['Code Lieu de Vote'].nunique()"
      ],
      "metadata": {
        "colab": {
          "base_uri": "https://localhost:8080/"
        },
        "id": "DZ6j86He0MNT",
        "outputId": "699aa7c2-4c86-41cd-fd12-275c33cb2a74"
      },
      "execution_count": null,
      "outputs": [
        {
          "output_type": "execute_result",
          "data": {
            "text/plain": [
              "173"
            ]
          },
          "metadata": {},
          "execution_count": 58
        }
      ]
    },
    {
      "cell_type": "markdown",
      "source": [
        "But that code seems too few "
      ],
      "metadata": {
        "id": "fdUJ5AJY1cuO"
      }
    },
    {
      "cell_type": "code",
      "source": [
        "df['Code Lieu de Vote'].head()"
      ],
      "metadata": {
        "colab": {
          "base_uri": "https://localhost:8080/"
        },
        "id": "S8eYWPTA1biU",
        "outputId": "b712da7a-38f8-4d85-af1f-811376679fd0"
      },
      "execution_count": null,
      "outputs": [
        {
          "output_type": "execute_result",
          "data": {
            "text/plain": [
              "0    1\n",
              "1    1\n",
              "2    1\n",
              "3    1\n",
              "4    1\n",
              "Name: Code Lieu de Vote, dtype: int64"
            ]
          },
          "metadata": {},
          "execution_count": 64
        }
      ]
    },
    {
      "cell_type": "code",
      "source": [
        "df['Libelle Lieu de Vote'].nunique()"
      ],
      "metadata": {
        "colab": {
          "base_uri": "https://localhost:8080/"
        },
        "id": "JbD9N5kr0ozi",
        "outputId": "f02e657e-d377-42d8-8ed5-6d2f08cdebe5"
      },
      "execution_count": null,
      "outputs": [
        {
          "output_type": "execute_result",
          "data": {
            "text/plain": [
              "10077"
            ]
          },
          "metadata": {},
          "execution_count": 59
        }
      ]
    },
    {
      "cell_type": "code",
      "source": [
        "df['Libelle Lieu de Vote'].head(20)"
      ],
      "metadata": {
        "colab": {
          "base_uri": "https://localhost:8080/"
        },
        "id": "NSeUYdBu1WYi",
        "outputId": "23c52273-3570-4278-94b3-9abd770ae746"
      },
      "execution_count": null,
      "outputs": [
        {
          "output_type": "execute_result",
          "data": {
            "text/plain": [
              "0     G S ADAHOU EXTENTION 1- 2\n",
              "1     G S ADAHOU EXTENTION 1- 2\n",
              "2     G S ADAHOU EXTENTION 1- 2\n",
              "3     G S ADAHOU EXTENTION 1- 2\n",
              "4     G S ADAHOU EXTENTION 1- 2\n",
              "5     G S ADAHOU EXTENTION 1- 2\n",
              "6     G S ADAHOU EXTENTION 1- 2\n",
              "7     G S ADAHOU EXTENTION 1- 2\n",
              "8     G S ADAHOU EXTENTION 1- 2\n",
              "9     G S ADAHOU EXTENTION 1- 2\n",
              "10    G S ADAHOU EXTENTION 1- 2\n",
              "11    G S ADAHOU EXTENTION 1- 2\n",
              "12    G S ADAHOU EXTENTION 1- 2\n",
              "13    G S ADAHOU EXTENTION 1- 2\n",
              "14    G S ADAHOU EXTENTION 1- 2\n",
              "15    G S ADAHOU EXTENTION 1- 2\n",
              "16    G S ADAHOU EXTENTION 1- 2\n",
              "17    G S ADAHOU EXTENTION 1- 2\n",
              "18    G S ADAHOU EXTENTION 1- 2\n",
              "19    G S ADAHOU EXTENTION 1- 2\n",
              "Name: Libelle Lieu de Vote, dtype: object"
            ]
          },
          "metadata": {},
          "execution_count": 65
        }
      ]
    },
    {
      "cell_type": "code",
      "source": [
        "df[\"Bureau de vote\"].nunique()"
      ],
      "metadata": {
        "colab": {
          "base_uri": "https://localhost:8080/"
        },
        "id": "TaRBS2Q30o9G",
        "outputId": "41c8395a-aa17-4d76-8926-e8efe41b78d7"
      },
      "execution_count": null,
      "outputs": [
        {
          "output_type": "execute_result",
          "data": {
            "text/plain": [
              "68"
            ]
          },
          "metadata": {},
          "execution_count": 60
        }
      ]
    },
    {
      "cell_type": "markdown",
      "source": [
        "re-assign to the variable 'b-id' using Libelle Sous-Prefecture plus Libelle Lieu de Vote plus Bureau de vote"
      ],
      "metadata": {
        "id": "ZFUcHPkz13vS"
      }
    },
    {
      "cell_type": "code",
      "source": [
        "df['b-id'] = df['Libelle Sous-Prefecture'] + \"-\" + df['Libelle Lieu de Vote'] + \"-\" +  df[\"Bureau de vote\"].astype(str)"
      ],
      "metadata": {
        "id": "1DjWijC700Tu"
      },
      "execution_count": null,
      "outputs": []
    },
    {
      "cell_type": "code",
      "source": [
        "df['b-id'].nunique()"
      ],
      "metadata": {
        "colab": {
          "base_uri": "https://localhost:8080/"
        },
        "id": "MDgjohtO06Qh",
        "outputId": "f84e073b-50e4-4802-8133-d8a0e37a900a"
      },
      "execution_count": null,
      "outputs": [
        {
          "output_type": "execute_result",
          "data": {
            "text/plain": [
              "22322"
            ]
          },
          "metadata": {},
          "execution_count": 67
        }
      ]
    },
    {
      "cell_type": "code",
      "source": [
        "df['b-id'] = df['Code Departement'].astype(str) + \"-\"+ df['Libelle Commune'] + \"-\" + df['Libelle Sous-Prefecture'] + \"-\" + df['Libelle Lieu de Vote'] + \"-\" +  df[\"Bureau de vote\"].astype(str)"
      ],
      "metadata": {
        "id": "WGXTvRBM17TM"
      },
      "execution_count": null,
      "outputs": []
    },
    {
      "cell_type": "code",
      "source": [
        "df['b-id'].nunique()"
      ],
      "metadata": {
        "colab": {
          "base_uri": "https://localhost:8080/"
        },
        "id": "DwRH0-1D00Xr",
        "outputId": "dd6e1ba1-5acb-49ce-acc4-05cc99fe9589"
      },
      "execution_count": null,
      "outputs": [
        {
          "output_type": "execute_result",
          "data": {
            "text/plain": [
              "22370"
            ]
          },
          "metadata": {},
          "execution_count": 71
        }
      ]
    },
    {
      "cell_type": "markdown",
      "source": [
        "We hoped for 22381 bureaus but got to 22370. So now we save a list of those so we can compare it later. "
      ],
      "metadata": {
        "id": "iumxrrDB25-R"
      }
    },
    {
      "cell_type": "markdown",
      "source": [
        "# Saving Bureau list "
      ],
      "metadata": {
        "id": "neiFGPsP3oeU"
      }
    },
    {
      "cell_type": "code",
      "source": [
        "bcount = df.groupby('b-id').size(); bcount"
      ],
      "metadata": {
        "colab": {
          "base_uri": "https://localhost:8080/"
        },
        "id": "wDeJqp1a0MQQ",
        "outputId": "9ac588d1-fcb9-4ac2-8e6b-7e1ab3c6dca6"
      },
      "execution_count": null,
      "outputs": [
        {
          "output_type": "execute_result",
          "data": {
            "text/plain": [
              "b-id\n",
              "1-ABOUDE-ABOUDE-EPP ABOUDE-KOUASSIKRO I-1     402\n",
              "1-ABOUDE-ABOUDE-EPP ABOUDE-KOUASSIKRO I-2     400\n",
              "1-ABOUDE-ABOUDE-EPP ABOUDE-KOUASSIKRO I-3     400\n",
              "1-ABOUDE-ABOUDE-EPP ABOUDE-KOUASSIKRO II-1    416\n",
              "1-ABOUDE-ABOUDE-EPP ABOUDE-KOUASSIKRO II-2    415\n",
              "                                             ... \n",
              "999-TUNISIE-AFRIQUE-TUNIS-4                   408\n",
              "999-TUNISIE-AFRIQUE-TUNIS-5                   408\n",
              "999-TUNISIE-AFRIQUE-TUNIS-6                   408\n",
              "999-TUNISIE-AFRIQUE-TUNIS-7                   408\n",
              "999-TUNISIE-AFRIQUE-TUNIS-8                   408\n",
              "Length: 22370, dtype: int64"
            ]
          },
          "metadata": {},
          "execution_count": 72
        }
      ]
    },
    {
      "cell_type": "code",
      "source": [
        "bcount = bcount.to_frame().reset_index()"
      ],
      "metadata": {
        "id": "8Q8DpAkq3ihM"
      },
      "execution_count": null,
      "outputs": []
    },
    {
      "cell_type": "markdown",
      "source": [
        "Let's view the names of our columns"
      ],
      "metadata": {
        "id": "4wv3vQa-4IO1"
      }
    },
    {
      "cell_type": "code",
      "source": [
        "bcount.columns"
      ],
      "metadata": {
        "colab": {
          "base_uri": "https://localhost:8080/"
        },
        "id": "5VphIae-4C-k",
        "outputId": "b76dc913-ff94-40e3-d6b5-1eb799cc3c5c"
      },
      "execution_count": null,
      "outputs": [
        {
          "output_type": "execute_result",
          "data": {
            "text/plain": [
              "Index(['b-id', 0], dtype='object')"
            ]
          },
          "metadata": {},
          "execution_count": 77
        }
      ]
    },
    {
      "cell_type": "markdown",
      "source": [
        "Rename teh column called 0 to numVoters "
      ],
      "metadata": {
        "id": "VtH6heZh4Lwf"
      }
    },
    {
      "cell_type": "code",
      "source": [
        "bcount.rename(columns={0: 'numVoters'}, inplace=True)"
      ],
      "metadata": {
        "id": "PigBJPZR4DBO"
      },
      "execution_count": null,
      "outputs": []
    },
    {
      "cell_type": "code",
      "source": [
        "bcount.describe()"
      ],
      "metadata": {
        "colab": {
          "base_uri": "https://localhost:8080/",
          "height": 300
        },
        "id": "lFbKiWet4LgB",
        "outputId": "c887d616-3f55-4bdd-988e-89dec91b8abf"
      },
      "execution_count": null,
      "outputs": [
        {
          "output_type": "execute_result",
          "data": {
            "text/plain": [
              "       numVoters\n",
              "count    22370.0\n",
              "mean       335.1\n",
              "std        103.1\n",
              "min         22.0\n",
              "25%        272.0\n",
              "50%        376.0\n",
              "75%        416.0\n",
              "max        789.0"
            ],
            "text/html": [
              "\n",
              "  <div id=\"df-ba645bff-3301-46e0-b0d7-712ba3c799ee\">\n",
              "    <div class=\"colab-df-container\">\n",
              "      <div>\n",
              "<style scoped>\n",
              "    .dataframe tbody tr th:only-of-type {\n",
              "        vertical-align: middle;\n",
              "    }\n",
              "\n",
              "    .dataframe tbody tr th {\n",
              "        vertical-align: top;\n",
              "    }\n",
              "\n",
              "    .dataframe thead th {\n",
              "        text-align: right;\n",
              "    }\n",
              "</style>\n",
              "<table border=\"1\" class=\"dataframe\">\n",
              "  <thead>\n",
              "    <tr style=\"text-align: right;\">\n",
              "      <th></th>\n",
              "      <th>numVoters</th>\n",
              "    </tr>\n",
              "  </thead>\n",
              "  <tbody>\n",
              "    <tr>\n",
              "      <th>count</th>\n",
              "      <td>22370.0</td>\n",
              "    </tr>\n",
              "    <tr>\n",
              "      <th>mean</th>\n",
              "      <td>335.1</td>\n",
              "    </tr>\n",
              "    <tr>\n",
              "      <th>std</th>\n",
              "      <td>103.1</td>\n",
              "    </tr>\n",
              "    <tr>\n",
              "      <th>min</th>\n",
              "      <td>22.0</td>\n",
              "    </tr>\n",
              "    <tr>\n",
              "      <th>25%</th>\n",
              "      <td>272.0</td>\n",
              "    </tr>\n",
              "    <tr>\n",
              "      <th>50%</th>\n",
              "      <td>376.0</td>\n",
              "    </tr>\n",
              "    <tr>\n",
              "      <th>75%</th>\n",
              "      <td>416.0</td>\n",
              "    </tr>\n",
              "    <tr>\n",
              "      <th>max</th>\n",
              "      <td>789.0</td>\n",
              "    </tr>\n",
              "  </tbody>\n",
              "</table>\n",
              "</div>\n",
              "      <button class=\"colab-df-convert\" onclick=\"convertToInteractive('df-ba645bff-3301-46e0-b0d7-712ba3c799ee')\"\n",
              "              title=\"Convert this dataframe to an interactive table.\"\n",
              "              style=\"display:none;\">\n",
              "        \n",
              "  <svg xmlns=\"http://www.w3.org/2000/svg\" height=\"24px\"viewBox=\"0 0 24 24\"\n",
              "       width=\"24px\">\n",
              "    <path d=\"M0 0h24v24H0V0z\" fill=\"none\"/>\n",
              "    <path d=\"M18.56 5.44l.94 2.06.94-2.06 2.06-.94-2.06-.94-.94-2.06-.94 2.06-2.06.94zm-11 1L8.5 8.5l.94-2.06 2.06-.94-2.06-.94L8.5 2.5l-.94 2.06-2.06.94zm10 10l.94 2.06.94-2.06 2.06-.94-2.06-.94-.94-2.06-.94 2.06-2.06.94z\"/><path d=\"M17.41 7.96l-1.37-1.37c-.4-.4-.92-.59-1.43-.59-.52 0-1.04.2-1.43.59L10.3 9.45l-7.72 7.72c-.78.78-.78 2.05 0 2.83L4 21.41c.39.39.9.59 1.41.59.51 0 1.02-.2 1.41-.59l7.78-7.78 2.81-2.81c.8-.78.8-2.07 0-2.86zM5.41 20L4 18.59l7.72-7.72 1.47 1.35L5.41 20z\"/>\n",
              "  </svg>\n",
              "      </button>\n",
              "      \n",
              "  <style>\n",
              "    .colab-df-container {\n",
              "      display:flex;\n",
              "      flex-wrap:wrap;\n",
              "      gap: 12px;\n",
              "    }\n",
              "\n",
              "    .colab-df-convert {\n",
              "      background-color: #E8F0FE;\n",
              "      border: none;\n",
              "      border-radius: 50%;\n",
              "      cursor: pointer;\n",
              "      display: none;\n",
              "      fill: #1967D2;\n",
              "      height: 32px;\n",
              "      padding: 0 0 0 0;\n",
              "      width: 32px;\n",
              "    }\n",
              "\n",
              "    .colab-df-convert:hover {\n",
              "      background-color: #E2EBFA;\n",
              "      box-shadow: 0px 1px 2px rgba(60, 64, 67, 0.3), 0px 1px 3px 1px rgba(60, 64, 67, 0.15);\n",
              "      fill: #174EA6;\n",
              "    }\n",
              "\n",
              "    [theme=dark] .colab-df-convert {\n",
              "      background-color: #3B4455;\n",
              "      fill: #D2E3FC;\n",
              "    }\n",
              "\n",
              "    [theme=dark] .colab-df-convert:hover {\n",
              "      background-color: #434B5C;\n",
              "      box-shadow: 0px 1px 3px 1px rgba(0, 0, 0, 0.15);\n",
              "      filter: drop-shadow(0px 1px 2px rgba(0, 0, 0, 0.3));\n",
              "      fill: #FFFFFF;\n",
              "    }\n",
              "  </style>\n",
              "\n",
              "      <script>\n",
              "        const buttonEl =\n",
              "          document.querySelector('#df-ba645bff-3301-46e0-b0d7-712ba3c799ee button.colab-df-convert');\n",
              "        buttonEl.style.display =\n",
              "          google.colab.kernel.accessAllowed ? 'block' : 'none';\n",
              "\n",
              "        async function convertToInteractive(key) {\n",
              "          const element = document.querySelector('#df-ba645bff-3301-46e0-b0d7-712ba3c799ee');\n",
              "          const dataTable =\n",
              "            await google.colab.kernel.invokeFunction('convertToInteractive',\n",
              "                                                     [key], {});\n",
              "          if (!dataTable) return;\n",
              "\n",
              "          const docLinkHtml = 'Like what you see? Visit the ' +\n",
              "            '<a target=\"_blank\" href=https://colab.research.google.com/notebooks/data_table.ipynb>data table notebook</a>'\n",
              "            + ' to learn more about interactive tables.';\n",
              "          element.innerHTML = '';\n",
              "          dataTable['output_type'] = 'display_data';\n",
              "          await google.colab.output.renderOutput(dataTable, element);\n",
              "          const docLink = document.createElement('div');\n",
              "          docLink.innerHTML = docLinkHtml;\n",
              "          element.appendChild(docLink);\n",
              "        }\n",
              "      </script>\n",
              "    </div>\n",
              "  </div>\n",
              "  "
            ]
          },
          "metadata": {},
          "execution_count": 79
        }
      ]
    },
    {
      "cell_type": "code",
      "source": [
        "bcount.to_csv('Bureau_list_withnVoters_semicolon.csv', sep=';', encoding='utf-8', index=False)"
      ],
      "metadata": {
        "id": "h4lVThZR4DEJ"
      },
      "execution_count": null,
      "outputs": []
    },
    {
      "cell_type": "markdown",
      "source": [
        "Using the left "
      ],
      "metadata": {
        "id": "ykiOWaA64jRt"
      }
    },
    {
      "cell_type": "code",
      "source": [],
      "metadata": {
        "id": "7bogIk9k4DHN"
      },
      "execution_count": null,
      "outputs": []
    },
    {
      "cell_type": "code",
      "source": [],
      "metadata": {
        "id": "ZCxnoB7h4DKz"
      },
      "execution_count": null,
      "outputs": []
    },
    {
      "cell_type": "code",
      "source": [],
      "metadata": {
        "id": "WTUXXaNJ4DOL"
      },
      "execution_count": null,
      "outputs": []
    },
    {
      "cell_type": "markdown",
      "metadata": {
        "id": "ydpelF8yPUQ3"
      },
      "source": [
        "# Dealing with Date of birth "
      ]
    },
    {
      "cell_type": "markdown",
      "metadata": {
        "id": "zQZ8Mu__PUQ4"
      },
      "source": [
        "We have the Date of Birth DoB variable. Let's check it's data type"
      ]
    },
    {
      "cell_type": "code",
      "metadata": {
        "id": "VRJMCsIWjsNl",
        "colab": {
          "base_uri": "https://localhost:8080/"
        },
        "outputId": "18774dbc-6312-4bd0-de34-e0439ee53c24"
      },
      "source": [
        "df.dtypes"
      ],
      "execution_count": null,
      "outputs": [
        {
          "output_type": "execute_result",
          "data": {
            "text/plain": [
              "Numero Formulaire 2021                 float64\n",
              "Numero Electeur                         object\n",
              "Code Departement                         int64\n",
              "Libelle Departement                     object\n",
              "Code Sous-Prefecture                     int64\n",
              "Libelle Sous-Prefecture                 object\n",
              "Code Commune                             int64\n",
              "Libelle Commune                         object\n",
              "Code Lieu de Vote                        int64\n",
              "Libelle Lieu de Vote                    object\n",
              "Bureau de vote                           int64\n",
              "Nom/Nom de Jeune Fille                  object\n",
              "Nom d'Epouse                            object\n",
              "Prenoms                                 object\n",
              "Sexe                                    object\n",
              "Date de Naissance               datetime64[ns]\n",
              "Lieu de Naissance                       object\n",
              "Nom du Pere                             object\n",
              "Prenoms du Pere                         object\n",
              "Date de Naissance du Pere       datetime64[ns]\n",
              "Lieu de Naissance du Pere               object\n",
              "Nom de la Mere                          object\n",
              "Prenoms de la Mere                      object\n",
              "Date de Naissance de la Mere    datetime64[ns]\n",
              "Lieu de Naissance de la Mere            object\n",
              "Adresse Physique                        object\n",
              "Adresse Postale                         object\n",
              "Profession                              object\n",
              "fil-prenom                              object\n",
              "Age-20                                   int64\n",
              "Age2020                                  int64\n",
              "fil_pre_dob                             object\n",
              "b-id                                    object\n",
              "dtype: object"
            ]
          },
          "metadata": {},
          "execution_count": 82
        }
      ]
    },
    {
      "cell_type": "code",
      "source": [
        "df.head(20)"
      ],
      "metadata": {
        "colab": {
          "base_uri": "https://localhost:8080/",
          "height": 1000
        },
        "id": "Trf7K2WBg0Ly",
        "outputId": "afc53dd4-03e9-4b60-89e2-fba12521f840"
      },
      "execution_count": null,
      "outputs": [
        {
          "output_type": "execute_result",
          "data": {
            "text/plain": [
              "    Numero Formulaire 2021 Numero Electeur  Code Departement  \\\n",
              "0             1.065192e+09  V 0065 2924 53                 1   \n",
              "1                      NaN  V 0204 5947 41                 1   \n",
              "2                      NaN  V 0095 5498 80                 1   \n",
              "3             1.065195e+09  V 0213 5607 77                 1   \n",
              "4                      NaN  V 0081 6013 67                 1   \n",
              "5                      NaN  V 0084 5582 20                 1   \n",
              "6             1.065192e+09  V 0212 6082 30                 1   \n",
              "7             1.065192e+09  V 0078 5898 36                 1   \n",
              "8                      NaN  V 0066 2030 41                 1   \n",
              "9             1.065195e+09  V 0027 4067 84                 1   \n",
              "10                     NaN  V 0065 5419 33                 1   \n",
              "11                     NaN  V 0088 2851 31                 1   \n",
              "12                     NaN  V 0061 4523 47                 1   \n",
              "13            1.065192e+09  V 0101 8359 45                 1   \n",
              "14                     NaN  V 0085 2818 04                 1   \n",
              "15                     NaN  V 0082 1398 07                 1   \n",
              "16                     NaN  V 0099 2524 94                 1   \n",
              "17            1.065192e+09  V 0209 1683 23                 1   \n",
              "18            1.065192e+09  V 0206 1245 55                 1   \n",
              "19            1.065193e+09  V 0085 9469 49                 1   \n",
              "\n",
              "   Libelle Departement  Code Sous-Prefecture Libelle Sous-Prefecture  \\\n",
              "0            AGBOVILLE                     1               AGBOVILLE   \n",
              "1            AGBOVILLE                     1               AGBOVILLE   \n",
              "2            AGBOVILLE                     1               AGBOVILLE   \n",
              "3            AGBOVILLE                     1               AGBOVILLE   \n",
              "4            AGBOVILLE                     1               AGBOVILLE   \n",
              "5            AGBOVILLE                     1               AGBOVILLE   \n",
              "6            AGBOVILLE                     1               AGBOVILLE   \n",
              "7            AGBOVILLE                     1               AGBOVILLE   \n",
              "8            AGBOVILLE                     1               AGBOVILLE   \n",
              "9            AGBOVILLE                     1               AGBOVILLE   \n",
              "10           AGBOVILLE                     1               AGBOVILLE   \n",
              "11           AGBOVILLE                     1               AGBOVILLE   \n",
              "12           AGBOVILLE                     1               AGBOVILLE   \n",
              "13           AGBOVILLE                     1               AGBOVILLE   \n",
              "14           AGBOVILLE                     1               AGBOVILLE   \n",
              "15           AGBOVILLE                     1               AGBOVILLE   \n",
              "16           AGBOVILLE                     1               AGBOVILLE   \n",
              "17           AGBOVILLE                     1               AGBOVILLE   \n",
              "18           AGBOVILLE                     1               AGBOVILLE   \n",
              "19           AGBOVILLE                     1               AGBOVILLE   \n",
              "\n",
              "    Code Commune Libelle Commune  Code Lieu de Vote  \\\n",
              "0              1       AGBOVILLE                  1   \n",
              "1              1       AGBOVILLE                  1   \n",
              "2              1       AGBOVILLE                  1   \n",
              "3              1       AGBOVILLE                  1   \n",
              "4              1       AGBOVILLE                  1   \n",
              "5              1       AGBOVILLE                  1   \n",
              "6              1       AGBOVILLE                  1   \n",
              "7              1       AGBOVILLE                  1   \n",
              "8              1       AGBOVILLE                  1   \n",
              "9              1       AGBOVILLE                  1   \n",
              "10             1       AGBOVILLE                  1   \n",
              "11             1       AGBOVILLE                  1   \n",
              "12             1       AGBOVILLE                  1   \n",
              "13             1       AGBOVILLE                  1   \n",
              "14             1       AGBOVILLE                  1   \n",
              "15             1       AGBOVILLE                  1   \n",
              "16             1       AGBOVILLE                  1   \n",
              "17             1       AGBOVILLE                  1   \n",
              "18             1       AGBOVILLE                  1   \n",
              "19             1       AGBOVILLE                  1   \n",
              "\n",
              "         Libelle Lieu de Vote  ...  Date de Naissance du Pere  \\\n",
              "0   G S ADAHOU EXTENTION 1- 2  ...                 30/12/1939   \n",
              "1   G S ADAHOU EXTENTION 1- 2  ...                        NaN   \n",
              "2   G S ADAHOU EXTENTION 1- 2  ...                 01/01/1951   \n",
              "3   G S ADAHOU EXTENTION 1- 2  ...                        NaN   \n",
              "4   G S ADAHOU EXTENTION 1- 2  ...                 30/12/1964   \n",
              "5   G S ADAHOU EXTENTION 1- 2  ...                 01/01/1935   \n",
              "6   G S ADAHOU EXTENTION 1- 2  ...                        NaN   \n",
              "7   G S ADAHOU EXTENTION 1- 2  ...                 01/01/1900   \n",
              "8   G S ADAHOU EXTENTION 1- 2  ...                 01/01/1947   \n",
              "9   G S ADAHOU EXTENTION 1- 2  ...                 14/06/1953   \n",
              "10  G S ADAHOU EXTENTION 1- 2  ...                 01/01/1934   \n",
              "11  G S ADAHOU EXTENTION 1- 2  ...                 01/01/1900   \n",
              "12  G S ADAHOU EXTENTION 1- 2  ...                 01/01/1900   \n",
              "13  G S ADAHOU EXTENTION 1- 2  ...                 01/01/1908   \n",
              "14  G S ADAHOU EXTENTION 1- 2  ...                 01/01/1900   \n",
              "15  G S ADAHOU EXTENTION 1- 2  ...                 16/07/1941   \n",
              "16  G S ADAHOU EXTENTION 1- 2  ...                 01/01/1900   \n",
              "17  G S ADAHOU EXTENTION 1- 2  ...                 01/01/1900   \n",
              "18  G S ADAHOU EXTENTION 1- 2  ...                 01/01/1900   \n",
              "19  G S ADAHOU EXTENTION 1- 2  ...                 01/01/1963   \n",
              "\n",
              "   Lieu de Naissance du Pere Nom de la Mere Prenoms de la Mere  \\\n",
              "0             AKEIKOI ANYAMA          EKENI             CHADON   \n",
              "1                       KOKO        GNAMIEN    ABOUHO LIDIVINE   \n",
              "2                GRAND-ALEPE         AKPOUI               CHIA   \n",
              "3                        NaN           YAWA      BUO MADELEINE   \n",
              "4           ATTINGUIE ANYAMA           OCHO   N'GBESSO ROSALIE   \n",
              "5                    AZAGUIE         DOFFOU               ODJO   \n",
              "6                        NaN           ABOU    ANGROA DORETHEE   \n",
              "7                    AKOYATE          OBROU    ASSRE JEANNETTE   \n",
              "8                    INCONNU           BROU    SOPIE ELISABETH   \n",
              "9                     AFFERY      KISSIEDOU        ADJA LOUISE   \n",
              "10                 BECOUEFIN           ASSI                AYI   \n",
              "11                   INCONNU       SOUMAGNI             ABOUEU   \n",
              "12                    RUBINO          OCHOU               YABA   \n",
              "13   ADJAME YAKASSE ATTOBROU          ANGUI              SOPIE   \n",
              "14                    AKOUPE           YAPO               CHIA   \n",
              "15                     DALOA        GNAKOUE   ASSIKO MADELEINE   \n",
              "16                      AGOU          MONAN               AMBA   \n",
              "17                  INCONNUE        N'TAMON     SOPIE LUCIENNE   \n",
              "18                       NaN        N'TAMON     SOPIE LUCIENNE   \n",
              "19                  OUANGUIE         ESSEHA     ECHO ALBERTINE   \n",
              "\n",
              "   Date de Naissance de la Mere Lieu de Naissance de la Mere  \\\n",
              "0                    01/01/1951               GRAND AKOUDZIN   \n",
              "1                           NaN                          NaN   \n",
              "2                    14/07/1959                  GRAND-ALEPE   \n",
              "3                    01/01/1962                      GOUMERE   \n",
              "4                    01/01/1900                    AGBOVILLE   \n",
              "5                    01/01/1940                    AGBOVILLE   \n",
              "6                           NaN                          NaN   \n",
              "7                    01/01/1900                      AKOYATE   \n",
              "8                    01/01/1938                       AKOUPE   \n",
              "9                    20/02/1956                       AFFERY   \n",
              "10                   01/01/1943                    BECOUEFIN   \n",
              "11                   01/01/1900                  MEMNI ALEPE   \n",
              "12                   01/01/1900                       RUBINO   \n",
              "13                   01/01/1925      ADJAME YAKASSE-ATTOBROU   \n",
              "14                   01/01/1940                       AKOUPE   \n",
              "15                   01/01/1954                       LAKOTA   \n",
              "16                   01/01/1900                         AGOU   \n",
              "17                   23/03/1964                    AGBOVILLE   \n",
              "18                   23/03/1964                          NaN   \n",
              "19                   05/05/1969                     OUANGUIE   \n",
              "\n",
              "                           Adresse Physique     Adresse Postale  \\\n",
              "0               AGBOVILLE ADAHOU EXTENSION     BP 512 AGBOVILLE   \n",
              "1                         ADAHOU AGBOVILLE                 BP     \n",
              "2                         ADAHOU EXTENSION   05 BP 2663 ABIDJAN   \n",
              "3               AGBOVILLE ADAHOU EXTENTION                 BP     \n",
              "4                         ADAHOU EXTENSION                 BP     \n",
              "5                         ADAHOU EXTENSION                 BP     \n",
              "6                         ADAHOU EXTENTION                 BP     \n",
              "7                         ADAHOU EXTENTION          BP 37 ALEPE   \n",
              "8                         ADAHOU EXTENSION                 BP     \n",
              "9               AGBOVILLE ADAHOU EXTENTION                 BP     \n",
              "10              AGBOVILLE ADAHOU EXTENSION     BP 154 AGBOVILLE   \n",
              "11                        ADAHOU EXTENSION                 BP     \n",
              "12  AGNIBILEKROU AGBOVILLE ADAHOU EXTENSION    BP 512 AGBOVILLE   \n",
              "13                        ADAHOU EXTENTION   09 BP 1915 ABIDJAN   \n",
              "14                        AGBOVILLE ADAHOU      BP 93 AGBOVILLE   \n",
              "15                        ADAHOU EXTENSION                 BP     \n",
              "16                        ADAHOU EXTENSION                 BP     \n",
              "17              AGBOVILLE ADAHOU EXTENSION                 BP     \n",
              "18                        ADAHOU EXTENTION                 BP     \n",
              "19                        ADAHOU EXTENTION                 BP     \n",
              "\n",
              "                Profession                      fil-prenom  \n",
              "0             INSTITUTRICE               ABAH-MARIE EDWIGE  \n",
              "1                    ELEVE    ABBA-ATTOWLA HERMANN CEDRICK  \n",
              "2               PROFESSEUR              ABBE-YAYA CAROLINE  \n",
              "3                    ELEVE                 ABO-YAO SYLVAIN  \n",
              "4         ELEVE FOOTBALEUR           ABOH-TETCHI SERGE ANO  \n",
              "5                CHAUFFEUR               ABOLE-ABOLE FRANK  \n",
              "6                    ELEVE  ABOU-GNANKOUE MARLYSE FORTUNEE  \n",
              "7                 PLANTEUR                ABOU-MESSI JONAS  \n",
              "8                EDUCATEUR             ABOUA-CLAUDE ANICET  \n",
              "9            RESTAURATRICE           ACHI-ACHIBAH LUCIENNE  \n",
              "10             INDETERMINE                ACHI-BONI HUBERT  \n",
              "11               COUTURIER      ACHI-DIDIER ALAIN STEPHANE  \n",
              "12             INSTITUTEUR                 ACHI-KOFFI REMI  \n",
              "13    EXPLOITANT FORESTIER             ACHI-KOUAO THEODORE  \n",
              "14            INSTITUTRICE                 ACHIEPO-CHISSAN  \n",
              "15  MAINTENANCE INDUSTRIEL             ACHILLE-ERICK BOLOU  \n",
              "16              TECHNICIEN             ACHO-ACHIEPI MICHEL  \n",
              "17                   ELEVE              ACHO-ADJO FERNANDE  \n",
              "18                ETUDIANT        ACHO-AFFECHI ANGE-ARMAND  \n",
              "19                   ELEVE           ACHO-MARIE CHRISTIANE  \n",
              "\n",
              "[20 rows x 29 columns]"
            ],
            "text/html": [
              "\n",
              "  <div id=\"df-e363a84d-f5c9-4931-97a3-0b5a7da47c9a\">\n",
              "    <div class=\"colab-df-container\">\n",
              "      <div>\n",
              "<style scoped>\n",
              "    .dataframe tbody tr th:only-of-type {\n",
              "        vertical-align: middle;\n",
              "    }\n",
              "\n",
              "    .dataframe tbody tr th {\n",
              "        vertical-align: top;\n",
              "    }\n",
              "\n",
              "    .dataframe thead th {\n",
              "        text-align: right;\n",
              "    }\n",
              "</style>\n",
              "<table border=\"1\" class=\"dataframe\">\n",
              "  <thead>\n",
              "    <tr style=\"text-align: right;\">\n",
              "      <th></th>\n",
              "      <th>Numero Formulaire 2021</th>\n",
              "      <th>Numero Electeur</th>\n",
              "      <th>Code Departement</th>\n",
              "      <th>Libelle Departement</th>\n",
              "      <th>Code Sous-Prefecture</th>\n",
              "      <th>Libelle Sous-Prefecture</th>\n",
              "      <th>Code Commune</th>\n",
              "      <th>Libelle Commune</th>\n",
              "      <th>Code Lieu de Vote</th>\n",
              "      <th>Libelle Lieu de Vote</th>\n",
              "      <th>...</th>\n",
              "      <th>Date de Naissance du Pere</th>\n",
              "      <th>Lieu de Naissance du Pere</th>\n",
              "      <th>Nom de la Mere</th>\n",
              "      <th>Prenoms de la Mere</th>\n",
              "      <th>Date de Naissance de la Mere</th>\n",
              "      <th>Lieu de Naissance de la Mere</th>\n",
              "      <th>Adresse Physique</th>\n",
              "      <th>Adresse Postale</th>\n",
              "      <th>Profession</th>\n",
              "      <th>fil-prenom</th>\n",
              "    </tr>\n",
              "  </thead>\n",
              "  <tbody>\n",
              "    <tr>\n",
              "      <th>0</th>\n",
              "      <td>1.065192e+09</td>\n",
              "      <td>V 0065 2924 53</td>\n",
              "      <td>1</td>\n",
              "      <td>AGBOVILLE</td>\n",
              "      <td>1</td>\n",
              "      <td>AGBOVILLE</td>\n",
              "      <td>1</td>\n",
              "      <td>AGBOVILLE</td>\n",
              "      <td>1</td>\n",
              "      <td>G S ADAHOU EXTENTION 1- 2</td>\n",
              "      <td>...</td>\n",
              "      <td>30/12/1939</td>\n",
              "      <td>AKEIKOI ANYAMA</td>\n",
              "      <td>EKENI</td>\n",
              "      <td>CHADON</td>\n",
              "      <td>01/01/1951</td>\n",
              "      <td>GRAND AKOUDZIN</td>\n",
              "      <td>AGBOVILLE ADAHOU EXTENSION</td>\n",
              "      <td>BP 512 AGBOVILLE</td>\n",
              "      <td>INSTITUTRICE</td>\n",
              "      <td>ABAH-MARIE EDWIGE</td>\n",
              "    </tr>\n",
              "    <tr>\n",
              "      <th>1</th>\n",
              "      <td>NaN</td>\n",
              "      <td>V 0204 5947 41</td>\n",
              "      <td>1</td>\n",
              "      <td>AGBOVILLE</td>\n",
              "      <td>1</td>\n",
              "      <td>AGBOVILLE</td>\n",
              "      <td>1</td>\n",
              "      <td>AGBOVILLE</td>\n",
              "      <td>1</td>\n",
              "      <td>G S ADAHOU EXTENTION 1- 2</td>\n",
              "      <td>...</td>\n",
              "      <td>NaN</td>\n",
              "      <td>KOKO</td>\n",
              "      <td>GNAMIEN</td>\n",
              "      <td>ABOUHO LIDIVINE</td>\n",
              "      <td>NaN</td>\n",
              "      <td>NaN</td>\n",
              "      <td>ADAHOU AGBOVILLE</td>\n",
              "      <td>BP</td>\n",
              "      <td>ELEVE</td>\n",
              "      <td>ABBA-ATTOWLA HERMANN CEDRICK</td>\n",
              "    </tr>\n",
              "    <tr>\n",
              "      <th>2</th>\n",
              "      <td>NaN</td>\n",
              "      <td>V 0095 5498 80</td>\n",
              "      <td>1</td>\n",
              "      <td>AGBOVILLE</td>\n",
              "      <td>1</td>\n",
              "      <td>AGBOVILLE</td>\n",
              "      <td>1</td>\n",
              "      <td>AGBOVILLE</td>\n",
              "      <td>1</td>\n",
              "      <td>G S ADAHOU EXTENTION 1- 2</td>\n",
              "      <td>...</td>\n",
              "      <td>01/01/1951</td>\n",
              "      <td>GRAND-ALEPE</td>\n",
              "      <td>AKPOUI</td>\n",
              "      <td>CHIA</td>\n",
              "      <td>14/07/1959</td>\n",
              "      <td>GRAND-ALEPE</td>\n",
              "      <td>ADAHOU EXTENSION</td>\n",
              "      <td>05 BP 2663 ABIDJAN</td>\n",
              "      <td>PROFESSEUR</td>\n",
              "      <td>ABBE-YAYA CAROLINE</td>\n",
              "    </tr>\n",
              "    <tr>\n",
              "      <th>3</th>\n",
              "      <td>1.065195e+09</td>\n",
              "      <td>V 0213 5607 77</td>\n",
              "      <td>1</td>\n",
              "      <td>AGBOVILLE</td>\n",
              "      <td>1</td>\n",
              "      <td>AGBOVILLE</td>\n",
              "      <td>1</td>\n",
              "      <td>AGBOVILLE</td>\n",
              "      <td>1</td>\n",
              "      <td>G S ADAHOU EXTENTION 1- 2</td>\n",
              "      <td>...</td>\n",
              "      <td>NaN</td>\n",
              "      <td>NaN</td>\n",
              "      <td>YAWA</td>\n",
              "      <td>BUO MADELEINE</td>\n",
              "      <td>01/01/1962</td>\n",
              "      <td>GOUMERE</td>\n",
              "      <td>AGBOVILLE ADAHOU EXTENTION</td>\n",
              "      <td>BP</td>\n",
              "      <td>ELEVE</td>\n",
              "      <td>ABO-YAO SYLVAIN</td>\n",
              "    </tr>\n",
              "    <tr>\n",
              "      <th>4</th>\n",
              "      <td>NaN</td>\n",
              "      <td>V 0081 6013 67</td>\n",
              "      <td>1</td>\n",
              "      <td>AGBOVILLE</td>\n",
              "      <td>1</td>\n",
              "      <td>AGBOVILLE</td>\n",
              "      <td>1</td>\n",
              "      <td>AGBOVILLE</td>\n",
              "      <td>1</td>\n",
              "      <td>G S ADAHOU EXTENTION 1- 2</td>\n",
              "      <td>...</td>\n",
              "      <td>30/12/1964</td>\n",
              "      <td>ATTINGUIE ANYAMA</td>\n",
              "      <td>OCHO</td>\n",
              "      <td>N'GBESSO ROSALIE</td>\n",
              "      <td>01/01/1900</td>\n",
              "      <td>AGBOVILLE</td>\n",
              "      <td>ADAHOU EXTENSION</td>\n",
              "      <td>BP</td>\n",
              "      <td>ELEVE FOOTBALEUR</td>\n",
              "      <td>ABOH-TETCHI SERGE ANO</td>\n",
              "    </tr>\n",
              "    <tr>\n",
              "      <th>5</th>\n",
              "      <td>NaN</td>\n",
              "      <td>V 0084 5582 20</td>\n",
              "      <td>1</td>\n",
              "      <td>AGBOVILLE</td>\n",
              "      <td>1</td>\n",
              "      <td>AGBOVILLE</td>\n",
              "      <td>1</td>\n",
              "      <td>AGBOVILLE</td>\n",
              "      <td>1</td>\n",
              "      <td>G S ADAHOU EXTENTION 1- 2</td>\n",
              "      <td>...</td>\n",
              "      <td>01/01/1935</td>\n",
              "      <td>AZAGUIE</td>\n",
              "      <td>DOFFOU</td>\n",
              "      <td>ODJO</td>\n",
              "      <td>01/01/1940</td>\n",
              "      <td>AGBOVILLE</td>\n",
              "      <td>ADAHOU EXTENSION</td>\n",
              "      <td>BP</td>\n",
              "      <td>CHAUFFEUR</td>\n",
              "      <td>ABOLE-ABOLE FRANK</td>\n",
              "    </tr>\n",
              "    <tr>\n",
              "      <th>6</th>\n",
              "      <td>1.065192e+09</td>\n",
              "      <td>V 0212 6082 30</td>\n",
              "      <td>1</td>\n",
              "      <td>AGBOVILLE</td>\n",
              "      <td>1</td>\n",
              "      <td>AGBOVILLE</td>\n",
              "      <td>1</td>\n",
              "      <td>AGBOVILLE</td>\n",
              "      <td>1</td>\n",
              "      <td>G S ADAHOU EXTENTION 1- 2</td>\n",
              "      <td>...</td>\n",
              "      <td>NaN</td>\n",
              "      <td>NaN</td>\n",
              "      <td>ABOU</td>\n",
              "      <td>ANGROA DORETHEE</td>\n",
              "      <td>NaN</td>\n",
              "      <td>NaN</td>\n",
              "      <td>ADAHOU EXTENTION</td>\n",
              "      <td>BP</td>\n",
              "      <td>ELEVE</td>\n",
              "      <td>ABOU-GNANKOUE MARLYSE FORTUNEE</td>\n",
              "    </tr>\n",
              "    <tr>\n",
              "      <th>7</th>\n",
              "      <td>1.065192e+09</td>\n",
              "      <td>V 0078 5898 36</td>\n",
              "      <td>1</td>\n",
              "      <td>AGBOVILLE</td>\n",
              "      <td>1</td>\n",
              "      <td>AGBOVILLE</td>\n",
              "      <td>1</td>\n",
              "      <td>AGBOVILLE</td>\n",
              "      <td>1</td>\n",
              "      <td>G S ADAHOU EXTENTION 1- 2</td>\n",
              "      <td>...</td>\n",
              "      <td>01/01/1900</td>\n",
              "      <td>AKOYATE</td>\n",
              "      <td>OBROU</td>\n",
              "      <td>ASSRE JEANNETTE</td>\n",
              "      <td>01/01/1900</td>\n",
              "      <td>AKOYATE</td>\n",
              "      <td>ADAHOU EXTENTION</td>\n",
              "      <td>BP 37 ALEPE</td>\n",
              "      <td>PLANTEUR</td>\n",
              "      <td>ABOU-MESSI JONAS</td>\n",
              "    </tr>\n",
              "    <tr>\n",
              "      <th>8</th>\n",
              "      <td>NaN</td>\n",
              "      <td>V 0066 2030 41</td>\n",
              "      <td>1</td>\n",
              "      <td>AGBOVILLE</td>\n",
              "      <td>1</td>\n",
              "      <td>AGBOVILLE</td>\n",
              "      <td>1</td>\n",
              "      <td>AGBOVILLE</td>\n",
              "      <td>1</td>\n",
              "      <td>G S ADAHOU EXTENTION 1- 2</td>\n",
              "      <td>...</td>\n",
              "      <td>01/01/1947</td>\n",
              "      <td>INCONNU</td>\n",
              "      <td>BROU</td>\n",
              "      <td>SOPIE ELISABETH</td>\n",
              "      <td>01/01/1938</td>\n",
              "      <td>AKOUPE</td>\n",
              "      <td>ADAHOU EXTENSION</td>\n",
              "      <td>BP</td>\n",
              "      <td>EDUCATEUR</td>\n",
              "      <td>ABOUA-CLAUDE ANICET</td>\n",
              "    </tr>\n",
              "    <tr>\n",
              "      <th>9</th>\n",
              "      <td>1.065195e+09</td>\n",
              "      <td>V 0027 4067 84</td>\n",
              "      <td>1</td>\n",
              "      <td>AGBOVILLE</td>\n",
              "      <td>1</td>\n",
              "      <td>AGBOVILLE</td>\n",
              "      <td>1</td>\n",
              "      <td>AGBOVILLE</td>\n",
              "      <td>1</td>\n",
              "      <td>G S ADAHOU EXTENTION 1- 2</td>\n",
              "      <td>...</td>\n",
              "      <td>14/06/1953</td>\n",
              "      <td>AFFERY</td>\n",
              "      <td>KISSIEDOU</td>\n",
              "      <td>ADJA LOUISE</td>\n",
              "      <td>20/02/1956</td>\n",
              "      <td>AFFERY</td>\n",
              "      <td>AGBOVILLE ADAHOU EXTENTION</td>\n",
              "      <td>BP</td>\n",
              "      <td>RESTAURATRICE</td>\n",
              "      <td>ACHI-ACHIBAH LUCIENNE</td>\n",
              "    </tr>\n",
              "    <tr>\n",
              "      <th>10</th>\n",
              "      <td>NaN</td>\n",
              "      <td>V 0065 5419 33</td>\n",
              "      <td>1</td>\n",
              "      <td>AGBOVILLE</td>\n",
              "      <td>1</td>\n",
              "      <td>AGBOVILLE</td>\n",
              "      <td>1</td>\n",
              "      <td>AGBOVILLE</td>\n",
              "      <td>1</td>\n",
              "      <td>G S ADAHOU EXTENTION 1- 2</td>\n",
              "      <td>...</td>\n",
              "      <td>01/01/1934</td>\n",
              "      <td>BECOUEFIN</td>\n",
              "      <td>ASSI</td>\n",
              "      <td>AYI</td>\n",
              "      <td>01/01/1943</td>\n",
              "      <td>BECOUEFIN</td>\n",
              "      <td>AGBOVILLE ADAHOU EXTENSION</td>\n",
              "      <td>BP 154 AGBOVILLE</td>\n",
              "      <td>INDETERMINE</td>\n",
              "      <td>ACHI-BONI HUBERT</td>\n",
              "    </tr>\n",
              "    <tr>\n",
              "      <th>11</th>\n",
              "      <td>NaN</td>\n",
              "      <td>V 0088 2851 31</td>\n",
              "      <td>1</td>\n",
              "      <td>AGBOVILLE</td>\n",
              "      <td>1</td>\n",
              "      <td>AGBOVILLE</td>\n",
              "      <td>1</td>\n",
              "      <td>AGBOVILLE</td>\n",
              "      <td>1</td>\n",
              "      <td>G S ADAHOU EXTENTION 1- 2</td>\n",
              "      <td>...</td>\n",
              "      <td>01/01/1900</td>\n",
              "      <td>INCONNU</td>\n",
              "      <td>SOUMAGNI</td>\n",
              "      <td>ABOUEU</td>\n",
              "      <td>01/01/1900</td>\n",
              "      <td>MEMNI ALEPE</td>\n",
              "      <td>ADAHOU EXTENSION</td>\n",
              "      <td>BP</td>\n",
              "      <td>COUTURIER</td>\n",
              "      <td>ACHI-DIDIER ALAIN STEPHANE</td>\n",
              "    </tr>\n",
              "    <tr>\n",
              "      <th>12</th>\n",
              "      <td>NaN</td>\n",
              "      <td>V 0061 4523 47</td>\n",
              "      <td>1</td>\n",
              "      <td>AGBOVILLE</td>\n",
              "      <td>1</td>\n",
              "      <td>AGBOVILLE</td>\n",
              "      <td>1</td>\n",
              "      <td>AGBOVILLE</td>\n",
              "      <td>1</td>\n",
              "      <td>G S ADAHOU EXTENTION 1- 2</td>\n",
              "      <td>...</td>\n",
              "      <td>01/01/1900</td>\n",
              "      <td>RUBINO</td>\n",
              "      <td>OCHOU</td>\n",
              "      <td>YABA</td>\n",
              "      <td>01/01/1900</td>\n",
              "      <td>RUBINO</td>\n",
              "      <td>AGNIBILEKROU AGBOVILLE ADAHOU EXTENSION</td>\n",
              "      <td>BP 512 AGBOVILLE</td>\n",
              "      <td>INSTITUTEUR</td>\n",
              "      <td>ACHI-KOFFI REMI</td>\n",
              "    </tr>\n",
              "    <tr>\n",
              "      <th>13</th>\n",
              "      <td>1.065192e+09</td>\n",
              "      <td>V 0101 8359 45</td>\n",
              "      <td>1</td>\n",
              "      <td>AGBOVILLE</td>\n",
              "      <td>1</td>\n",
              "      <td>AGBOVILLE</td>\n",
              "      <td>1</td>\n",
              "      <td>AGBOVILLE</td>\n",
              "      <td>1</td>\n",
              "      <td>G S ADAHOU EXTENTION 1- 2</td>\n",
              "      <td>...</td>\n",
              "      <td>01/01/1908</td>\n",
              "      <td>ADJAME YAKASSE ATTOBROU</td>\n",
              "      <td>ANGUI</td>\n",
              "      <td>SOPIE</td>\n",
              "      <td>01/01/1925</td>\n",
              "      <td>ADJAME YAKASSE-ATTOBROU</td>\n",
              "      <td>ADAHOU EXTENTION</td>\n",
              "      <td>09 BP 1915 ABIDJAN</td>\n",
              "      <td>EXPLOITANT FORESTIER</td>\n",
              "      <td>ACHI-KOUAO THEODORE</td>\n",
              "    </tr>\n",
              "    <tr>\n",
              "      <th>14</th>\n",
              "      <td>NaN</td>\n",
              "      <td>V 0085 2818 04</td>\n",
              "      <td>1</td>\n",
              "      <td>AGBOVILLE</td>\n",
              "      <td>1</td>\n",
              "      <td>AGBOVILLE</td>\n",
              "      <td>1</td>\n",
              "      <td>AGBOVILLE</td>\n",
              "      <td>1</td>\n",
              "      <td>G S ADAHOU EXTENTION 1- 2</td>\n",
              "      <td>...</td>\n",
              "      <td>01/01/1900</td>\n",
              "      <td>AKOUPE</td>\n",
              "      <td>YAPO</td>\n",
              "      <td>CHIA</td>\n",
              "      <td>01/01/1940</td>\n",
              "      <td>AKOUPE</td>\n",
              "      <td>AGBOVILLE ADAHOU</td>\n",
              "      <td>BP 93 AGBOVILLE</td>\n",
              "      <td>INSTITUTRICE</td>\n",
              "      <td>ACHIEPO-CHISSAN</td>\n",
              "    </tr>\n",
              "    <tr>\n",
              "      <th>15</th>\n",
              "      <td>NaN</td>\n",
              "      <td>V 0082 1398 07</td>\n",
              "      <td>1</td>\n",
              "      <td>AGBOVILLE</td>\n",
              "      <td>1</td>\n",
              "      <td>AGBOVILLE</td>\n",
              "      <td>1</td>\n",
              "      <td>AGBOVILLE</td>\n",
              "      <td>1</td>\n",
              "      <td>G S ADAHOU EXTENTION 1- 2</td>\n",
              "      <td>...</td>\n",
              "      <td>16/07/1941</td>\n",
              "      <td>DALOA</td>\n",
              "      <td>GNAKOUE</td>\n",
              "      <td>ASSIKO MADELEINE</td>\n",
              "      <td>01/01/1954</td>\n",
              "      <td>LAKOTA</td>\n",
              "      <td>ADAHOU EXTENSION</td>\n",
              "      <td>BP</td>\n",
              "      <td>MAINTENANCE INDUSTRIEL</td>\n",
              "      <td>ACHILLE-ERICK BOLOU</td>\n",
              "    </tr>\n",
              "    <tr>\n",
              "      <th>16</th>\n",
              "      <td>NaN</td>\n",
              "      <td>V 0099 2524 94</td>\n",
              "      <td>1</td>\n",
              "      <td>AGBOVILLE</td>\n",
              "      <td>1</td>\n",
              "      <td>AGBOVILLE</td>\n",
              "      <td>1</td>\n",
              "      <td>AGBOVILLE</td>\n",
              "      <td>1</td>\n",
              "      <td>G S ADAHOU EXTENTION 1- 2</td>\n",
              "      <td>...</td>\n",
              "      <td>01/01/1900</td>\n",
              "      <td>AGOU</td>\n",
              "      <td>MONAN</td>\n",
              "      <td>AMBA</td>\n",
              "      <td>01/01/1900</td>\n",
              "      <td>AGOU</td>\n",
              "      <td>ADAHOU EXTENSION</td>\n",
              "      <td>BP</td>\n",
              "      <td>TECHNICIEN</td>\n",
              "      <td>ACHO-ACHIEPI MICHEL</td>\n",
              "    </tr>\n",
              "    <tr>\n",
              "      <th>17</th>\n",
              "      <td>1.065192e+09</td>\n",
              "      <td>V 0209 1683 23</td>\n",
              "      <td>1</td>\n",
              "      <td>AGBOVILLE</td>\n",
              "      <td>1</td>\n",
              "      <td>AGBOVILLE</td>\n",
              "      <td>1</td>\n",
              "      <td>AGBOVILLE</td>\n",
              "      <td>1</td>\n",
              "      <td>G S ADAHOU EXTENTION 1- 2</td>\n",
              "      <td>...</td>\n",
              "      <td>01/01/1900</td>\n",
              "      <td>INCONNUE</td>\n",
              "      <td>N'TAMON</td>\n",
              "      <td>SOPIE LUCIENNE</td>\n",
              "      <td>23/03/1964</td>\n",
              "      <td>AGBOVILLE</td>\n",
              "      <td>AGBOVILLE ADAHOU EXTENSION</td>\n",
              "      <td>BP</td>\n",
              "      <td>ELEVE</td>\n",
              "      <td>ACHO-ADJO FERNANDE</td>\n",
              "    </tr>\n",
              "    <tr>\n",
              "      <th>18</th>\n",
              "      <td>1.065192e+09</td>\n",
              "      <td>V 0206 1245 55</td>\n",
              "      <td>1</td>\n",
              "      <td>AGBOVILLE</td>\n",
              "      <td>1</td>\n",
              "      <td>AGBOVILLE</td>\n",
              "      <td>1</td>\n",
              "      <td>AGBOVILLE</td>\n",
              "      <td>1</td>\n",
              "      <td>G S ADAHOU EXTENTION 1- 2</td>\n",
              "      <td>...</td>\n",
              "      <td>01/01/1900</td>\n",
              "      <td>NaN</td>\n",
              "      <td>N'TAMON</td>\n",
              "      <td>SOPIE LUCIENNE</td>\n",
              "      <td>23/03/1964</td>\n",
              "      <td>NaN</td>\n",
              "      <td>ADAHOU EXTENTION</td>\n",
              "      <td>BP</td>\n",
              "      <td>ETUDIANT</td>\n",
              "      <td>ACHO-AFFECHI ANGE-ARMAND</td>\n",
              "    </tr>\n",
              "    <tr>\n",
              "      <th>19</th>\n",
              "      <td>1.065193e+09</td>\n",
              "      <td>V 0085 9469 49</td>\n",
              "      <td>1</td>\n",
              "      <td>AGBOVILLE</td>\n",
              "      <td>1</td>\n",
              "      <td>AGBOVILLE</td>\n",
              "      <td>1</td>\n",
              "      <td>AGBOVILLE</td>\n",
              "      <td>1</td>\n",
              "      <td>G S ADAHOU EXTENTION 1- 2</td>\n",
              "      <td>...</td>\n",
              "      <td>01/01/1963</td>\n",
              "      <td>OUANGUIE</td>\n",
              "      <td>ESSEHA</td>\n",
              "      <td>ECHO ALBERTINE</td>\n",
              "      <td>05/05/1969</td>\n",
              "      <td>OUANGUIE</td>\n",
              "      <td>ADAHOU EXTENTION</td>\n",
              "      <td>BP</td>\n",
              "      <td>ELEVE</td>\n",
              "      <td>ACHO-MARIE CHRISTIANE</td>\n",
              "    </tr>\n",
              "  </tbody>\n",
              "</table>\n",
              "<p>20 rows × 29 columns</p>\n",
              "</div>\n",
              "      <button class=\"colab-df-convert\" onclick=\"convertToInteractive('df-e363a84d-f5c9-4931-97a3-0b5a7da47c9a')\"\n",
              "              title=\"Convert this dataframe to an interactive table.\"\n",
              "              style=\"display:none;\">\n",
              "        \n",
              "  <svg xmlns=\"http://www.w3.org/2000/svg\" height=\"24px\"viewBox=\"0 0 24 24\"\n",
              "       width=\"24px\">\n",
              "    <path d=\"M0 0h24v24H0V0z\" fill=\"none\"/>\n",
              "    <path d=\"M18.56 5.44l.94 2.06.94-2.06 2.06-.94-2.06-.94-.94-2.06-.94 2.06-2.06.94zm-11 1L8.5 8.5l.94-2.06 2.06-.94-2.06-.94L8.5 2.5l-.94 2.06-2.06.94zm10 10l.94 2.06.94-2.06 2.06-.94-2.06-.94-.94-2.06-.94 2.06-2.06.94z\"/><path d=\"M17.41 7.96l-1.37-1.37c-.4-.4-.92-.59-1.43-.59-.52 0-1.04.2-1.43.59L10.3 9.45l-7.72 7.72c-.78.78-.78 2.05 0 2.83L4 21.41c.39.39.9.59 1.41.59.51 0 1.02-.2 1.41-.59l7.78-7.78 2.81-2.81c.8-.78.8-2.07 0-2.86zM5.41 20L4 18.59l7.72-7.72 1.47 1.35L5.41 20z\"/>\n",
              "  </svg>\n",
              "      </button>\n",
              "      \n",
              "  <style>\n",
              "    .colab-df-container {\n",
              "      display:flex;\n",
              "      flex-wrap:wrap;\n",
              "      gap: 12px;\n",
              "    }\n",
              "\n",
              "    .colab-df-convert {\n",
              "      background-color: #E8F0FE;\n",
              "      border: none;\n",
              "      border-radius: 50%;\n",
              "      cursor: pointer;\n",
              "      display: none;\n",
              "      fill: #1967D2;\n",
              "      height: 32px;\n",
              "      padding: 0 0 0 0;\n",
              "      width: 32px;\n",
              "    }\n",
              "\n",
              "    .colab-df-convert:hover {\n",
              "      background-color: #E2EBFA;\n",
              "      box-shadow: 0px 1px 2px rgba(60, 64, 67, 0.3), 0px 1px 3px 1px rgba(60, 64, 67, 0.15);\n",
              "      fill: #174EA6;\n",
              "    }\n",
              "\n",
              "    [theme=dark] .colab-df-convert {\n",
              "      background-color: #3B4455;\n",
              "      fill: #D2E3FC;\n",
              "    }\n",
              "\n",
              "    [theme=dark] .colab-df-convert:hover {\n",
              "      background-color: #434B5C;\n",
              "      box-shadow: 0px 1px 3px 1px rgba(0, 0, 0, 0.15);\n",
              "      filter: drop-shadow(0px 1px 2px rgba(0, 0, 0, 0.3));\n",
              "      fill: #FFFFFF;\n",
              "    }\n",
              "  </style>\n",
              "\n",
              "      <script>\n",
              "        const buttonEl =\n",
              "          document.querySelector('#df-e363a84d-f5c9-4931-97a3-0b5a7da47c9a button.colab-df-convert');\n",
              "        buttonEl.style.display =\n",
              "          google.colab.kernel.accessAllowed ? 'block' : 'none';\n",
              "\n",
              "        async function convertToInteractive(key) {\n",
              "          const element = document.querySelector('#df-e363a84d-f5c9-4931-97a3-0b5a7da47c9a');\n",
              "          const dataTable =\n",
              "            await google.colab.kernel.invokeFunction('convertToInteractive',\n",
              "                                                     [key], {});\n",
              "          if (!dataTable) return;\n",
              "\n",
              "          const docLinkHtml = 'Like what you see? Visit the ' +\n",
              "            '<a target=\"_blank\" href=https://colab.research.google.com/notebooks/data_table.ipynb>data table notebook</a>'\n",
              "            + ' to learn more about interactive tables.';\n",
              "          element.innerHTML = '';\n",
              "          dataTable['output_type'] = 'display_data';\n",
              "          await google.colab.output.renderOutput(dataTable, element);\n",
              "          const docLink = document.createElement('div');\n",
              "          docLink.innerHTML = docLinkHtml;\n",
              "          element.appendChild(docLink);\n",
              "        }\n",
              "      </script>\n",
              "    </div>\n",
              "  </div>\n",
              "  "
            ]
          },
          "metadata": {},
          "execution_count": 20
        }
      ]
    },
    {
      "cell_type": "markdown",
      "source": [
        "Computationally intense but will infer the datetime format "
      ],
      "metadata": {
        "id": "TDkBA6rZr2H9"
      }
    },
    {
      "cell_type": "code",
      "source": [
        "df['Date de Naissance'] = pd.to_datetime(df['Date de Naissance'], infer_datetime_format=True)"
      ],
      "metadata": {
        "id": "ZWFGnzRUr0Nv"
      },
      "execution_count": null,
      "outputs": []
    },
    {
      "cell_type": "markdown",
      "metadata": {
        "id": "RaOrrrW3PUQ5"
      },
      "source": [
        "Let's check the data types again and make sure it's now datetime"
      ]
    },
    {
      "cell_type": "code",
      "metadata": {
        "id": "0Si4XJI7PUQ7",
        "colab": {
          "base_uri": "https://localhost:8080/"
        },
        "outputId": "414389c9-2b2a-428c-bca2-16028ee7bfd0"
      },
      "source": [
        "df.dtypes"
      ],
      "execution_count": null,
      "outputs": [
        {
          "output_type": "execute_result",
          "data": {
            "text/plain": [
              "Numero Formulaire 2021                 float64\n",
              "Numero Electeur                         object\n",
              "Code Departement                         int64\n",
              "Libelle Departement                     object\n",
              "Code Sous-Prefecture                     int64\n",
              "Libelle Sous-Prefecture                 object\n",
              "Code Commune                             int64\n",
              "Libelle Commune                         object\n",
              "Code Lieu de Vote                        int64\n",
              "Libelle Lieu de Vote                    object\n",
              "Bureau de vote                           int64\n",
              "Nom/Nom de Jeune Fille                  object\n",
              "Nom d'Epouse                            object\n",
              "Prenoms                                 object\n",
              "Sexe                                    object\n",
              "Date de Naissance               datetime64[ns]\n",
              "Lieu de Naissance                       object\n",
              "Nom du Pere                             object\n",
              "Prenoms du Pere                         object\n",
              "Date de Naissance du Pere       datetime64[ns]\n",
              "Lieu de Naissance du Pere               object\n",
              "Nom de la Mere                          object\n",
              "Prenoms de la Mere                      object\n",
              "Date de Naissance de la Mere    datetime64[ns]\n",
              "Lieu de Naissance de la Mere            object\n",
              "Adresse Physique                        object\n",
              "Adresse Postale                         object\n",
              "Profession                              object\n",
              "fil-prenom                              object\n",
              "Age-20                                   int64\n",
              "Age2020                                  int64\n",
              "fil_pre_dob                             object\n",
              "b-id                                    object\n",
              "dtype: object"
            ]
          },
          "metadata": {},
          "execution_count": 84
        }
      ]
    },
    {
      "cell_type": "markdown",
      "metadata": {
        "id": "wFMPHwqsmHK6"
      },
      "source": [
        "And now let's repeat for Date de Naissance du Pere & Date de Naissance de la Mere"
      ]
    },
    {
      "cell_type": "code",
      "metadata": {
        "id": "mGQajSfemG-a"
      },
      "source": [
        "df['Date de Naissance du Pere'] = pd.to_datetime(df['Date de Naissance du Pere'], infer_datetime_format=True)"
      ],
      "execution_count": null,
      "outputs": []
    },
    {
      "cell_type": "code",
      "source": [
        "df['Date de Naissance de la Mere'] = pd.to_datetime(df['Date de Naissance de la Mere'], infer_datetime_format=True)"
      ],
      "metadata": {
        "id": "14NZEo4lsGuB"
      },
      "execution_count": null,
      "outputs": []
    },
    {
      "cell_type": "markdown",
      "metadata": {
        "id": "IzrrnDcJoe9u"
      },
      "source": [
        "Let's create a new variable called age that take the difference in months and years between the date of birth and now/ today  "
      ]
    },
    {
      "cell_type": "code",
      "metadata": {
        "id": "UuUwOt3gmm3D"
      },
      "source": [
        "d2020 = pd.to_datetime('31/10/2020')"
      ],
      "execution_count": null,
      "outputs": []
    },
    {
      "cell_type": "code",
      "metadata": {
        "id": "4gkwUfcZmm9Q"
      },
      "source": [
        "df['Age2020'] = (d2020.year - df['Date de Naissance'].dt.year) - ((d2020.month - df['Date de Naissance'].dt.month) < 0)"
      ],
      "execution_count": null,
      "outputs": []
    },
    {
      "cell_type": "code",
      "metadata": {
        "id": "FLjZ8wOTmnAv",
        "colab": {
          "base_uri": "https://localhost:8080/",
          "height": 699
        },
        "outputId": "39e9313c-7cb3-49c4-cea9-ef55d929785f"
      },
      "source": [
        "df.head()"
      ],
      "execution_count": null,
      "outputs": [
        {
          "output_type": "execute_result",
          "data": {
            "text/plain": [
              "   Numero Formulaire 2021 Numero Electeur  Code Departement  \\\n",
              "0            1065192259.0  V 0065 2924 53                 1   \n",
              "1                     NaN  V 0204 5947 41                 1   \n",
              "2                     NaN  V 0095 5498 80                 1   \n",
              "3            1065195182.0  V 0213 5607 77                 1   \n",
              "4                     NaN  V 0081 6013 67                 1   \n",
              "\n",
              "  Libelle Departement  Code Sous-Prefecture Libelle Sous-Prefecture  \\\n",
              "0           AGBOVILLE                     1               AGBOVILLE   \n",
              "1           AGBOVILLE                     1               AGBOVILLE   \n",
              "2           AGBOVILLE                     1               AGBOVILLE   \n",
              "3           AGBOVILLE                     1               AGBOVILLE   \n",
              "4           AGBOVILLE                     1               AGBOVILLE   \n",
              "\n",
              "   Code Commune Libelle Commune  Code Lieu de Vote       Libelle Lieu de Vote  \\\n",
              "0             1       AGBOVILLE                  1  G S ADAHOU EXTENTION 1- 2   \n",
              "1             1       AGBOVILLE                  1  G S ADAHOU EXTENTION 1- 2   \n",
              "2             1       AGBOVILLE                  1  G S ADAHOU EXTENTION 1- 2   \n",
              "3             1       AGBOVILLE                  1  G S ADAHOU EXTENTION 1- 2   \n",
              "4             1       AGBOVILLE                  1  G S ADAHOU EXTENTION 1- 2   \n",
              "\n",
              "   ...  Date de Naissance de la Mere Lieu de Naissance de la Mere  \\\n",
              "0  ...                    1951-01-01               GRAND AKOUDZIN   \n",
              "1  ...                           NaT                          NaN   \n",
              "2  ...                    1959-07-14                  GRAND-ALEPE   \n",
              "3  ...                    1962-01-01                      GOUMERE   \n",
              "4  ...                    1900-01-01                    AGBOVILLE   \n",
              "\n",
              "              Adresse Physique     Adresse Postale        Profession  \\\n",
              "0  AGBOVILLE ADAHOU EXTENSION     BP 512 AGBOVILLE      INSTITUTRICE   \n",
              "1            ADAHOU AGBOVILLE                 BP               ELEVE   \n",
              "2            ADAHOU EXTENSION   05 BP 2663 ABIDJAN        PROFESSEUR   \n",
              "3  AGBOVILLE ADAHOU EXTENTION                 BP               ELEVE   \n",
              "4            ADAHOU EXTENSION                 BP    ELEVE FOOTBALEUR   \n",
              "\n",
              "                     fil-prenom Age-20 Age2020  \\\n",
              "0             ABAH-MARIE EDWIGE     45      45   \n",
              "1  ABBA-ATTOWLA HERMANN CEDRICK     24      24   \n",
              "2            ABBE-YAYA CAROLINE     39      39   \n",
              "3               ABO-YAO SYLVAIN     20      20   \n",
              "4         ABOH-TETCHI SERGE ANO     29      29   \n",
              "\n",
              "                               fil_pre_dob  \\\n",
              "0             ABAH-MARIE EDWIGE-1975-10-10   \n",
              "1  ABBA-ATTOWLA HERMANN CEDRICK-1996-10-19   \n",
              "2            ABBE-YAYA CAROLINE-1980-12-29   \n",
              "3               ABO-YAO SYLVAIN-2000-04-05   \n",
              "4         ABOH-TETCHI SERGE ANO-1990-12-30   \n",
              "\n",
              "                                                b-id  \n",
              "0  1-AGBOVILLE-AGBOVILLE-G S ADAHOU EXTENTION 1- 2-1  \n",
              "1  1-AGBOVILLE-AGBOVILLE-G S ADAHOU EXTENTION 1- 2-1  \n",
              "2  1-AGBOVILLE-AGBOVILLE-G S ADAHOU EXTENTION 1- 2-1  \n",
              "3  1-AGBOVILLE-AGBOVILLE-G S ADAHOU EXTENTION 1- 2-1  \n",
              "4  1-AGBOVILLE-AGBOVILLE-G S ADAHOU EXTENTION 1- 2-1  \n",
              "\n",
              "[5 rows x 33 columns]"
            ],
            "text/html": [
              "\n",
              "  <div id=\"df-0ceb497a-b3f2-4682-bc2f-9d88aa20274b\">\n",
              "    <div class=\"colab-df-container\">\n",
              "      <div>\n",
              "<style scoped>\n",
              "    .dataframe tbody tr th:only-of-type {\n",
              "        vertical-align: middle;\n",
              "    }\n",
              "\n",
              "    .dataframe tbody tr th {\n",
              "        vertical-align: top;\n",
              "    }\n",
              "\n",
              "    .dataframe thead th {\n",
              "        text-align: right;\n",
              "    }\n",
              "</style>\n",
              "<table border=\"1\" class=\"dataframe\">\n",
              "  <thead>\n",
              "    <tr style=\"text-align: right;\">\n",
              "      <th></th>\n",
              "      <th>Numero Formulaire 2021</th>\n",
              "      <th>Numero Electeur</th>\n",
              "      <th>Code Departement</th>\n",
              "      <th>Libelle Departement</th>\n",
              "      <th>Code Sous-Prefecture</th>\n",
              "      <th>Libelle Sous-Prefecture</th>\n",
              "      <th>Code Commune</th>\n",
              "      <th>Libelle Commune</th>\n",
              "      <th>Code Lieu de Vote</th>\n",
              "      <th>Libelle Lieu de Vote</th>\n",
              "      <th>...</th>\n",
              "      <th>Date de Naissance de la Mere</th>\n",
              "      <th>Lieu de Naissance de la Mere</th>\n",
              "      <th>Adresse Physique</th>\n",
              "      <th>Adresse Postale</th>\n",
              "      <th>Profession</th>\n",
              "      <th>fil-prenom</th>\n",
              "      <th>Age-20</th>\n",
              "      <th>Age2020</th>\n",
              "      <th>fil_pre_dob</th>\n",
              "      <th>b-id</th>\n",
              "    </tr>\n",
              "  </thead>\n",
              "  <tbody>\n",
              "    <tr>\n",
              "      <th>0</th>\n",
              "      <td>1065192259.0</td>\n",
              "      <td>V 0065 2924 53</td>\n",
              "      <td>1</td>\n",
              "      <td>AGBOVILLE</td>\n",
              "      <td>1</td>\n",
              "      <td>AGBOVILLE</td>\n",
              "      <td>1</td>\n",
              "      <td>AGBOVILLE</td>\n",
              "      <td>1</td>\n",
              "      <td>G S ADAHOU EXTENTION 1- 2</td>\n",
              "      <td>...</td>\n",
              "      <td>1951-01-01</td>\n",
              "      <td>GRAND AKOUDZIN</td>\n",
              "      <td>AGBOVILLE ADAHOU EXTENSION</td>\n",
              "      <td>BP 512 AGBOVILLE</td>\n",
              "      <td>INSTITUTRICE</td>\n",
              "      <td>ABAH-MARIE EDWIGE</td>\n",
              "      <td>45</td>\n",
              "      <td>45</td>\n",
              "      <td>ABAH-MARIE EDWIGE-1975-10-10</td>\n",
              "      <td>1-AGBOVILLE-AGBOVILLE-G S ADAHOU EXTENTION 1- 2-1</td>\n",
              "    </tr>\n",
              "    <tr>\n",
              "      <th>1</th>\n",
              "      <td>NaN</td>\n",
              "      <td>V 0204 5947 41</td>\n",
              "      <td>1</td>\n",
              "      <td>AGBOVILLE</td>\n",
              "      <td>1</td>\n",
              "      <td>AGBOVILLE</td>\n",
              "      <td>1</td>\n",
              "      <td>AGBOVILLE</td>\n",
              "      <td>1</td>\n",
              "      <td>G S ADAHOU EXTENTION 1- 2</td>\n",
              "      <td>...</td>\n",
              "      <td>NaT</td>\n",
              "      <td>NaN</td>\n",
              "      <td>ADAHOU AGBOVILLE</td>\n",
              "      <td>BP</td>\n",
              "      <td>ELEVE</td>\n",
              "      <td>ABBA-ATTOWLA HERMANN CEDRICK</td>\n",
              "      <td>24</td>\n",
              "      <td>24</td>\n",
              "      <td>ABBA-ATTOWLA HERMANN CEDRICK-1996-10-19</td>\n",
              "      <td>1-AGBOVILLE-AGBOVILLE-G S ADAHOU EXTENTION 1- 2-1</td>\n",
              "    </tr>\n",
              "    <tr>\n",
              "      <th>2</th>\n",
              "      <td>NaN</td>\n",
              "      <td>V 0095 5498 80</td>\n",
              "      <td>1</td>\n",
              "      <td>AGBOVILLE</td>\n",
              "      <td>1</td>\n",
              "      <td>AGBOVILLE</td>\n",
              "      <td>1</td>\n",
              "      <td>AGBOVILLE</td>\n",
              "      <td>1</td>\n",
              "      <td>G S ADAHOU EXTENTION 1- 2</td>\n",
              "      <td>...</td>\n",
              "      <td>1959-07-14</td>\n",
              "      <td>GRAND-ALEPE</td>\n",
              "      <td>ADAHOU EXTENSION</td>\n",
              "      <td>05 BP 2663 ABIDJAN</td>\n",
              "      <td>PROFESSEUR</td>\n",
              "      <td>ABBE-YAYA CAROLINE</td>\n",
              "      <td>39</td>\n",
              "      <td>39</td>\n",
              "      <td>ABBE-YAYA CAROLINE-1980-12-29</td>\n",
              "      <td>1-AGBOVILLE-AGBOVILLE-G S ADAHOU EXTENTION 1- 2-1</td>\n",
              "    </tr>\n",
              "    <tr>\n",
              "      <th>3</th>\n",
              "      <td>1065195182.0</td>\n",
              "      <td>V 0213 5607 77</td>\n",
              "      <td>1</td>\n",
              "      <td>AGBOVILLE</td>\n",
              "      <td>1</td>\n",
              "      <td>AGBOVILLE</td>\n",
              "      <td>1</td>\n",
              "      <td>AGBOVILLE</td>\n",
              "      <td>1</td>\n",
              "      <td>G S ADAHOU EXTENTION 1- 2</td>\n",
              "      <td>...</td>\n",
              "      <td>1962-01-01</td>\n",
              "      <td>GOUMERE</td>\n",
              "      <td>AGBOVILLE ADAHOU EXTENTION</td>\n",
              "      <td>BP</td>\n",
              "      <td>ELEVE</td>\n",
              "      <td>ABO-YAO SYLVAIN</td>\n",
              "      <td>20</td>\n",
              "      <td>20</td>\n",
              "      <td>ABO-YAO SYLVAIN-2000-04-05</td>\n",
              "      <td>1-AGBOVILLE-AGBOVILLE-G S ADAHOU EXTENTION 1- 2-1</td>\n",
              "    </tr>\n",
              "    <tr>\n",
              "      <th>4</th>\n",
              "      <td>NaN</td>\n",
              "      <td>V 0081 6013 67</td>\n",
              "      <td>1</td>\n",
              "      <td>AGBOVILLE</td>\n",
              "      <td>1</td>\n",
              "      <td>AGBOVILLE</td>\n",
              "      <td>1</td>\n",
              "      <td>AGBOVILLE</td>\n",
              "      <td>1</td>\n",
              "      <td>G S ADAHOU EXTENTION 1- 2</td>\n",
              "      <td>...</td>\n",
              "      <td>1900-01-01</td>\n",
              "      <td>AGBOVILLE</td>\n",
              "      <td>ADAHOU EXTENSION</td>\n",
              "      <td>BP</td>\n",
              "      <td>ELEVE FOOTBALEUR</td>\n",
              "      <td>ABOH-TETCHI SERGE ANO</td>\n",
              "      <td>29</td>\n",
              "      <td>29</td>\n",
              "      <td>ABOH-TETCHI SERGE ANO-1990-12-30</td>\n",
              "      <td>1-AGBOVILLE-AGBOVILLE-G S ADAHOU EXTENTION 1- 2-1</td>\n",
              "    </tr>\n",
              "  </tbody>\n",
              "</table>\n",
              "<p>5 rows × 33 columns</p>\n",
              "</div>\n",
              "      <button class=\"colab-df-convert\" onclick=\"convertToInteractive('df-0ceb497a-b3f2-4682-bc2f-9d88aa20274b')\"\n",
              "              title=\"Convert this dataframe to an interactive table.\"\n",
              "              style=\"display:none;\">\n",
              "        \n",
              "  <svg xmlns=\"http://www.w3.org/2000/svg\" height=\"24px\"viewBox=\"0 0 24 24\"\n",
              "       width=\"24px\">\n",
              "    <path d=\"M0 0h24v24H0V0z\" fill=\"none\"/>\n",
              "    <path d=\"M18.56 5.44l.94 2.06.94-2.06 2.06-.94-2.06-.94-.94-2.06-.94 2.06-2.06.94zm-11 1L8.5 8.5l.94-2.06 2.06-.94-2.06-.94L8.5 2.5l-.94 2.06-2.06.94zm10 10l.94 2.06.94-2.06 2.06-.94-2.06-.94-.94-2.06-.94 2.06-2.06.94z\"/><path d=\"M17.41 7.96l-1.37-1.37c-.4-.4-.92-.59-1.43-.59-.52 0-1.04.2-1.43.59L10.3 9.45l-7.72 7.72c-.78.78-.78 2.05 0 2.83L4 21.41c.39.39.9.59 1.41.59.51 0 1.02-.2 1.41-.59l7.78-7.78 2.81-2.81c.8-.78.8-2.07 0-2.86zM5.41 20L4 18.59l7.72-7.72 1.47 1.35L5.41 20z\"/>\n",
              "  </svg>\n",
              "      </button>\n",
              "      \n",
              "  <style>\n",
              "    .colab-df-container {\n",
              "      display:flex;\n",
              "      flex-wrap:wrap;\n",
              "      gap: 12px;\n",
              "    }\n",
              "\n",
              "    .colab-df-convert {\n",
              "      background-color: #E8F0FE;\n",
              "      border: none;\n",
              "      border-radius: 50%;\n",
              "      cursor: pointer;\n",
              "      display: none;\n",
              "      fill: #1967D2;\n",
              "      height: 32px;\n",
              "      padding: 0 0 0 0;\n",
              "      width: 32px;\n",
              "    }\n",
              "\n",
              "    .colab-df-convert:hover {\n",
              "      background-color: #E2EBFA;\n",
              "      box-shadow: 0px 1px 2px rgba(60, 64, 67, 0.3), 0px 1px 3px 1px rgba(60, 64, 67, 0.15);\n",
              "      fill: #174EA6;\n",
              "    }\n",
              "\n",
              "    [theme=dark] .colab-df-convert {\n",
              "      background-color: #3B4455;\n",
              "      fill: #D2E3FC;\n",
              "    }\n",
              "\n",
              "    [theme=dark] .colab-df-convert:hover {\n",
              "      background-color: #434B5C;\n",
              "      box-shadow: 0px 1px 3px 1px rgba(0, 0, 0, 0.15);\n",
              "      filter: drop-shadow(0px 1px 2px rgba(0, 0, 0, 0.3));\n",
              "      fill: #FFFFFF;\n",
              "    }\n",
              "  </style>\n",
              "\n",
              "      <script>\n",
              "        const buttonEl =\n",
              "          document.querySelector('#df-0ceb497a-b3f2-4682-bc2f-9d88aa20274b button.colab-df-convert');\n",
              "        buttonEl.style.display =\n",
              "          google.colab.kernel.accessAllowed ? 'block' : 'none';\n",
              "\n",
              "        async function convertToInteractive(key) {\n",
              "          const element = document.querySelector('#df-0ceb497a-b3f2-4682-bc2f-9d88aa20274b');\n",
              "          const dataTable =\n",
              "            await google.colab.kernel.invokeFunction('convertToInteractive',\n",
              "                                                     [key], {});\n",
              "          if (!dataTable) return;\n",
              "\n",
              "          const docLinkHtml = 'Like what you see? Visit the ' +\n",
              "            '<a target=\"_blank\" href=https://colab.research.google.com/notebooks/data_table.ipynb>data table notebook</a>'\n",
              "            + ' to learn more about interactive tables.';\n",
              "          element.innerHTML = '';\n",
              "          dataTable['output_type'] = 'display_data';\n",
              "          await google.colab.output.renderOutput(dataTable, element);\n",
              "          const docLink = document.createElement('div');\n",
              "          docLink.innerHTML = docLinkHtml;\n",
              "          element.appendChild(docLink);\n",
              "        }\n",
              "      </script>\n",
              "    </div>\n",
              "  </div>\n",
              "  "
            ]
          },
          "metadata": {},
          "execution_count": 85
        }
      ]
    },
    {
      "cell_type": "code",
      "metadata": {
        "id": "Fx82_3UjpQOa",
        "colab": {
          "base_uri": "https://localhost:8080/"
        },
        "outputId": "c77f24cb-63ff-4ba2-a178-468f2298f1f6"
      },
      "source": [
        "df[\"Age2020\"].describe()"
      ],
      "execution_count": null,
      "outputs": [
        {
          "output_type": "execute_result",
          "data": {
            "text/plain": [
              "count   7495082.0\n",
              "mean         42.9\n",
              "std          14.7\n",
              "min           0.0\n",
              "25%          32.0\n",
              "50%          40.0\n",
              "75%          52.0\n",
              "max         170.0\n",
              "Name: Age2020, dtype: float64"
            ]
          },
          "metadata": {},
          "execution_count": 86
        }
      ]
    },
    {
      "cell_type": "markdown",
      "metadata": {
        "id": "-eC1U2gepQY1"
      },
      "source": [
        "Let's change display option so it does not show as scientific notation"
      ]
    },
    {
      "cell_type": "code",
      "metadata": {
        "id": "NTXcDMSDmnGk"
      },
      "source": [
        "pd.set_option('display.float_format', lambda x: '%.1f' % x)"
      ],
      "execution_count": null,
      "outputs": []
    },
    {
      "cell_type": "code",
      "metadata": {
        "id": "YZ9VDeDKPURG",
        "colab": {
          "base_uri": "https://localhost:8080/",
          "height": 525
        },
        "outputId": "81a7e988-c737-44ea-90b4-f28a2d9b1daf"
      },
      "source": [
        "df[\"Age2020\"].describe()"
      ],
      "execution_count": null,
      "outputs": [
        {
          "output_type": "error",
          "ename": "KeyError",
          "evalue": "ignored",
          "traceback": [
            "\u001b[0;31m---------------------------------------------------------------------------\u001b[0m",
            "\u001b[0;31mKeyError\u001b[0m                                  Traceback (most recent call last)",
            "\u001b[0;32m/usr/local/lib/python3.7/dist-packages/pandas/core/indexes/base.py\u001b[0m in \u001b[0;36mget_loc\u001b[0;34m(self, key, method, tolerance)\u001b[0m\n\u001b[1;32m   3360\u001b[0m             \u001b[0;32mtry\u001b[0m\u001b[0;34m:\u001b[0m\u001b[0;34m\u001b[0m\u001b[0;34m\u001b[0m\u001b[0m\n\u001b[0;32m-> 3361\u001b[0;31m                 \u001b[0;32mreturn\u001b[0m \u001b[0mself\u001b[0m\u001b[0;34m.\u001b[0m\u001b[0m_engine\u001b[0m\u001b[0;34m.\u001b[0m\u001b[0mget_loc\u001b[0m\u001b[0;34m(\u001b[0m\u001b[0mcasted_key\u001b[0m\u001b[0;34m)\u001b[0m\u001b[0;34m\u001b[0m\u001b[0;34m\u001b[0m\u001b[0m\n\u001b[0m\u001b[1;32m   3362\u001b[0m             \u001b[0;32mexcept\u001b[0m \u001b[0mKeyError\u001b[0m \u001b[0;32mas\u001b[0m \u001b[0merr\u001b[0m\u001b[0;34m:\u001b[0m\u001b[0;34m\u001b[0m\u001b[0;34m\u001b[0m\u001b[0m\n",
            "\u001b[0;32m/usr/local/lib/python3.7/dist-packages/pandas/_libs/index.pyx\u001b[0m in \u001b[0;36mpandas._libs.index.IndexEngine.get_loc\u001b[0;34m()\u001b[0m\n",
            "\u001b[0;32m/usr/local/lib/python3.7/dist-packages/pandas/_libs/index.pyx\u001b[0m in \u001b[0;36mpandas._libs.index.IndexEngine.get_loc\u001b[0;34m()\u001b[0m\n",
            "\u001b[0;32mpandas/_libs/hashtable_class_helper.pxi\u001b[0m in \u001b[0;36mpandas._libs.hashtable.PyObjectHashTable.get_item\u001b[0;34m()\u001b[0m\n",
            "\u001b[0;32mpandas/_libs/hashtable_class_helper.pxi\u001b[0m in \u001b[0;36mpandas._libs.hashtable.PyObjectHashTable.get_item\u001b[0;34m()\u001b[0m\n",
            "\u001b[0;31mKeyError\u001b[0m: 'Age'",
            "\nThe above exception was the direct cause of the following exception:\n",
            "\u001b[0;31mKeyError\u001b[0m                                  Traceback (most recent call last)",
            "\u001b[0;32m<ipython-input-36-a19dd1571305>\u001b[0m in \u001b[0;36m<module>\u001b[0;34m()\u001b[0m\n\u001b[0;32m----> 1\u001b[0;31m \u001b[0mdf\u001b[0m\u001b[0;34m[\u001b[0m\u001b[0;34m\"Age\"\u001b[0m\u001b[0;34m]\u001b[0m\u001b[0;34m.\u001b[0m\u001b[0mdescribe\u001b[0m\u001b[0;34m(\u001b[0m\u001b[0;34m)\u001b[0m\u001b[0;34m\u001b[0m\u001b[0;34m\u001b[0m\u001b[0m\n\u001b[0m",
            "\u001b[0;32m/usr/local/lib/python3.7/dist-packages/pandas/core/frame.py\u001b[0m in \u001b[0;36m__getitem__\u001b[0;34m(self, key)\u001b[0m\n\u001b[1;32m   3456\u001b[0m             \u001b[0;32mif\u001b[0m \u001b[0mself\u001b[0m\u001b[0;34m.\u001b[0m\u001b[0mcolumns\u001b[0m\u001b[0;34m.\u001b[0m\u001b[0mnlevels\u001b[0m \u001b[0;34m>\u001b[0m \u001b[0;36m1\u001b[0m\u001b[0;34m:\u001b[0m\u001b[0;34m\u001b[0m\u001b[0;34m\u001b[0m\u001b[0m\n\u001b[1;32m   3457\u001b[0m                 \u001b[0;32mreturn\u001b[0m \u001b[0mself\u001b[0m\u001b[0;34m.\u001b[0m\u001b[0m_getitem_multilevel\u001b[0m\u001b[0;34m(\u001b[0m\u001b[0mkey\u001b[0m\u001b[0;34m)\u001b[0m\u001b[0;34m\u001b[0m\u001b[0;34m\u001b[0m\u001b[0m\n\u001b[0;32m-> 3458\u001b[0;31m             \u001b[0mindexer\u001b[0m \u001b[0;34m=\u001b[0m \u001b[0mself\u001b[0m\u001b[0;34m.\u001b[0m\u001b[0mcolumns\u001b[0m\u001b[0;34m.\u001b[0m\u001b[0mget_loc\u001b[0m\u001b[0;34m(\u001b[0m\u001b[0mkey\u001b[0m\u001b[0;34m)\u001b[0m\u001b[0;34m\u001b[0m\u001b[0;34m\u001b[0m\u001b[0m\n\u001b[0m\u001b[1;32m   3459\u001b[0m             \u001b[0;32mif\u001b[0m \u001b[0mis_integer\u001b[0m\u001b[0;34m(\u001b[0m\u001b[0mindexer\u001b[0m\u001b[0;34m)\u001b[0m\u001b[0;34m:\u001b[0m\u001b[0;34m\u001b[0m\u001b[0;34m\u001b[0m\u001b[0m\n\u001b[1;32m   3460\u001b[0m                 \u001b[0mindexer\u001b[0m \u001b[0;34m=\u001b[0m \u001b[0;34m[\u001b[0m\u001b[0mindexer\u001b[0m\u001b[0;34m]\u001b[0m\u001b[0;34m\u001b[0m\u001b[0;34m\u001b[0m\u001b[0m\n",
            "\u001b[0;32m/usr/local/lib/python3.7/dist-packages/pandas/core/indexes/base.py\u001b[0m in \u001b[0;36mget_loc\u001b[0;34m(self, key, method, tolerance)\u001b[0m\n\u001b[1;32m   3361\u001b[0m                 \u001b[0;32mreturn\u001b[0m \u001b[0mself\u001b[0m\u001b[0;34m.\u001b[0m\u001b[0m_engine\u001b[0m\u001b[0;34m.\u001b[0m\u001b[0mget_loc\u001b[0m\u001b[0;34m(\u001b[0m\u001b[0mcasted_key\u001b[0m\u001b[0;34m)\u001b[0m\u001b[0;34m\u001b[0m\u001b[0;34m\u001b[0m\u001b[0m\n\u001b[1;32m   3362\u001b[0m             \u001b[0;32mexcept\u001b[0m \u001b[0mKeyError\u001b[0m \u001b[0;32mas\u001b[0m \u001b[0merr\u001b[0m\u001b[0;34m:\u001b[0m\u001b[0;34m\u001b[0m\u001b[0;34m\u001b[0m\u001b[0m\n\u001b[0;32m-> 3363\u001b[0;31m                 \u001b[0;32mraise\u001b[0m \u001b[0mKeyError\u001b[0m\u001b[0;34m(\u001b[0m\u001b[0mkey\u001b[0m\u001b[0;34m)\u001b[0m \u001b[0;32mfrom\u001b[0m \u001b[0merr\u001b[0m\u001b[0;34m\u001b[0m\u001b[0;34m\u001b[0m\u001b[0m\n\u001b[0m\u001b[1;32m   3364\u001b[0m \u001b[0;34m\u001b[0m\u001b[0m\n\u001b[1;32m   3365\u001b[0m         \u001b[0;32mif\u001b[0m \u001b[0mis_scalar\u001b[0m\u001b[0;34m(\u001b[0m\u001b[0mkey\u001b[0m\u001b[0;34m)\u001b[0m \u001b[0;32mand\u001b[0m \u001b[0misna\u001b[0m\u001b[0;34m(\u001b[0m\u001b[0mkey\u001b[0m\u001b[0;34m)\u001b[0m \u001b[0;32mand\u001b[0m \u001b[0;32mnot\u001b[0m \u001b[0mself\u001b[0m\u001b[0;34m.\u001b[0m\u001b[0mhasnans\u001b[0m\u001b[0;34m:\u001b[0m\u001b[0;34m\u001b[0m\u001b[0;34m\u001b[0m\u001b[0m\n",
            "\u001b[0;31mKeyError\u001b[0m: 'Age'"
          ]
        }
      ]
    },
    {
      "cell_type": "code",
      "metadata": {
        "id": "_829wV0_92e_"
      },
      "source": [
        "# to reset the display values to default, uncomment below\n",
        "#pd.reset_option(\"all\") "
      ],
      "execution_count": null,
      "outputs": []
    },
    {
      "cell_type": "markdown",
      "metadata": {
        "collapsed": true,
        "id": "pswBHsaQPURM"
      },
      "source": [
        "<a name=\"plots\"></a>\n",
        "# Snapshot of histograms (plots)"
      ]
    },
    {
      "cell_type": "markdown",
      "metadata": {
        "id": "dBt5A-koPURN"
      },
      "source": [
        "Let's make a simple histogram of Age"
      ]
    },
    {
      "cell_type": "code",
      "metadata": {
        "id": "so699Jl0PURO",
        "colab": {
          "base_uri": "https://localhost:8080/",
          "height": 318
        },
        "outputId": "3aca9e66-71f9-4661-c8e4-a1939fe015a5"
      },
      "source": [
        "df.hist('Age2020')"
      ],
      "execution_count": null,
      "outputs": [
        {
          "output_type": "execute_result",
          "data": {
            "text/plain": [
              "array([[<matplotlib.axes._subplots.AxesSubplot object at 0x7ff6b3c59390>]],\n",
              "      dtype=object)"
            ]
          },
          "metadata": {},
          "execution_count": 87
        },
        {
          "output_type": "display_data",
          "data": {
            "text/plain": [
              "<Figure size 432x288 with 1 Axes>"
            ],
            "image/png": "[encoded data removed]"
          },
          "metadata": {
            "needs_background": "light"
          }
        }
      ]
    },
    {
      "cell_type": "markdown",
      "metadata": {
        "id": "kQfKIu__PURS"
      },
      "source": [
        "Let's say we want more bins so we get a better sense of the distribution. We can specify the number of bins:"
      ]
    },
    {
      "cell_type": "code",
      "metadata": {
        "id": "1K06EcrnPURT",
        "colab": {
          "base_uri": "https://localhost:8080/",
          "height": 318
        },
        "outputId": "0a77de32-72e7-4d39-8b81-b427b7406ea9"
      },
      "source": [
        "df.hist(column = 'Age2020', bins = 20)"
      ],
      "execution_count": null,
      "outputs": [
        {
          "output_type": "execute_result",
          "data": {
            "text/plain": [
              "array([[<matplotlib.axes._subplots.AxesSubplot object at 0x7ff631500650>]],\n",
              "      dtype=object)"
            ]
          },
          "metadata": {},
          "execution_count": 88
        },
        {
          "output_type": "display_data",
          "data": {
            "text/plain": [
              "<Figure size 432x288 with 1 Axes>"
            ],
            "image/png": "[encoded data removed]"
          },
          "metadata": {
            "needs_background": "light"
          }
        }
      ]
    },
    {
      "cell_type": "markdown",
      "metadata": {
        "id": "7UvG0t-6PURV"
      },
      "source": [
        "The default options for plots are pretty ugly. This code will applying one of the styles available called ggplot to all of our next plots.  It incorporates many of the best practices for presenting data and focus on simplicity. It is modeled after the plotting system in the R language. "
      ]
    },
    {
      "cell_type": "code",
      "metadata": {
        "id": "GJ8YfpvgPURW"
      },
      "source": [
        "plt.style.use('ggplot')"
      ],
      "execution_count": null,
      "outputs": []
    },
    {
      "cell_type": "code",
      "metadata": {
        "id": "X23e6pE5PURZ",
        "colab": {
          "base_uri": "https://localhost:8080/",
          "height": 319
        },
        "outputId": "722ac67a-d33b-450b-f28d-af30e0f847f8"
      },
      "source": [
        "df.hist(column = 'Age2020', bins = 20)"
      ],
      "execution_count": null,
      "outputs": [
        {
          "output_type": "execute_result",
          "data": {
            "text/plain": [
              "array([[<matplotlib.axes._subplots.AxesSubplot object at 0x7ff67015c110>]],\n",
              "      dtype=object)"
            ]
          },
          "metadata": {},
          "execution_count": 90
        },
        {
          "output_type": "display_data",
          "data": {
            "text/plain": [
              "<Figure size 432x288 with 1 Axes>"
            ],
            "image/png": "[encoded data removed]"
          },
          "metadata": {}
        }
      ]
    },
    {
      "cell_type": "code",
      "metadata": {
        "id": "xGylN7CkPURd"
      },
      "source": [
        "plt.style.use('seaborn-deep')"
      ],
      "execution_count": null,
      "outputs": []
    },
    {
      "cell_type": "code",
      "metadata": {
        "id": "4hAoB_KEPURe",
        "colab": {
          "base_uri": "https://localhost:8080/",
          "height": 319
        },
        "outputId": "3d47f53a-ab5b-416b-edc0-cbbbbc74aa99"
      },
      "source": [
        "df.hist(column = 'Age2020', bins = 20)"
      ],
      "execution_count": null,
      "outputs": [
        {
          "output_type": "execute_result",
          "data": {
            "text/plain": [
              "array([[<matplotlib.axes._subplots.AxesSubplot object at 0x7ff6760e16d0>]],\n",
              "      dtype=object)"
            ]
          },
          "metadata": {},
          "execution_count": 93
        },
        {
          "output_type": "display_data",
          "data": {
            "text/plain": [
              "<Figure size 432x288 with 1 Axes>"
            ],
            "image/png": "[encoded data removed]"
          },
          "metadata": {}
        }
      ]
    },
    {
      "cell_type": "markdown",
      "metadata": {
        "id": "ejDW4zvpPURj"
      },
      "source": [
        "Or if you want to apply the style to just the one plot (and not all of them):"
      ]
    },
    {
      "cell_type": "code",
      "metadata": {
        "id": "jKT93VZQPURl",
        "colab": {
          "base_uri": "https://localhost:8080/",
          "height": 282
        },
        "outputId": "a7807ef7-8bb9-4a25-d64b-a94eb95f3c25"
      },
      "source": [
        "with plt.style.context('seaborn-colorblind'):  #add this line \n",
        "    df.hist(column = 'Age2020', bins = 20)"
      ],
      "execution_count": null,
      "outputs": [
        {
          "output_type": "display_data",
          "data": {
            "text/plain": [
              "<Figure size 432x288 with 1 Axes>"
            ],
            "image/png": "[encoded data removed]"
          },
          "metadata": {}
        }
      ]
    },
    {
      "cell_type": "markdown",
      "metadata": {
        "id": "Cif_xffgPURo"
      },
      "source": [
        "You can also change the title to a specific text and style it (last line below) using the plt.title method and parameters: "
      ]
    },
    {
      "cell_type": "code",
      "metadata": {
        "id": "kwCvn_t5PURq",
        "colab": {
          "base_uri": "https://localhost:8080/",
          "height": 283
        },
        "outputId": "195cfce9-6f9a-4f87-fb07-d5b99698524f"
      },
      "source": [
        "with plt.style.context('seaborn-colorblind'):  \n",
        "    df.hist(column = 'Age2020', bins = 20)\n",
        "    plt.title(\"Age 92020) Distribution\", fontname='Arial', fontsize=16, fontstyle='italic', fontweight='bold', color='darkblue')"
      ],
      "execution_count": null,
      "outputs": [
        {
          "output_type": "display_data",
          "data": {
            "text/plain": [
              "<Figure size 432x288 with 1 Axes>"
            ],
            "image/png": "[encoded data removed]"
          },
          "metadata": {}
        }
      ]
    },
    {
      "cell_type": "markdown",
      "metadata": {
        "id": "nriuAizzPURr"
      },
      "source": [
        "If you want to see the styles available, run the code below. Here is a gallery of the styles: https://tonysyu.github.io/raw_content/matplotlib-style-gallery/gallery.html"
      ]
    },
    {
      "cell_type": "code",
      "metadata": {
        "id": "SCU2ItxIPURs",
        "colab": {
          "base_uri": "https://localhost:8080/"
        },
        "outputId": "90ba3b38-c219-41b7-929c-f4abd67e35a0"
      },
      "source": [
        "plt.style.available"
      ],
      "execution_count": null,
      "outputs": [
        {
          "output_type": "execute_result",
          "data": {
            "text/plain": [
              "['Solarize_Light2',\n",
              " '_classic_test_patch',\n",
              " 'bmh',\n",
              " 'classic',\n",
              " 'dark_background',\n",
              " 'fast',\n",
              " 'fivethirtyeight',\n",
              " 'ggplot',\n",
              " 'grayscale',\n",
              " 'seaborn',\n",
              " 'seaborn-bright',\n",
              " 'seaborn-colorblind',\n",
              " 'seaborn-dark',\n",
              " 'seaborn-dark-palette',\n",
              " 'seaborn-darkgrid',\n",
              " 'seaborn-deep',\n",
              " 'seaborn-muted',\n",
              " 'seaborn-notebook',\n",
              " 'seaborn-paper',\n",
              " 'seaborn-pastel',\n",
              " 'seaborn-poster',\n",
              " 'seaborn-talk',\n",
              " 'seaborn-ticks',\n",
              " 'seaborn-white',\n",
              " 'seaborn-whitegrid',\n",
              " 'tableau-colorblind10']"
            ]
          },
          "metadata": {},
          "execution_count": 95
        }
      ]
    },
    {
      "cell_type": "markdown",
      "metadata": {
        "id": "5WgndjCl-yMU"
      },
      "source": [
        "# Age 95 and older \n",
        "Let's create a new variable for 95 and over that will mark a 1 if Age is more than or equal to 60 "
      ]
    },
    {
      "cell_type": "code",
      "metadata": {
        "id": "B5pzJ1qRqUJ-",
        "colab": {
          "base_uri": "https://localhost:8080/",
          "height": 699
        },
        "outputId": "5b346160-bf9d-4500-ae72-065311bfc417"
      },
      "source": [
        "df['95_over'] = df['Age2020'].apply(lambda x: 1 if x >= 95 else 0)\n",
        "df.head()"
      ],
      "execution_count": null,
      "outputs": [
        {
          "output_type": "execute_result",
          "data": {
            "text/plain": [
              "   Numero Formulaire 2021 Numero Electeur  Code Departement  \\\n",
              "0            1065192259.0  V 0065 2924 53                 1   \n",
              "1                     NaN  V 0204 5947 41                 1   \n",
              "2                     NaN  V 0095 5498 80                 1   \n",
              "3            1065195182.0  V 0213 5607 77                 1   \n",
              "4                     NaN  V 0081 6013 67                 1   \n",
              "\n",
              "  Libelle Departement  Code Sous-Prefecture Libelle Sous-Prefecture  \\\n",
              "0           AGBOVILLE                     1               AGBOVILLE   \n",
              "1           AGBOVILLE                     1               AGBOVILLE   \n",
              "2           AGBOVILLE                     1               AGBOVILLE   \n",
              "3           AGBOVILLE                     1               AGBOVILLE   \n",
              "4           AGBOVILLE                     1               AGBOVILLE   \n",
              "\n",
              "   Code Commune Libelle Commune  Code Lieu de Vote       Libelle Lieu de Vote  \\\n",
              "0             1       AGBOVILLE                  1  G S ADAHOU EXTENTION 1- 2   \n",
              "1             1       AGBOVILLE                  1  G S ADAHOU EXTENTION 1- 2   \n",
              "2             1       AGBOVILLE                  1  G S ADAHOU EXTENTION 1- 2   \n",
              "3             1       AGBOVILLE                  1  G S ADAHOU EXTENTION 1- 2   \n",
              "4             1       AGBOVILLE                  1  G S ADAHOU EXTENTION 1- 2   \n",
              "\n",
              "   ...  Lieu de Naissance de la Mere             Adresse Physique  \\\n",
              "0  ...                GRAND AKOUDZIN  AGBOVILLE ADAHOU EXTENSION    \n",
              "1  ...                           NaN            ADAHOU AGBOVILLE    \n",
              "2  ...                   GRAND-ALEPE            ADAHOU EXTENSION    \n",
              "3  ...                       GOUMERE  AGBOVILLE ADAHOU EXTENTION    \n",
              "4  ...                     AGBOVILLE            ADAHOU EXTENSION    \n",
              "\n",
              "      Adresse Postale        Profession                    fil-prenom Age-20  \\\n",
              "0    BP 512 AGBOVILLE      INSTITUTRICE             ABAH-MARIE EDWIGE     45   \n",
              "1                BP               ELEVE  ABBA-ATTOWLA HERMANN CEDRICK     24   \n",
              "2  05 BP 2663 ABIDJAN        PROFESSEUR            ABBE-YAYA CAROLINE     39   \n",
              "3                BP               ELEVE               ABO-YAO SYLVAIN     20   \n",
              "4                BP    ELEVE FOOTBALEUR         ABOH-TETCHI SERGE ANO     29   \n",
              "\n",
              "  Age2020                              fil_pre_dob  \\\n",
              "0      45             ABAH-MARIE EDWIGE-1975-10-10   \n",
              "1      24  ABBA-ATTOWLA HERMANN CEDRICK-1996-10-19   \n",
              "2      39            ABBE-YAYA CAROLINE-1980-12-29   \n",
              "3      20               ABO-YAO SYLVAIN-2000-04-05   \n",
              "4      29         ABOH-TETCHI SERGE ANO-1990-12-30   \n",
              "\n",
              "                                                b-id 95_over  \n",
              "0  1-AGBOVILLE-AGBOVILLE-G S ADAHOU EXTENTION 1- 2-1       0  \n",
              "1  1-AGBOVILLE-AGBOVILLE-G S ADAHOU EXTENTION 1- 2-1       0  \n",
              "2  1-AGBOVILLE-AGBOVILLE-G S ADAHOU EXTENTION 1- 2-1       0  \n",
              "3  1-AGBOVILLE-AGBOVILLE-G S ADAHOU EXTENTION 1- 2-1       0  \n",
              "4  1-AGBOVILLE-AGBOVILLE-G S ADAHOU EXTENTION 1- 2-1       0  \n",
              "\n",
              "[5 rows x 34 columns]"
            ],
            "text/html": [
              "\n",
              "  <div id=\"df-c54b0282-8719-4ccc-8e8f-d6c22717955c\">\n",
              "    <div class=\"colab-df-container\">\n",
              "      <div>\n",
              "<style scoped>\n",
              "    .dataframe tbody tr th:only-of-type {\n",
              "        vertical-align: middle;\n",
              "    }\n",
              "\n",
              "    .dataframe tbody tr th {\n",
              "        vertical-align: top;\n",
              "    }\n",
              "\n",
              "    .dataframe thead th {\n",
              "        text-align: right;\n",
              "    }\n",
              "</style>\n",
              "<table border=\"1\" class=\"dataframe\">\n",
              "  <thead>\n",
              "    <tr style=\"text-align: right;\">\n",
              "      <th></th>\n",
              "      <th>Numero Formulaire 2021</th>\n",
              "      <th>Numero Electeur</th>\n",
              "      <th>Code Departement</th>\n",
              "      <th>Libelle Departement</th>\n",
              "      <th>Code Sous-Prefecture</th>\n",
              "      <th>Libelle Sous-Prefecture</th>\n",
              "      <th>Code Commune</th>\n",
              "      <th>Libelle Commune</th>\n",
              "      <th>Code Lieu de Vote</th>\n",
              "      <th>Libelle Lieu de Vote</th>\n",
              "      <th>...</th>\n",
              "      <th>Lieu de Naissance de la Mere</th>\n",
              "      <th>Adresse Physique</th>\n",
              "      <th>Adresse Postale</th>\n",
              "      <th>Profession</th>\n",
              "      <th>fil-prenom</th>\n",
              "      <th>Age-20</th>\n",
              "      <th>Age2020</th>\n",
              "      <th>fil_pre_dob</th>\n",
              "      <th>b-id</th>\n",
              "      <th>95_over</th>\n",
              "    </tr>\n",
              "  </thead>\n",
              "  <tbody>\n",
              "    <tr>\n",
              "      <th>0</th>\n",
              "      <td>1065192259.0</td>\n",
              "      <td>V 0065 2924 53</td>\n",
              "      <td>1</td>\n",
              "      <td>AGBOVILLE</td>\n",
              "      <td>1</td>\n",
              "      <td>AGBOVILLE</td>\n",
              "      <td>1</td>\n",
              "      <td>AGBOVILLE</td>\n",
              "      <td>1</td>\n",
              "      <td>G S ADAHOU EXTENTION 1- 2</td>\n",
              "      <td>...</td>\n",
              "      <td>GRAND AKOUDZIN</td>\n",
              "      <td>AGBOVILLE ADAHOU EXTENSION</td>\n",
              "      <td>BP 512 AGBOVILLE</td>\n",
              "      <td>INSTITUTRICE</td>\n",
              "      <td>ABAH-MARIE EDWIGE</td>\n",
              "      <td>45</td>\n",
              "      <td>45</td>\n",
              "      <td>ABAH-MARIE EDWIGE-1975-10-10</td>\n",
              "      <td>1-AGBOVILLE-AGBOVILLE-G S ADAHOU EXTENTION 1- 2-1</td>\n",
              "      <td>0</td>\n",
              "    </tr>\n",
              "    <tr>\n",
              "      <th>1</th>\n",
              "      <td>NaN</td>\n",
              "      <td>V 0204 5947 41</td>\n",
              "      <td>1</td>\n",
              "      <td>AGBOVILLE</td>\n",
              "      <td>1</td>\n",
              "      <td>AGBOVILLE</td>\n",
              "      <td>1</td>\n",
              "      <td>AGBOVILLE</td>\n",
              "      <td>1</td>\n",
              "      <td>G S ADAHOU EXTENTION 1- 2</td>\n",
              "      <td>...</td>\n",
              "      <td>NaN</td>\n",
              "      <td>ADAHOU AGBOVILLE</td>\n",
              "      <td>BP</td>\n",
              "      <td>ELEVE</td>\n",
              "      <td>ABBA-ATTOWLA HERMANN CEDRICK</td>\n",
              "      <td>24</td>\n",
              "      <td>24</td>\n",
              "      <td>ABBA-ATTOWLA HERMANN CEDRICK-1996-10-19</td>\n",
              "      <td>1-AGBOVILLE-AGBOVILLE-G S ADAHOU EXTENTION 1- 2-1</td>\n",
              "      <td>0</td>\n",
              "    </tr>\n",
              "    <tr>\n",
              "      <th>2</th>\n",
              "      <td>NaN</td>\n",
              "      <td>V 0095 5498 80</td>\n",
              "      <td>1</td>\n",
              "      <td>AGBOVILLE</td>\n",
              "      <td>1</td>\n",
              "      <td>AGBOVILLE</td>\n",
              "      <td>1</td>\n",
              "      <td>AGBOVILLE</td>\n",
              "      <td>1</td>\n",
              "      <td>G S ADAHOU EXTENTION 1- 2</td>\n",
              "      <td>...</td>\n",
              "      <td>GRAND-ALEPE</td>\n",
              "      <td>ADAHOU EXTENSION</td>\n",
              "      <td>05 BP 2663 ABIDJAN</td>\n",
              "      <td>PROFESSEUR</td>\n",
              "      <td>ABBE-YAYA CAROLINE</td>\n",
              "      <td>39</td>\n",
              "      <td>39</td>\n",
              "      <td>ABBE-YAYA CAROLINE-1980-12-29</td>\n",
              "      <td>1-AGBOVILLE-AGBOVILLE-G S ADAHOU EXTENTION 1- 2-1</td>\n",
              "      <td>0</td>\n",
              "    </tr>\n",
              "    <tr>\n",
              "      <th>3</th>\n",
              "      <td>1065195182.0</td>\n",
              "      <td>V 0213 5607 77</td>\n",
              "      <td>1</td>\n",
              "      <td>AGBOVILLE</td>\n",
              "      <td>1</td>\n",
              "      <td>AGBOVILLE</td>\n",
              "      <td>1</td>\n",
              "      <td>AGBOVILLE</td>\n",
              "      <td>1</td>\n",
              "      <td>G S ADAHOU EXTENTION 1- 2</td>\n",
              "      <td>...</td>\n",
              "      <td>GOUMERE</td>\n",
              "      <td>AGBOVILLE ADAHOU EXTENTION</td>\n",
              "      <td>BP</td>\n",
              "      <td>ELEVE</td>\n",
              "      <td>ABO-YAO SYLVAIN</td>\n",
              "      <td>20</td>\n",
              "      <td>20</td>\n",
              "      <td>ABO-YAO SYLVAIN-2000-04-05</td>\n",
              "      <td>1-AGBOVILLE-AGBOVILLE-G S ADAHOU EXTENTION 1- 2-1</td>\n",
              "      <td>0</td>\n",
              "    </tr>\n",
              "    <tr>\n",
              "      <th>4</th>\n",
              "      <td>NaN</td>\n",
              "      <td>V 0081 6013 67</td>\n",
              "      <td>1</td>\n",
              "      <td>AGBOVILLE</td>\n",
              "      <td>1</td>\n",
              "      <td>AGBOVILLE</td>\n",
              "      <td>1</td>\n",
              "      <td>AGBOVILLE</td>\n",
              "      <td>1</td>\n",
              "      <td>G S ADAHOU EXTENTION 1- 2</td>\n",
              "      <td>...</td>\n",
              "      <td>AGBOVILLE</td>\n",
              "      <td>ADAHOU EXTENSION</td>\n",
              "      <td>BP</td>\n",
              "      <td>ELEVE FOOTBALEUR</td>\n",
              "      <td>ABOH-TETCHI SERGE ANO</td>\n",
              "      <td>29</td>\n",
              "      <td>29</td>\n",
              "      <td>ABOH-TETCHI SERGE ANO-1990-12-30</td>\n",
              "      <td>1-AGBOVILLE-AGBOVILLE-G S ADAHOU EXTENTION 1- 2-1</td>\n",
              "      <td>0</td>\n",
              "    </tr>\n",
              "  </tbody>\n",
              "</table>\n",
              "<p>5 rows × 34 columns</p>\n",
              "</div>\n",
              "      <button class=\"colab-df-convert\" onclick=\"convertToInteractive('df-c54b0282-8719-4ccc-8e8f-d6c22717955c')\"\n",
              "              title=\"Convert this dataframe to an interactive table.\"\n",
              "              style=\"display:none;\">\n",
              "        \n",
              "  <svg xmlns=\"http://www.w3.org/2000/svg\" height=\"24px\"viewBox=\"0 0 24 24\"\n",
              "       width=\"24px\">\n",
              "    <path d=\"M0 0h24v24H0V0z\" fill=\"none\"/>\n",
              "    <path d=\"M18.56 5.44l.94 2.06.94-2.06 2.06-.94-2.06-.94-.94-2.06-.94 2.06-2.06.94zm-11 1L8.5 8.5l.94-2.06 2.06-.94-2.06-.94L8.5 2.5l-.94 2.06-2.06.94zm10 10l.94 2.06.94-2.06 2.06-.94-2.06-.94-.94-2.06-.94 2.06-2.06.94z\"/><path d=\"M17.41 7.96l-1.37-1.37c-.4-.4-.92-.59-1.43-.59-.52 0-1.04.2-1.43.59L10.3 9.45l-7.72 7.72c-.78.78-.78 2.05 0 2.83L4 21.41c.39.39.9.59 1.41.59.51 0 1.02-.2 1.41-.59l7.78-7.78 2.81-2.81c.8-.78.8-2.07 0-2.86zM5.41 20L4 18.59l7.72-7.72 1.47 1.35L5.41 20z\"/>\n",
              "  </svg>\n",
              "      </button>\n",
              "      \n",
              "  <style>\n",
              "    .colab-df-container {\n",
              "      display:flex;\n",
              "      flex-wrap:wrap;\n",
              "      gap: 12px;\n",
              "    }\n",
              "\n",
              "    .colab-df-convert {\n",
              "      background-color: #E8F0FE;\n",
              "      border: none;\n",
              "      border-radius: 50%;\n",
              "      cursor: pointer;\n",
              "      display: none;\n",
              "      fill: #1967D2;\n",
              "      height: 32px;\n",
              "      padding: 0 0 0 0;\n",
              "      width: 32px;\n",
              "    }\n",
              "\n",
              "    .colab-df-convert:hover {\n",
              "      background-color: #E2EBFA;\n",
              "      box-shadow: 0px 1px 2px rgba(60, 64, 67, 0.3), 0px 1px 3px 1px rgba(60, 64, 67, 0.15);\n",
              "      fill: #174EA6;\n",
              "    }\n",
              "\n",
              "    [theme=dark] .colab-df-convert {\n",
              "      background-color: #3B4455;\n",
              "      fill: #D2E3FC;\n",
              "    }\n",
              "\n",
              "    [theme=dark] .colab-df-convert:hover {\n",
              "      background-color: #434B5C;\n",
              "      box-shadow: 0px 1px 3px 1px rgba(0, 0, 0, 0.15);\n",
              "      filter: drop-shadow(0px 1px 2px rgba(0, 0, 0, 0.3));\n",
              "      fill: #FFFFFF;\n",
              "    }\n",
              "  </style>\n",
              "\n",
              "      <script>\n",
              "        const buttonEl =\n",
              "          document.querySelector('#df-c54b0282-8719-4ccc-8e8f-d6c22717955c button.colab-df-convert');\n",
              "        buttonEl.style.display =\n",
              "          google.colab.kernel.accessAllowed ? 'block' : 'none';\n",
              "\n",
              "        async function convertToInteractive(key) {\n",
              "          const element = document.querySelector('#df-c54b0282-8719-4ccc-8e8f-d6c22717955c');\n",
              "          const dataTable =\n",
              "            await google.colab.kernel.invokeFunction('convertToInteractive',\n",
              "                                                     [key], {});\n",
              "          if (!dataTable) return;\n",
              "\n",
              "          const docLinkHtml = 'Like what you see? Visit the ' +\n",
              "            '<a target=\"_blank\" href=https://colab.research.google.com/notebooks/data_table.ipynb>data table notebook</a>'\n",
              "            + ' to learn more about interactive tables.';\n",
              "          element.innerHTML = '';\n",
              "          dataTable['output_type'] = 'display_data';\n",
              "          await google.colab.output.renderOutput(dataTable, element);\n",
              "          const docLink = document.createElement('div');\n",
              "          docLink.innerHTML = docLinkHtml;\n",
              "          element.appendChild(docLink);\n",
              "        }\n",
              "      </script>\n",
              "    </div>\n",
              "  </div>\n",
              "  "
            ]
          },
          "metadata": {},
          "execution_count": 95
        }
      ]
    },
    {
      "cell_type": "code",
      "metadata": {
        "id": "dOxnCmTxqUNA",
        "colab": {
          "base_uri": "https://localhost:8080/",
          "height": 379
        },
        "outputId": "b19f37db-c4b2-4405-e1a9-0032c3c89a75"
      },
      "source": [
        "df.describe()"
      ],
      "execution_count": null,
      "outputs": [
        {
          "output_type": "execute_result",
          "data": {
            "text/plain": [
              "       Numero Formulaire 2021  Code Departement  Code Sous-Prefecture  \\\n",
              "count               1649769.0         7495082.0             7495082.0   \n",
              "mean             1073101722.1              57.6                   3.0   \n",
              "std                36088587.6             111.7                   2.7   \n",
              "min              1001648208.0               1.0                   1.0   \n",
              "25%              1064775828.0              22.0                   1.0   \n",
              "50%              1072937065.0              35.0                   2.0   \n",
              "75%              1081762986.0              71.0                   4.0   \n",
              "max              9900300500.0             999.0                  23.0   \n",
              "\n",
              "       Code Commune  Code Lieu de Vote  Bureau de vote    Age-20   Age2020  \\\n",
              "count     7495082.0          7495082.0       7495082.0 7495082.0 7495082.0   \n",
              "mean           34.2               22.1             2.9      42.9      42.9   \n",
              "std            44.8               30.8             3.3      14.7      14.7   \n",
              "min             1.0                1.0             1.0       0.0       0.0   \n",
              "25%             1.0                4.0             1.0      32.0      32.0   \n",
              "50%             4.0               10.0             2.0      40.0      40.0   \n",
              "75%            98.0               26.0             4.0      52.0      52.0   \n",
              "max            98.0              173.0            68.0     170.0     170.0   \n",
              "\n",
              "        95_over  \n",
              "count 7495082.0  \n",
              "mean        0.0  \n",
              "std         0.0  \n",
              "min         0.0  \n",
              "25%         0.0  \n",
              "50%         0.0  \n",
              "75%         0.0  \n",
              "max         1.0  "
            ],
            "text/html": [
              "\n",
              "  <div id=\"df-86511e0f-5da3-4f52-9b13-8363b5a33041\">\n",
              "    <div class=\"colab-df-container\">\n",
              "      <div>\n",
              "<style scoped>\n",
              "    .dataframe tbody tr th:only-of-type {\n",
              "        vertical-align: middle;\n",
              "    }\n",
              "\n",
              "    .dataframe tbody tr th {\n",
              "        vertical-align: top;\n",
              "    }\n",
              "\n",
              "    .dataframe thead th {\n",
              "        text-align: right;\n",
              "    }\n",
              "</style>\n",
              "<table border=\"1\" class=\"dataframe\">\n",
              "  <thead>\n",
              "    <tr style=\"text-align: right;\">\n",
              "      <th></th>\n",
              "      <th>Numero Formulaire 2021</th>\n",
              "      <th>Code Departement</th>\n",
              "      <th>Code Sous-Prefecture</th>\n",
              "      <th>Code Commune</th>\n",
              "      <th>Code Lieu de Vote</th>\n",
              "      <th>Bureau de vote</th>\n",
              "      <th>Age-20</th>\n",
              "      <th>Age2020</th>\n",
              "      <th>95_over</th>\n",
              "    </tr>\n",
              "  </thead>\n",
              "  <tbody>\n",
              "    <tr>\n",
              "      <th>count</th>\n",
              "      <td>1649769.0</td>\n",
              "      <td>7495082.0</td>\n",
              "      <td>7495082.0</td>\n",
              "      <td>7495082.0</td>\n",
              "      <td>7495082.0</td>\n",
              "      <td>7495082.0</td>\n",
              "      <td>7495082.0</td>\n",
              "      <td>7495082.0</td>\n",
              "      <td>7495082.0</td>\n",
              "    </tr>\n",
              "    <tr>\n",
              "      <th>mean</th>\n",
              "      <td>1073101722.1</td>\n",
              "      <td>57.6</td>\n",
              "      <td>3.0</td>\n",
              "      <td>34.2</td>\n",
              "      <td>22.1</td>\n",
              "      <td>2.9</td>\n",
              "      <td>42.9</td>\n",
              "      <td>42.9</td>\n",
              "      <td>0.0</td>\n",
              "    </tr>\n",
              "    <tr>\n",
              "      <th>std</th>\n",
              "      <td>36088587.6</td>\n",
              "      <td>111.7</td>\n",
              "      <td>2.7</td>\n",
              "      <td>44.8</td>\n",
              "      <td>30.8</td>\n",
              "      <td>3.3</td>\n",
              "      <td>14.7</td>\n",
              "      <td>14.7</td>\n",
              "      <td>0.0</td>\n",
              "    </tr>\n",
              "    <tr>\n",
              "      <th>min</th>\n",
              "      <td>1001648208.0</td>\n",
              "      <td>1.0</td>\n",
              "      <td>1.0</td>\n",
              "      <td>1.0</td>\n",
              "      <td>1.0</td>\n",
              "      <td>1.0</td>\n",
              "      <td>0.0</td>\n",
              "      <td>0.0</td>\n",
              "      <td>0.0</td>\n",
              "    </tr>\n",
              "    <tr>\n",
              "      <th>25%</th>\n",
              "      <td>1064775828.0</td>\n",
              "      <td>22.0</td>\n",
              "      <td>1.0</td>\n",
              "      <td>1.0</td>\n",
              "      <td>4.0</td>\n",
              "      <td>1.0</td>\n",
              "      <td>32.0</td>\n",
              "      <td>32.0</td>\n",
              "      <td>0.0</td>\n",
              "    </tr>\n",
              "    <tr>\n",
              "      <th>50%</th>\n",
              "      <td>1072937065.0</td>\n",
              "      <td>35.0</td>\n",
              "      <td>2.0</td>\n",
              "      <td>4.0</td>\n",
              "      <td>10.0</td>\n",
              "      <td>2.0</td>\n",
              "      <td>40.0</td>\n",
              "      <td>40.0</td>\n",
              "      <td>0.0</td>\n",
              "    </tr>\n",
              "    <tr>\n",
              "      <th>75%</th>\n",
              "      <td>1081762986.0</td>\n",
              "      <td>71.0</td>\n",
              "      <td>4.0</td>\n",
              "      <td>98.0</td>\n",
              "      <td>26.0</td>\n",
              "      <td>4.0</td>\n",
              "      <td>52.0</td>\n",
              "      <td>52.0</td>\n",
              "      <td>0.0</td>\n",
              "    </tr>\n",
              "    <tr>\n",
              "      <th>max</th>\n",
              "      <td>9900300500.0</td>\n",
              "      <td>999.0</td>\n",
              "      <td>23.0</td>\n",
              "      <td>98.0</td>\n",
              "      <td>173.0</td>\n",
              "      <td>68.0</td>\n",
              "      <td>170.0</td>\n",
              "      <td>170.0</td>\n",
              "      <td>1.0</td>\n",
              "    </tr>\n",
              "  </tbody>\n",
              "</table>\n",
              "</div>\n",
              "      <button class=\"colab-df-convert\" onclick=\"convertToInteractive('df-86511e0f-5da3-4f52-9b13-8363b5a33041')\"\n",
              "              title=\"Convert this dataframe to an interactive table.\"\n",
              "              style=\"display:none;\">\n",
              "        \n",
              "  <svg xmlns=\"http://www.w3.org/2000/svg\" height=\"24px\"viewBox=\"0 0 24 24\"\n",
              "       width=\"24px\">\n",
              "    <path d=\"M0 0h24v24H0V0z\" fill=\"none\"/>\n",
              "    <path d=\"M18.56 5.44l.94 2.06.94-2.06 2.06-.94-2.06-.94-.94-2.06-.94 2.06-2.06.94zm-11 1L8.5 8.5l.94-2.06 2.06-.94-2.06-.94L8.5 2.5l-.94 2.06-2.06.94zm10 10l.94 2.06.94-2.06 2.06-.94-2.06-.94-.94-2.06-.94 2.06-2.06.94z\"/><path d=\"M17.41 7.96l-1.37-1.37c-.4-.4-.92-.59-1.43-.59-.52 0-1.04.2-1.43.59L10.3 9.45l-7.72 7.72c-.78.78-.78 2.05 0 2.83L4 21.41c.39.39.9.59 1.41.59.51 0 1.02-.2 1.41-.59l7.78-7.78 2.81-2.81c.8-.78.8-2.07 0-2.86zM5.41 20L4 18.59l7.72-7.72 1.47 1.35L5.41 20z\"/>\n",
              "  </svg>\n",
              "      </button>\n",
              "      \n",
              "  <style>\n",
              "    .colab-df-container {\n",
              "      display:flex;\n",
              "      flex-wrap:wrap;\n",
              "      gap: 12px;\n",
              "    }\n",
              "\n",
              "    .colab-df-convert {\n",
              "      background-color: #E8F0FE;\n",
              "      border: none;\n",
              "      border-radius: 50%;\n",
              "      cursor: pointer;\n",
              "      display: none;\n",
              "      fill: #1967D2;\n",
              "      height: 32px;\n",
              "      padding: 0 0 0 0;\n",
              "      width: 32px;\n",
              "    }\n",
              "\n",
              "    .colab-df-convert:hover {\n",
              "      background-color: #E2EBFA;\n",
              "      box-shadow: 0px 1px 2px rgba(60, 64, 67, 0.3), 0px 1px 3px 1px rgba(60, 64, 67, 0.15);\n",
              "      fill: #174EA6;\n",
              "    }\n",
              "\n",
              "    [theme=dark] .colab-df-convert {\n",
              "      background-color: #3B4455;\n",
              "      fill: #D2E3FC;\n",
              "    }\n",
              "\n",
              "    [theme=dark] .colab-df-convert:hover {\n",
              "      background-color: #434B5C;\n",
              "      box-shadow: 0px 1px 3px 1px rgba(0, 0, 0, 0.15);\n",
              "      filter: drop-shadow(0px 1px 2px rgba(0, 0, 0, 0.3));\n",
              "      fill: #FFFFFF;\n",
              "    }\n",
              "  </style>\n",
              "\n",
              "      <script>\n",
              "        const buttonEl =\n",
              "          document.querySelector('#df-86511e0f-5da3-4f52-9b13-8363b5a33041 button.colab-df-convert');\n",
              "        buttonEl.style.display =\n",
              "          google.colab.kernel.accessAllowed ? 'block' : 'none';\n",
              "\n",
              "        async function convertToInteractive(key) {\n",
              "          const element = document.querySelector('#df-86511e0f-5da3-4f52-9b13-8363b5a33041');\n",
              "          const dataTable =\n",
              "            await google.colab.kernel.invokeFunction('convertToInteractive',\n",
              "                                                     [key], {});\n",
              "          if (!dataTable) return;\n",
              "\n",
              "          const docLinkHtml = 'Like what you see? Visit the ' +\n",
              "            '<a target=\"_blank\" href=https://colab.research.google.com/notebooks/data_table.ipynb>data table notebook</a>'\n",
              "            + ' to learn more about interactive tables.';\n",
              "          element.innerHTML = '';\n",
              "          dataTable['output_type'] = 'display_data';\n",
              "          await google.colab.output.renderOutput(dataTable, element);\n",
              "          const docLink = document.createElement('div');\n",
              "          docLink.innerHTML = docLinkHtml;\n",
              "          element.appendChild(docLink);\n",
              "        }\n",
              "      </script>\n",
              "    </div>\n",
              "  </div>\n",
              "  "
            ]
          },
          "metadata": {},
          "execution_count": 96
        }
      ]
    },
    {
      "cell_type": "markdown",
      "metadata": {
        "id": "JJIWY1OOCHXN"
      },
      "source": [
        "Let's look at the counts"
      ]
    },
    {
      "cell_type": "code",
      "metadata": {
        "id": "iWYajuq7qUQn",
        "colab": {
          "base_uri": "https://localhost:8080/"
        },
        "outputId": "06dba217-9b70-4b1c-eae9-394c35a1c939"
      },
      "source": [
        "age95counts = df.groupby('95_over').size(); age95counts"
      ],
      "execution_count": null,
      "outputs": [
        {
          "output_type": "execute_result",
          "data": {
            "text/plain": [
              "95_over\n",
              "0    7486007\n",
              "1       9075\n",
              "dtype: int64"
            ]
          },
          "metadata": {},
          "execution_count": 97
        }
      ]
    },
    {
      "cell_type": "markdown",
      "source": [
        "Let's calcluate what percetnate those age 95 and over are out of the total "
      ],
      "metadata": {
        "id": "fcmJ9D_1hk0L"
      }
    },
    {
      "cell_type": "code",
      "source": [
        "9075 / (9075 + 7486007)"
      ],
      "metadata": {
        "colab": {
          "base_uri": "https://localhost:8080/"
        },
        "id": "20_jcvC685Cz",
        "outputId": "1a35d39f-c01a-4cae-ff80-d44e399b38a6"
      },
      "execution_count": null,
      "outputs": [
        {
          "output_type": "execute_result",
          "data": {
            "text/plain": [
              "0.0012107939579580316"
            ]
          },
          "metadata": {},
          "execution_count": 98
        }
      ]
    },
    {
      "cell_type": "markdown",
      "source": [],
      "metadata": {
        "id": "ljpAOt2ucAzG"
      }
    },
    {
      "cell_type": "code",
      "metadata": {
        "id": "HF9rc7pYBI92",
        "colab": {
          "base_uri": "https://localhost:8080/",
          "height": 455
        },
        "outputId": "78216d03-b8e1-439f-ce5f-0f9a17c9e1ff"
      },
      "source": [
        "pd.pivot_table(df,index=[\"Code Departement\"],values=[\"95_over\"],aggfunc=np.sum)"
      ],
      "execution_count": null,
      "outputs": [
        {
          "output_type": "execute_result",
          "data": {
            "text/plain": [
              "                  95_over\n",
              "Code Departement         \n",
              "1                     174\n",
              "2                      41\n",
              "3                      64\n",
              "4                      29\n",
              "5                      48\n",
              "...                   ...\n",
              "105                    22\n",
              "106                    14\n",
              "107                    10\n",
              "108                    19\n",
              "999                    10\n",
              "\n",
              "[109 rows x 1 columns]"
            ],
            "text/html": [
              "\n",
              "  <div id=\"df-0c9401aa-9e2e-4075-93ed-c3f15b6113f3\">\n",
              "    <div class=\"colab-df-container\">\n",
              "      <div>\n",
              "<style scoped>\n",
              "    .dataframe tbody tr th:only-of-type {\n",
              "        vertical-align: middle;\n",
              "    }\n",
              "\n",
              "    .dataframe tbody tr th {\n",
              "        vertical-align: top;\n",
              "    }\n",
              "\n",
              "    .dataframe thead th {\n",
              "        text-align: right;\n",
              "    }\n",
              "</style>\n",
              "<table border=\"1\" class=\"dataframe\">\n",
              "  <thead>\n",
              "    <tr style=\"text-align: right;\">\n",
              "      <th></th>\n",
              "      <th>95_over</th>\n",
              "    </tr>\n",
              "    <tr>\n",
              "      <th>Code Departement</th>\n",
              "      <th></th>\n",
              "    </tr>\n",
              "  </thead>\n",
              "  <tbody>\n",
              "    <tr>\n",
              "      <th>1</th>\n",
              "      <td>174</td>\n",
              "    </tr>\n",
              "    <tr>\n",
              "      <th>2</th>\n",
              "      <td>41</td>\n",
              "    </tr>\n",
              "    <tr>\n",
              "      <th>3</th>\n",
              "      <td>64</td>\n",
              "    </tr>\n",
              "    <tr>\n",
              "      <th>4</th>\n",
              "      <td>29</td>\n",
              "    </tr>\n",
              "    <tr>\n",
              "      <th>5</th>\n",
              "      <td>48</td>\n",
              "    </tr>\n",
              "    <tr>\n",
              "      <th>...</th>\n",
              "      <td>...</td>\n",
              "    </tr>\n",
              "    <tr>\n",
              "      <th>105</th>\n",
              "      <td>22</td>\n",
              "    </tr>\n",
              "    <tr>\n",
              "      <th>106</th>\n",
              "      <td>14</td>\n",
              "    </tr>\n",
              "    <tr>\n",
              "      <th>107</th>\n",
              "      <td>10</td>\n",
              "    </tr>\n",
              "    <tr>\n",
              "      <th>108</th>\n",
              "      <td>19</td>\n",
              "    </tr>\n",
              "    <tr>\n",
              "      <th>999</th>\n",
              "      <td>10</td>\n",
              "    </tr>\n",
              "  </tbody>\n",
              "</table>\n",
              "<p>109 rows × 1 columns</p>\n",
              "</div>\n",
              "      <button class=\"colab-df-convert\" onclick=\"convertToInteractive('df-0c9401aa-9e2e-4075-93ed-c3f15b6113f3')\"\n",
              "              title=\"Convert this dataframe to an interactive table.\"\n",
              "              style=\"display:none;\">\n",
              "        \n",
              "  <svg xmlns=\"http://www.w3.org/2000/svg\" height=\"24px\"viewBox=\"0 0 24 24\"\n",
              "       width=\"24px\">\n",
              "    <path d=\"M0 0h24v24H0V0z\" fill=\"none\"/>\n",
              "    <path d=\"M18.56 5.44l.94 2.06.94-2.06 2.06-.94-2.06-.94-.94-2.06-.94 2.06-2.06.94zm-11 1L8.5 8.5l.94-2.06 2.06-.94-2.06-.94L8.5 2.5l-.94 2.06-2.06.94zm10 10l.94 2.06.94-2.06 2.06-.94-2.06-.94-.94-2.06-.94 2.06-2.06.94z\"/><path d=\"M17.41 7.96l-1.37-1.37c-.4-.4-.92-.59-1.43-.59-.52 0-1.04.2-1.43.59L10.3 9.45l-7.72 7.72c-.78.78-.78 2.05 0 2.83L4 21.41c.39.39.9.59 1.41.59.51 0 1.02-.2 1.41-.59l7.78-7.78 2.81-2.81c.8-.78.8-2.07 0-2.86zM5.41 20L4 18.59l7.72-7.72 1.47 1.35L5.41 20z\"/>\n",
              "  </svg>\n",
              "      </button>\n",
              "      \n",
              "  <style>\n",
              "    .colab-df-container {\n",
              "      display:flex;\n",
              "      flex-wrap:wrap;\n",
              "      gap: 12px;\n",
              "    }\n",
              "\n",
              "    .colab-df-convert {\n",
              "      background-color: #E8F0FE;\n",
              "      border: none;\n",
              "      border-radius: 50%;\n",
              "      cursor: pointer;\n",
              "      display: none;\n",
              "      fill: #1967D2;\n",
              "      height: 32px;\n",
              "      padding: 0 0 0 0;\n",
              "      width: 32px;\n",
              "    }\n",
              "\n",
              "    .colab-df-convert:hover {\n",
              "      background-color: #E2EBFA;\n",
              "      box-shadow: 0px 1px 2px rgba(60, 64, 67, 0.3), 0px 1px 3px 1px rgba(60, 64, 67, 0.15);\n",
              "      fill: #174EA6;\n",
              "    }\n",
              "\n",
              "    [theme=dark] .colab-df-convert {\n",
              "      background-color: #3B4455;\n",
              "      fill: #D2E3FC;\n",
              "    }\n",
              "\n",
              "    [theme=dark] .colab-df-convert:hover {\n",
              "      background-color: #434B5C;\n",
              "      box-shadow: 0px 1px 3px 1px rgba(0, 0, 0, 0.15);\n",
              "      filter: drop-shadow(0px 1px 2px rgba(0, 0, 0, 0.3));\n",
              "      fill: #FFFFFF;\n",
              "    }\n",
              "  </style>\n",
              "\n",
              "      <script>\n",
              "        const buttonEl =\n",
              "          document.querySelector('#df-0c9401aa-9e2e-4075-93ed-c3f15b6113f3 button.colab-df-convert');\n",
              "        buttonEl.style.display =\n",
              "          google.colab.kernel.accessAllowed ? 'block' : 'none';\n",
              "\n",
              "        async function convertToInteractive(key) {\n",
              "          const element = document.querySelector('#df-0c9401aa-9e2e-4075-93ed-c3f15b6113f3');\n",
              "          const dataTable =\n",
              "            await google.colab.kernel.invokeFunction('convertToInteractive',\n",
              "                                                     [key], {});\n",
              "          if (!dataTable) return;\n",
              "\n",
              "          const docLinkHtml = 'Like what you see? Visit the ' +\n",
              "            '<a target=\"_blank\" href=https://colab.research.google.com/notebooks/data_table.ipynb>data table notebook</a>'\n",
              "            + ' to learn more about interactive tables.';\n",
              "          element.innerHTML = '';\n",
              "          dataTable['output_type'] = 'display_data';\n",
              "          await google.colab.output.renderOutput(dataTable, element);\n",
              "          const docLink = document.createElement('div');\n",
              "          docLink.innerHTML = docLinkHtml;\n",
              "          element.appendChild(docLink);\n",
              "        }\n",
              "      </script>\n",
              "    </div>\n",
              "  </div>\n",
              "  "
            ]
          },
          "metadata": {},
          "execution_count": 99
        }
      ]
    },
    {
      "cell_type": "code",
      "metadata": {
        "id": "zLu2UchdCL2t",
        "colab": {
          "base_uri": "https://localhost:8080/",
          "height": 455
        },
        "outputId": "7879b057-b0b2-4e3f-d11e-c309093cb358"
      },
      "source": [
        "df_sub =df[[\"Code Departement\",\"95_over\"]].groupby(\"Code Departement\").sum()\n",
        "df_sub"
      ],
      "execution_count": null,
      "outputs": [
        {
          "output_type": "execute_result",
          "data": {
            "text/plain": [
              "                  95_over\n",
              "Code Departement         \n",
              "1                     174\n",
              "2                      41\n",
              "3                      64\n",
              "4                      29\n",
              "5                      48\n",
              "...                   ...\n",
              "105                    22\n",
              "106                    14\n",
              "107                    10\n",
              "108                    19\n",
              "999                    10\n",
              "\n",
              "[109 rows x 1 columns]"
            ],
            "text/html": [
              "\n",
              "  <div id=\"df-fbae5092-ad3f-4626-8500-cb909238a737\">\n",
              "    <div class=\"colab-df-container\">\n",
              "      <div>\n",
              "<style scoped>\n",
              "    .dataframe tbody tr th:only-of-type {\n",
              "        vertical-align: middle;\n",
              "    }\n",
              "\n",
              "    .dataframe tbody tr th {\n",
              "        vertical-align: top;\n",
              "    }\n",
              "\n",
              "    .dataframe thead th {\n",
              "        text-align: right;\n",
              "    }\n",
              "</style>\n",
              "<table border=\"1\" class=\"dataframe\">\n",
              "  <thead>\n",
              "    <tr style=\"text-align: right;\">\n",
              "      <th></th>\n",
              "      <th>95_over</th>\n",
              "    </tr>\n",
              "    <tr>\n",
              "      <th>Code Departement</th>\n",
              "      <th></th>\n",
              "    </tr>\n",
              "  </thead>\n",
              "  <tbody>\n",
              "    <tr>\n",
              "      <th>1</th>\n",
              "      <td>174</td>\n",
              "    </tr>\n",
              "    <tr>\n",
              "      <th>2</th>\n",
              "      <td>41</td>\n",
              "    </tr>\n",
              "    <tr>\n",
              "      <th>3</th>\n",
              "      <td>64</td>\n",
              "    </tr>\n",
              "    <tr>\n",
              "      <th>4</th>\n",
              "      <td>29</td>\n",
              "    </tr>\n",
              "    <tr>\n",
              "      <th>5</th>\n",
              "      <td>48</td>\n",
              "    </tr>\n",
              "    <tr>\n",
              "      <th>...</th>\n",
              "      <td>...</td>\n",
              "    </tr>\n",
              "    <tr>\n",
              "      <th>105</th>\n",
              "      <td>22</td>\n",
              "    </tr>\n",
              "    <tr>\n",
              "      <th>106</th>\n",
              "      <td>14</td>\n",
              "    </tr>\n",
              "    <tr>\n",
              "      <th>107</th>\n",
              "      <td>10</td>\n",
              "    </tr>\n",
              "    <tr>\n",
              "      <th>108</th>\n",
              "      <td>19</td>\n",
              "    </tr>\n",
              "    <tr>\n",
              "      <th>999</th>\n",
              "      <td>10</td>\n",
              "    </tr>\n",
              "  </tbody>\n",
              "</table>\n",
              "<p>109 rows × 1 columns</p>\n",
              "</div>\n",
              "      <button class=\"colab-df-convert\" onclick=\"convertToInteractive('df-fbae5092-ad3f-4626-8500-cb909238a737')\"\n",
              "              title=\"Convert this dataframe to an interactive table.\"\n",
              "              style=\"display:none;\">\n",
              "        \n",
              "  <svg xmlns=\"http://www.w3.org/2000/svg\" height=\"24px\"viewBox=\"0 0 24 24\"\n",
              "       width=\"24px\">\n",
              "    <path d=\"M0 0h24v24H0V0z\" fill=\"none\"/>\n",
              "    <path d=\"M18.56 5.44l.94 2.06.94-2.06 2.06-.94-2.06-.94-.94-2.06-.94 2.06-2.06.94zm-11 1L8.5 8.5l.94-2.06 2.06-.94-2.06-.94L8.5 2.5l-.94 2.06-2.06.94zm10 10l.94 2.06.94-2.06 2.06-.94-2.06-.94-.94-2.06-.94 2.06-2.06.94z\"/><path d=\"M17.41 7.96l-1.37-1.37c-.4-.4-.92-.59-1.43-.59-.52 0-1.04.2-1.43.59L10.3 9.45l-7.72 7.72c-.78.78-.78 2.05 0 2.83L4 21.41c.39.39.9.59 1.41.59.51 0 1.02-.2 1.41-.59l7.78-7.78 2.81-2.81c.8-.78.8-2.07 0-2.86zM5.41 20L4 18.59l7.72-7.72 1.47 1.35L5.41 20z\"/>\n",
              "  </svg>\n",
              "      </button>\n",
              "      \n",
              "  <style>\n",
              "    .colab-df-container {\n",
              "      display:flex;\n",
              "      flex-wrap:wrap;\n",
              "      gap: 12px;\n",
              "    }\n",
              "\n",
              "    .colab-df-convert {\n",
              "      background-color: #E8F0FE;\n",
              "      border: none;\n",
              "      border-radius: 50%;\n",
              "      cursor: pointer;\n",
              "      display: none;\n",
              "      fill: #1967D2;\n",
              "      height: 32px;\n",
              "      padding: 0 0 0 0;\n",
              "      width: 32px;\n",
              "    }\n",
              "\n",
              "    .colab-df-convert:hover {\n",
              "      background-color: #E2EBFA;\n",
              "      box-shadow: 0px 1px 2px rgba(60, 64, 67, 0.3), 0px 1px 3px 1px rgba(60, 64, 67, 0.15);\n",
              "      fill: #174EA6;\n",
              "    }\n",
              "\n",
              "    [theme=dark] .colab-df-convert {\n",
              "      background-color: #3B4455;\n",
              "      fill: #D2E3FC;\n",
              "    }\n",
              "\n",
              "    [theme=dark] .colab-df-convert:hover {\n",
              "      background-color: #434B5C;\n",
              "      box-shadow: 0px 1px 3px 1px rgba(0, 0, 0, 0.15);\n",
              "      filter: drop-shadow(0px 1px 2px rgba(0, 0, 0, 0.3));\n",
              "      fill: #FFFFFF;\n",
              "    }\n",
              "  </style>\n",
              "\n",
              "      <script>\n",
              "        const buttonEl =\n",
              "          document.querySelector('#df-fbae5092-ad3f-4626-8500-cb909238a737 button.colab-df-convert');\n",
              "        buttonEl.style.display =\n",
              "          google.colab.kernel.accessAllowed ? 'block' : 'none';\n",
              "\n",
              "        async function convertToInteractive(key) {\n",
              "          const element = document.querySelector('#df-fbae5092-ad3f-4626-8500-cb909238a737');\n",
              "          const dataTable =\n",
              "            await google.colab.kernel.invokeFunction('convertToInteractive',\n",
              "                                                     [key], {});\n",
              "          if (!dataTable) return;\n",
              "\n",
              "          const docLinkHtml = 'Like what you see? Visit the ' +\n",
              "            '<a target=\"_blank\" href=https://colab.research.google.com/notebooks/data_table.ipynb>data table notebook</a>'\n",
              "            + ' to learn more about interactive tables.';\n",
              "          element.innerHTML = '';\n",
              "          dataTable['output_type'] = 'display_data';\n",
              "          await google.colab.output.renderOutput(dataTable, element);\n",
              "          const docLink = document.createElement('div');\n",
              "          docLink.innerHTML = docLinkHtml;\n",
              "          element.appendChild(docLink);\n",
              "        }\n",
              "      </script>\n",
              "    </div>\n",
              "  </div>\n",
              "  "
            ]
          },
          "metadata": {},
          "execution_count": 107
        }
      ]
    },
    {
      "cell_type": "markdown",
      "metadata": {
        "id": "Yy1_7lNMJp-K"
      },
      "source": [
        "create a new colume called voter and just fill it with one so we can add it into our sums and use to compare with 90_over "
      ]
    },
    {
      "cell_type": "code",
      "metadata": {
        "id": "huzLbbq1CL-i"
      },
      "source": [
        "df['voter'] = 1"
      ],
      "execution_count": null,
      "outputs": []
    },
    {
      "cell_type": "code",
      "metadata": {
        "id": "RAnPYw5iKEYs",
        "colab": {
          "base_uri": "https://localhost:8080/",
          "height": 455
        },
        "outputId": "c8041051-ae80-433c-edfd-84317d705e19"
      },
      "source": [
        "#pivot table way\n",
        "pd.pivot_table(df,index=[\"Code Departement\"],values=[\"95_over\",\"voter\"],aggfunc=np.sum)"
      ],
      "execution_count": null,
      "outputs": [
        {
          "output_type": "execute_result",
          "data": {
            "text/plain": [
              "                  95_over   voter\n",
              "Code Departement                 \n",
              "1                     174  118704\n",
              "2                      41   33342\n",
              "3                      64   59070\n",
              "4                      29   24016\n",
              "5                      48   19857\n",
              "...                   ...     ...\n",
              "105                    22   10809\n",
              "106                    14    9192\n",
              "107                    10   12682\n",
              "108                    19   19452\n",
              "999                    10   97669\n",
              "\n",
              "[109 rows x 2 columns]"
            ],
            "text/html": [
              "\n",
              "  <div id=\"df-925ca814-de46-40cc-991d-c32ccd8c5091\">\n",
              "    <div class=\"colab-df-container\">\n",
              "      <div>\n",
              "<style scoped>\n",
              "    .dataframe tbody tr th:only-of-type {\n",
              "        vertical-align: middle;\n",
              "    }\n",
              "\n",
              "    .dataframe tbody tr th {\n",
              "        vertical-align: top;\n",
              "    }\n",
              "\n",
              "    .dataframe thead th {\n",
              "        text-align: right;\n",
              "    }\n",
              "</style>\n",
              "<table border=\"1\" class=\"dataframe\">\n",
              "  <thead>\n",
              "    <tr style=\"text-align: right;\">\n",
              "      <th></th>\n",
              "      <th>95_over</th>\n",
              "      <th>voter</th>\n",
              "    </tr>\n",
              "    <tr>\n",
              "      <th>Code Departement</th>\n",
              "      <th></th>\n",
              "      <th></th>\n",
              "    </tr>\n",
              "  </thead>\n",
              "  <tbody>\n",
              "    <tr>\n",
              "      <th>1</th>\n",
              "      <td>174</td>\n",
              "      <td>118704</td>\n",
              "    </tr>\n",
              "    <tr>\n",
              "      <th>2</th>\n",
              "      <td>41</td>\n",
              "      <td>33342</td>\n",
              "    </tr>\n",
              "    <tr>\n",
              "      <th>3</th>\n",
              "      <td>64</td>\n",
              "      <td>59070</td>\n",
              "    </tr>\n",
              "    <tr>\n",
              "      <th>4</th>\n",
              "      <td>29</td>\n",
              "      <td>24016</td>\n",
              "    </tr>\n",
              "    <tr>\n",
              "      <th>5</th>\n",
              "      <td>48</td>\n",
              "      <td>19857</td>\n",
              "    </tr>\n",
              "    <tr>\n",
              "      <th>...</th>\n",
              "      <td>...</td>\n",
              "      <td>...</td>\n",
              "    </tr>\n",
              "    <tr>\n",
              "      <th>105</th>\n",
              "      <td>22</td>\n",
              "      <td>10809</td>\n",
              "    </tr>\n",
              "    <tr>\n",
              "      <th>106</th>\n",
              "      <td>14</td>\n",
              "      <td>9192</td>\n",
              "    </tr>\n",
              "    <tr>\n",
              "      <th>107</th>\n",
              "      <td>10</td>\n",
              "      <td>12682</td>\n",
              "    </tr>\n",
              "    <tr>\n",
              "      <th>108</th>\n",
              "      <td>19</td>\n",
              "      <td>19452</td>\n",
              "    </tr>\n",
              "    <tr>\n",
              "      <th>999</th>\n",
              "      <td>10</td>\n",
              "      <td>97669</td>\n",
              "    </tr>\n",
              "  </tbody>\n",
              "</table>\n",
              "<p>109 rows × 2 columns</p>\n",
              "</div>\n",
              "      <button class=\"colab-df-convert\" onclick=\"convertToInteractive('df-925ca814-de46-40cc-991d-c32ccd8c5091')\"\n",
              "              title=\"Convert this dataframe to an interactive table.\"\n",
              "              style=\"display:none;\">\n",
              "        \n",
              "  <svg xmlns=\"http://www.w3.org/2000/svg\" height=\"24px\"viewBox=\"0 0 24 24\"\n",
              "       width=\"24px\">\n",
              "    <path d=\"M0 0h24v24H0V0z\" fill=\"none\"/>\n",
              "    <path d=\"M18.56 5.44l.94 2.06.94-2.06 2.06-.94-2.06-.94-.94-2.06-.94 2.06-2.06.94zm-11 1L8.5 8.5l.94-2.06 2.06-.94-2.06-.94L8.5 2.5l-.94 2.06-2.06.94zm10 10l.94 2.06.94-2.06 2.06-.94-2.06-.94-.94-2.06-.94 2.06-2.06.94z\"/><path d=\"M17.41 7.96l-1.37-1.37c-.4-.4-.92-.59-1.43-.59-.52 0-1.04.2-1.43.59L10.3 9.45l-7.72 7.72c-.78.78-.78 2.05 0 2.83L4 21.41c.39.39.9.59 1.41.59.51 0 1.02-.2 1.41-.59l7.78-7.78 2.81-2.81c.8-.78.8-2.07 0-2.86zM5.41 20L4 18.59l7.72-7.72 1.47 1.35L5.41 20z\"/>\n",
              "  </svg>\n",
              "      </button>\n",
              "      \n",
              "  <style>\n",
              "    .colab-df-container {\n",
              "      display:flex;\n",
              "      flex-wrap:wrap;\n",
              "      gap: 12px;\n",
              "    }\n",
              "\n",
              "    .colab-df-convert {\n",
              "      background-color: #E8F0FE;\n",
              "      border: none;\n",
              "      border-radius: 50%;\n",
              "      cursor: pointer;\n",
              "      display: none;\n",
              "      fill: #1967D2;\n",
              "      height: 32px;\n",
              "      padding: 0 0 0 0;\n",
              "      width: 32px;\n",
              "    }\n",
              "\n",
              "    .colab-df-convert:hover {\n",
              "      background-color: #E2EBFA;\n",
              "      box-shadow: 0px 1px 2px rgba(60, 64, 67, 0.3), 0px 1px 3px 1px rgba(60, 64, 67, 0.15);\n",
              "      fill: #174EA6;\n",
              "    }\n",
              "\n",
              "    [theme=dark] .colab-df-convert {\n",
              "      background-color: #3B4455;\n",
              "      fill: #D2E3FC;\n",
              "    }\n",
              "\n",
              "    [theme=dark] .colab-df-convert:hover {\n",
              "      background-color: #434B5C;\n",
              "      box-shadow: 0px 1px 3px 1px rgba(0, 0, 0, 0.15);\n",
              "      filter: drop-shadow(0px 1px 2px rgba(0, 0, 0, 0.3));\n",
              "      fill: #FFFFFF;\n",
              "    }\n",
              "  </style>\n",
              "\n",
              "      <script>\n",
              "        const buttonEl =\n",
              "          document.querySelector('#df-925ca814-de46-40cc-991d-c32ccd8c5091 button.colab-df-convert');\n",
              "        buttonEl.style.display =\n",
              "          google.colab.kernel.accessAllowed ? 'block' : 'none';\n",
              "\n",
              "        async function convertToInteractive(key) {\n",
              "          const element = document.querySelector('#df-925ca814-de46-40cc-991d-c32ccd8c5091');\n",
              "          const dataTable =\n",
              "            await google.colab.kernel.invokeFunction('convertToInteractive',\n",
              "                                                     [key], {});\n",
              "          if (!dataTable) return;\n",
              "\n",
              "          const docLinkHtml = 'Like what you see? Visit the ' +\n",
              "            '<a target=\"_blank\" href=https://colab.research.google.com/notebooks/data_table.ipynb>data table notebook</a>'\n",
              "            + ' to learn more about interactive tables.';\n",
              "          element.innerHTML = '';\n",
              "          dataTable['output_type'] = 'display_data';\n",
              "          await google.colab.output.renderOutput(dataTable, element);\n",
              "          const docLink = document.createElement('div');\n",
              "          docLink.innerHTML = docLinkHtml;\n",
              "          element.appendChild(docLink);\n",
              "        }\n",
              "      </script>\n",
              "    </div>\n",
              "  </div>\n",
              "  "
            ]
          },
          "metadata": {},
          "execution_count": 113
        }
      ]
    },
    {
      "cell_type": "markdown",
      "source": [
        "The same by doing it the 'groupby' way (there are always differnt ways of aggregating "
      ],
      "metadata": {
        "id": "7JQYs8LNrD9o"
      }
    },
    {
      "cell_type": "code",
      "metadata": {
        "id": "En_LgsmFJlQt",
        "colab": {
          "base_uri": "https://localhost:8080/",
          "height": 455
        },
        "outputId": "26b0016c-bd31-4d4b-cb77-644183c551d2"
      },
      "source": [
        "df_sub=df[[\"b-id\",\"95_over\",\"voter\"]].groupby(\"b-id\").sum()\n",
        "df_sub"
      ],
      "execution_count": null,
      "outputs": [
        {
          "output_type": "execute_result",
          "data": {
            "text/plain": [
              "                                            95_over  voter\n",
              "b-id                                                      \n",
              "1-ABOUDE-ABOUDE-EPP ABOUDE-KOUASSIKRO I-1         1    402\n",
              "1-ABOUDE-ABOUDE-EPP ABOUDE-KOUASSIKRO I-2         1    400\n",
              "1-ABOUDE-ABOUDE-EPP ABOUDE-KOUASSIKRO I-3         0    400\n",
              "1-ABOUDE-ABOUDE-EPP ABOUDE-KOUASSIKRO II-1        0    416\n",
              "1-ABOUDE-ABOUDE-EPP ABOUDE-KOUASSIKRO II-2        0    415\n",
              "...                                             ...    ...\n",
              "999-TUNISIE-AFRIQUE-TUNIS-4                       0    408\n",
              "999-TUNISIE-AFRIQUE-TUNIS-5                       0    408\n",
              "999-TUNISIE-AFRIQUE-TUNIS-6                       0    408\n",
              "999-TUNISIE-AFRIQUE-TUNIS-7                       0    408\n",
              "999-TUNISIE-AFRIQUE-TUNIS-8                       0    408\n",
              "\n",
              "[22370 rows x 2 columns]"
            ],
            "text/html": [
              "\n",
              "  <div id=\"df-ea69a8d1-2ff5-480d-9dbf-bc98d1910bdc\">\n",
              "    <div class=\"colab-df-container\">\n",
              "      <div>\n",
              "<style scoped>\n",
              "    .dataframe tbody tr th:only-of-type {\n",
              "        vertical-align: middle;\n",
              "    }\n",
              "\n",
              "    .dataframe tbody tr th {\n",
              "        vertical-align: top;\n",
              "    }\n",
              "\n",
              "    .dataframe thead th {\n",
              "        text-align: right;\n",
              "    }\n",
              "</style>\n",
              "<table border=\"1\" class=\"dataframe\">\n",
              "  <thead>\n",
              "    <tr style=\"text-align: right;\">\n",
              "      <th></th>\n",
              "      <th>95_over</th>\n",
              "      <th>voter</th>\n",
              "    </tr>\n",
              "    <tr>\n",
              "      <th>b-id</th>\n",
              "      <th></th>\n",
              "      <th></th>\n",
              "    </tr>\n",
              "  </thead>\n",
              "  <tbody>\n",
              "    <tr>\n",
              "      <th>1-ABOUDE-ABOUDE-EPP ABOUDE-KOUASSIKRO I-1</th>\n",
              "      <td>1</td>\n",
              "      <td>402</td>\n",
              "    </tr>\n",
              "    <tr>\n",
              "      <th>1-ABOUDE-ABOUDE-EPP ABOUDE-KOUASSIKRO I-2</th>\n",
              "      <td>1</td>\n",
              "      <td>400</td>\n",
              "    </tr>\n",
              "    <tr>\n",
              "      <th>1-ABOUDE-ABOUDE-EPP ABOUDE-KOUASSIKRO I-3</th>\n",
              "      <td>0</td>\n",
              "      <td>400</td>\n",
              "    </tr>\n",
              "    <tr>\n",
              "      <th>1-ABOUDE-ABOUDE-EPP ABOUDE-KOUASSIKRO II-1</th>\n",
              "      <td>0</td>\n",
              "      <td>416</td>\n",
              "    </tr>\n",
              "    <tr>\n",
              "      <th>1-ABOUDE-ABOUDE-EPP ABOUDE-KOUASSIKRO II-2</th>\n",
              "      <td>0</td>\n",
              "      <td>415</td>\n",
              "    </tr>\n",
              "    <tr>\n",
              "      <th>...</th>\n",
              "      <td>...</td>\n",
              "      <td>...</td>\n",
              "    </tr>\n",
              "    <tr>\n",
              "      <th>999-TUNISIE-AFRIQUE-TUNIS-4</th>\n",
              "      <td>0</td>\n",
              "      <td>408</td>\n",
              "    </tr>\n",
              "    <tr>\n",
              "      <th>999-TUNISIE-AFRIQUE-TUNIS-5</th>\n",
              "      <td>0</td>\n",
              "      <td>408</td>\n",
              "    </tr>\n",
              "    <tr>\n",
              "      <th>999-TUNISIE-AFRIQUE-TUNIS-6</th>\n",
              "      <td>0</td>\n",
              "      <td>408</td>\n",
              "    </tr>\n",
              "    <tr>\n",
              "      <th>999-TUNISIE-AFRIQUE-TUNIS-7</th>\n",
              "      <td>0</td>\n",
              "      <td>408</td>\n",
              "    </tr>\n",
              "    <tr>\n",
              "      <th>999-TUNISIE-AFRIQUE-TUNIS-8</th>\n",
              "      <td>0</td>\n",
              "      <td>408</td>\n",
              "    </tr>\n",
              "  </tbody>\n",
              "</table>\n",
              "<p>22370 rows × 2 columns</p>\n",
              "</div>\n",
              "      <button class=\"colab-df-convert\" onclick=\"convertToInteractive('df-ea69a8d1-2ff5-480d-9dbf-bc98d1910bdc')\"\n",
              "              title=\"Convert this dataframe to an interactive table.\"\n",
              "              style=\"display:none;\">\n",
              "        \n",
              "  <svg xmlns=\"http://www.w3.org/2000/svg\" height=\"24px\"viewBox=\"0 0 24 24\"\n",
              "       width=\"24px\">\n",
              "    <path d=\"M0 0h24v24H0V0z\" fill=\"none\"/>\n",
              "    <path d=\"M18.56 5.44l.94 2.06.94-2.06 2.06-.94-2.06-.94-.94-2.06-.94 2.06-2.06.94zm-11 1L8.5 8.5l.94-2.06 2.06-.94-2.06-.94L8.5 2.5l-.94 2.06-2.06.94zm10 10l.94 2.06.94-2.06 2.06-.94-2.06-.94-.94-2.06-.94 2.06-2.06.94z\"/><path d=\"M17.41 7.96l-1.37-1.37c-.4-.4-.92-.59-1.43-.59-.52 0-1.04.2-1.43.59L10.3 9.45l-7.72 7.72c-.78.78-.78 2.05 0 2.83L4 21.41c.39.39.9.59 1.41.59.51 0 1.02-.2 1.41-.59l7.78-7.78 2.81-2.81c.8-.78.8-2.07 0-2.86zM5.41 20L4 18.59l7.72-7.72 1.47 1.35L5.41 20z\"/>\n",
              "  </svg>\n",
              "      </button>\n",
              "      \n",
              "  <style>\n",
              "    .colab-df-container {\n",
              "      display:flex;\n",
              "      flex-wrap:wrap;\n",
              "      gap: 12px;\n",
              "    }\n",
              "\n",
              "    .colab-df-convert {\n",
              "      background-color: #E8F0FE;\n",
              "      border: none;\n",
              "      border-radius: 50%;\n",
              "      cursor: pointer;\n",
              "      display: none;\n",
              "      fill: #1967D2;\n",
              "      height: 32px;\n",
              "      padding: 0 0 0 0;\n",
              "      width: 32px;\n",
              "    }\n",
              "\n",
              "    .colab-df-convert:hover {\n",
              "      background-color: #E2EBFA;\n",
              "      box-shadow: 0px 1px 2px rgba(60, 64, 67, 0.3), 0px 1px 3px 1px rgba(60, 64, 67, 0.15);\n",
              "      fill: #174EA6;\n",
              "    }\n",
              "\n",
              "    [theme=dark] .colab-df-convert {\n",
              "      background-color: #3B4455;\n",
              "      fill: #D2E3FC;\n",
              "    }\n",
              "\n",
              "    [theme=dark] .colab-df-convert:hover {\n",
              "      background-color: #434B5C;\n",
              "      box-shadow: 0px 1px 3px 1px rgba(0, 0, 0, 0.15);\n",
              "      filter: drop-shadow(0px 1px 2px rgba(0, 0, 0, 0.3));\n",
              "      fill: #FFFFFF;\n",
              "    }\n",
              "  </style>\n",
              "\n",
              "      <script>\n",
              "        const buttonEl =\n",
              "          document.querySelector('#df-ea69a8d1-2ff5-480d-9dbf-bc98d1910bdc button.colab-df-convert');\n",
              "        buttonEl.style.display =\n",
              "          google.colab.kernel.accessAllowed ? 'block' : 'none';\n",
              "\n",
              "        async function convertToInteractive(key) {\n",
              "          const element = document.querySelector('#df-ea69a8d1-2ff5-480d-9dbf-bc98d1910bdc');\n",
              "          const dataTable =\n",
              "            await google.colab.kernel.invokeFunction('convertToInteractive',\n",
              "                                                     [key], {});\n",
              "          if (!dataTable) return;\n",
              "\n",
              "          const docLinkHtml = 'Like what you see? Visit the ' +\n",
              "            '<a target=\"_blank\" href=https://colab.research.google.com/notebooks/data_table.ipynb>data table notebook</a>'\n",
              "            + ' to learn more about interactive tables.';\n",
              "          element.innerHTML = '';\n",
              "          dataTable['output_type'] = 'display_data';\n",
              "          await google.colab.output.renderOutput(dataTable, element);\n",
              "          const docLink = document.createElement('div');\n",
              "          docLink.innerHTML = docLinkHtml;\n",
              "          element.appendChild(docLink);\n",
              "        }\n",
              "      </script>\n",
              "    </div>\n",
              "  </div>\n",
              "  "
            ]
          },
          "metadata": {},
          "execution_count": 118
        }
      ]
    },
    {
      "cell_type": "markdown",
      "source": [
        "Let's create a new variable showing the percentage of 90+ as a percentage of total voters for a station"
      ],
      "metadata": {
        "id": "Te03PWucrPUw"
      }
    },
    {
      "cell_type": "code",
      "metadata": {
        "id": "O502dV6cKGwb"
      },
      "source": [
        "df_sub['95aged_perc'] = df_sub['95_over'] / df_sub['voter']"
      ],
      "execution_count": null,
      "outputs": []
    },
    {
      "cell_type": "code",
      "metadata": {
        "id": "tD-ZKDX4KGzt",
        "colab": {
          "base_uri": "https://localhost:8080/",
          "height": 357
        },
        "outputId": "07c6f483-14de-4b6b-9731-db3d2137ab98"
      },
      "source": [
        "df_sub.head(24000)"
      ],
      "execution_count": null,
      "outputs": [
        {
          "output_type": "execute_result",
          "data": {
            "text/plain": [
              "                                            95_over  voter  95aged_perc\n",
              "b-id                                                                   \n",
              "1-ABOUDE-ABOUDE-EPP ABOUDE-KOUASSIKRO I-1         1    402          0.0\n",
              "1-ABOUDE-ABOUDE-EPP ABOUDE-KOUASSIKRO I-2         1    400          0.0\n",
              "1-ABOUDE-ABOUDE-EPP ABOUDE-KOUASSIKRO I-3         0    400          0.0\n",
              "1-ABOUDE-ABOUDE-EPP ABOUDE-KOUASSIKRO II-1        0    416          0.0\n",
              "1-ABOUDE-ABOUDE-EPP ABOUDE-KOUASSIKRO II-2        0    415          0.0\n",
              "...                                             ...    ...          ...\n",
              "999-TUNISIE-AFRIQUE-TUNIS-4                       0    408          0.0\n",
              "999-TUNISIE-AFRIQUE-TUNIS-5                       0    408          0.0\n",
              "999-TUNISIE-AFRIQUE-TUNIS-6                       0    408          0.0\n",
              "999-TUNISIE-AFRIQUE-TUNIS-7                       0    408          0.0\n",
              "999-TUNISIE-AFRIQUE-TUNIS-8                       0    408          0.0\n",
              "\n",
              "[22370 rows x 3 columns]"
            ],
            "text/html": [
              "\n",
              "  <div id=\"df-65afe9d0-249f-4b68-9f92-7288ad6f5986\">\n",
              "    <div class=\"colab-df-container\">\n",
              "      <div>\n",
              "<style scoped>\n",
              "    .dataframe tbody tr th:only-of-type {\n",
              "        vertical-align: middle;\n",
              "    }\n",
              "\n",
              "    .dataframe tbody tr th {\n",
              "        vertical-align: top;\n",
              "    }\n",
              "\n",
              "    .dataframe thead th {\n",
              "        text-align: right;\n",
              "    }\n",
              "</style>\n",
              "<table border=\"1\" class=\"dataframe\">\n",
              "  <thead>\n",
              "    <tr style=\"text-align: right;\">\n",
              "      <th></th>\n",
              "      <th>95_over</th>\n",
              "      <th>voter</th>\n",
              "      <th>95aged_perc</th>\n",
              "    </tr>\n",
              "    <tr>\n",
              "      <th>b-id</th>\n",
              "      <th></th>\n",
              "      <th></th>\n",
              "      <th></th>\n",
              "    </tr>\n",
              "  </thead>\n",
              "  <tbody>\n",
              "    <tr>\n",
              "      <th>1-ABOUDE-ABOUDE-EPP ABOUDE-KOUASSIKRO I-1</th>\n",
              "      <td>1</td>\n",
              "      <td>402</td>\n",
              "      <td>0.0</td>\n",
              "    </tr>\n",
              "    <tr>\n",
              "      <th>1-ABOUDE-ABOUDE-EPP ABOUDE-KOUASSIKRO I-2</th>\n",
              "      <td>1</td>\n",
              "      <td>400</td>\n",
              "      <td>0.0</td>\n",
              "    </tr>\n",
              "    <tr>\n",
              "      <th>1-ABOUDE-ABOUDE-EPP ABOUDE-KOUASSIKRO I-3</th>\n",
              "      <td>0</td>\n",
              "      <td>400</td>\n",
              "      <td>0.0</td>\n",
              "    </tr>\n",
              "    <tr>\n",
              "      <th>1-ABOUDE-ABOUDE-EPP ABOUDE-KOUASSIKRO II-1</th>\n",
              "      <td>0</td>\n",
              "      <td>416</td>\n",
              "      <td>0.0</td>\n",
              "    </tr>\n",
              "    <tr>\n",
              "      <th>1-ABOUDE-ABOUDE-EPP ABOUDE-KOUASSIKRO II-2</th>\n",
              "      <td>0</td>\n",
              "      <td>415</td>\n",
              "      <td>0.0</td>\n",
              "    </tr>\n",
              "    <tr>\n",
              "      <th>...</th>\n",
              "      <td>...</td>\n",
              "      <td>...</td>\n",
              "      <td>...</td>\n",
              "    </tr>\n",
              "    <tr>\n",
              "      <th>999-TUNISIE-AFRIQUE-TUNIS-4</th>\n",
              "      <td>0</td>\n",
              "      <td>408</td>\n",
              "      <td>0.0</td>\n",
              "    </tr>\n",
              "    <tr>\n",
              "      <th>999-TUNISIE-AFRIQUE-TUNIS-5</th>\n",
              "      <td>0</td>\n",
              "      <td>408</td>\n",
              "      <td>0.0</td>\n",
              "    </tr>\n",
              "    <tr>\n",
              "      <th>999-TUNISIE-AFRIQUE-TUNIS-6</th>\n",
              "      <td>0</td>\n",
              "      <td>408</td>\n",
              "      <td>0.0</td>\n",
              "    </tr>\n",
              "    <tr>\n",
              "      <th>999-TUNISIE-AFRIQUE-TUNIS-7</th>\n",
              "      <td>0</td>\n",
              "      <td>408</td>\n",
              "      <td>0.0</td>\n",
              "    </tr>\n",
              "    <tr>\n",
              "      <th>999-TUNISIE-AFRIQUE-TUNIS-8</th>\n",
              "      <td>0</td>\n",
              "      <td>408</td>\n",
              "      <td>0.0</td>\n",
              "    </tr>\n",
              "  </tbody>\n",
              "</table>\n",
              "<p>22370 rows × 3 columns</p>\n",
              "</div>\n",
              "      <button class=\"colab-df-convert\" onclick=\"convertToInteractive('df-65afe9d0-249f-4b68-9f92-7288ad6f5986')\"\n",
              "              title=\"Convert this dataframe to an interactive table.\"\n",
              "              style=\"display:none;\">\n",
              "        \n",
              "  <svg xmlns=\"http://www.w3.org/2000/svg\" height=\"24px\"viewBox=\"0 0 24 24\"\n",
              "       width=\"24px\">\n",
              "    <path d=\"M0 0h24v24H0V0z\" fill=\"none\"/>\n",
              "    <path d=\"M18.56 5.44l.94 2.06.94-2.06 2.06-.94-2.06-.94-.94-2.06-.94 2.06-2.06.94zm-11 1L8.5 8.5l.94-2.06 2.06-.94-2.06-.94L8.5 2.5l-.94 2.06-2.06.94zm10 10l.94 2.06.94-2.06 2.06-.94-2.06-.94-.94-2.06-.94 2.06-2.06.94z\"/><path d=\"M17.41 7.96l-1.37-1.37c-.4-.4-.92-.59-1.43-.59-.52 0-1.04.2-1.43.59L10.3 9.45l-7.72 7.72c-.78.78-.78 2.05 0 2.83L4 21.41c.39.39.9.59 1.41.59.51 0 1.02-.2 1.41-.59l7.78-7.78 2.81-2.81c.8-.78.8-2.07 0-2.86zM5.41 20L4 18.59l7.72-7.72 1.47 1.35L5.41 20z\"/>\n",
              "  </svg>\n",
              "      </button>\n",
              "      \n",
              "  <style>\n",
              "    .colab-df-container {\n",
              "      display:flex;\n",
              "      flex-wrap:wrap;\n",
              "      gap: 12px;\n",
              "    }\n",
              "\n",
              "    .colab-df-convert {\n",
              "      background-color: #E8F0FE;\n",
              "      border: none;\n",
              "      border-radius: 50%;\n",
              "      cursor: pointer;\n",
              "      display: none;\n",
              "      fill: #1967D2;\n",
              "      height: 32px;\n",
              "      padding: 0 0 0 0;\n",
              "      width: 32px;\n",
              "    }\n",
              "\n",
              "    .colab-df-convert:hover {\n",
              "      background-color: #E2EBFA;\n",
              "      box-shadow: 0px 1px 2px rgba(60, 64, 67, 0.3), 0px 1px 3px 1px rgba(60, 64, 67, 0.15);\n",
              "      fill: #174EA6;\n",
              "    }\n",
              "\n",
              "    [theme=dark] .colab-df-convert {\n",
              "      background-color: #3B4455;\n",
              "      fill: #D2E3FC;\n",
              "    }\n",
              "\n",
              "    [theme=dark] .colab-df-convert:hover {\n",
              "      background-color: #434B5C;\n",
              "      box-shadow: 0px 1px 3px 1px rgba(0, 0, 0, 0.15);\n",
              "      filter: drop-shadow(0px 1px 2px rgba(0, 0, 0, 0.3));\n",
              "      fill: #FFFFFF;\n",
              "    }\n",
              "  </style>\n",
              "\n",
              "      <script>\n",
              "        const buttonEl =\n",
              "          document.querySelector('#df-65afe9d0-249f-4b68-9f92-7288ad6f5986 button.colab-df-convert');\n",
              "        buttonEl.style.display =\n",
              "          google.colab.kernel.accessAllowed ? 'block' : 'none';\n",
              "\n",
              "        async function convertToInteractive(key) {\n",
              "          const element = document.querySelector('#df-65afe9d0-249f-4b68-9f92-7288ad6f5986');\n",
              "          const dataTable =\n",
              "            await google.colab.kernel.invokeFunction('convertToInteractive',\n",
              "                                                     [key], {});\n",
              "          if (!dataTable) return;\n",
              "\n",
              "          const docLinkHtml = 'Like what you see? Visit the ' +\n",
              "            '<a target=\"_blank\" href=https://colab.research.google.com/notebooks/data_table.ipynb>data table notebook</a>'\n",
              "            + ' to learn more about interactive tables.';\n",
              "          element.innerHTML = '';\n",
              "          dataTable['output_type'] = 'display_data';\n",
              "          await google.colab.output.renderOutput(dataTable, element);\n",
              "          const docLink = document.createElement('div');\n",
              "          docLink.innerHTML = docLinkHtml;\n",
              "          element.appendChild(docLink);\n",
              "        }\n",
              "      </script>\n",
              "    </div>\n",
              "  </div>\n",
              "  "
            ]
          },
          "metadata": {},
          "execution_count": 122
        },
        {
          "output_type": "stream",
          "name": "stdout",
          "text": [
            "Warning: total number of rows (22370) exceeds max_rows (20000). Limiting to first (20000) rows.\n"
          ]
        }
      ]
    },
    {
      "cell_type": "markdown",
      "source": [
        "# !!!! Pause - we left off here \n",
        "The below code has not been adjusted yet\n",
        "\n",
        "Repeat the 95+ code for age with below 18 "
      ],
      "metadata": {
        "id": "3mBITSW40IAQ"
      }
    },
    {
      "cell_type": "code",
      "metadata": {
        "id": "vy8f4sijKG2x",
        "colab": {
          "base_uri": "https://localhost:8080/",
          "height": 300
        },
        "outputId": "df4ae298-646d-4f4e-e1f0-c3fcaa977e99"
      },
      "source": [
        "df_sub.describe()"
      ],
      "execution_count": null,
      "outputs": [
        {
          "output_type": "execute_result",
          "data": {
            "text/plain": [
              "       60_over  voter  60aged_perc\n",
              "count   3656.0 3656.0       3656.0\n",
              "mean     296.2  957.9          0.3\n",
              "std      135.6  443.8          0.1\n",
              "min        8.0   21.0          0.1\n",
              "25%      192.0  593.0          0.3\n",
              "50%      321.0 1043.0          0.3\n",
              "75%      405.0 1331.0          0.3\n",
              "max      881.0 2846.0          0.8"
            ],
            "text/html": [
              "\n",
              "  <div id=\"df-1140b36b-1687-4002-8ae0-aa62bcc6dc24\">\n",
              "    <div class=\"colab-df-container\">\n",
              "      <div>\n",
              "<style scoped>\n",
              "    .dataframe tbody tr th:only-of-type {\n",
              "        vertical-align: middle;\n",
              "    }\n",
              "\n",
              "    .dataframe tbody tr th {\n",
              "        vertical-align: top;\n",
              "    }\n",
              "\n",
              "    .dataframe thead th {\n",
              "        text-align: right;\n",
              "    }\n",
              "</style>\n",
              "<table border=\"1\" class=\"dataframe\">\n",
              "  <thead>\n",
              "    <tr style=\"text-align: right;\">\n",
              "      <th></th>\n",
              "      <th>60_over</th>\n",
              "      <th>voter</th>\n",
              "      <th>60aged_perc</th>\n",
              "    </tr>\n",
              "  </thead>\n",
              "  <tbody>\n",
              "    <tr>\n",
              "      <th>count</th>\n",
              "      <td>3656.0</td>\n",
              "      <td>3656.0</td>\n",
              "      <td>3656.0</td>\n",
              "    </tr>\n",
              "    <tr>\n",
              "      <th>mean</th>\n",
              "      <td>296.2</td>\n",
              "      <td>957.9</td>\n",
              "      <td>0.3</td>\n",
              "    </tr>\n",
              "    <tr>\n",
              "      <th>std</th>\n",
              "      <td>135.6</td>\n",
              "      <td>443.8</td>\n",
              "      <td>0.1</td>\n",
              "    </tr>\n",
              "    <tr>\n",
              "      <th>min</th>\n",
              "      <td>8.0</td>\n",
              "      <td>21.0</td>\n",
              "      <td>0.1</td>\n",
              "    </tr>\n",
              "    <tr>\n",
              "      <th>25%</th>\n",
              "      <td>192.0</td>\n",
              "      <td>593.0</td>\n",
              "      <td>0.3</td>\n",
              "    </tr>\n",
              "    <tr>\n",
              "      <th>50%</th>\n",
              "      <td>321.0</td>\n",
              "      <td>1043.0</td>\n",
              "      <td>0.3</td>\n",
              "    </tr>\n",
              "    <tr>\n",
              "      <th>75%</th>\n",
              "      <td>405.0</td>\n",
              "      <td>1331.0</td>\n",
              "      <td>0.3</td>\n",
              "    </tr>\n",
              "    <tr>\n",
              "      <th>max</th>\n",
              "      <td>881.0</td>\n",
              "      <td>2846.0</td>\n",
              "      <td>0.8</td>\n",
              "    </tr>\n",
              "  </tbody>\n",
              "</table>\n",
              "</div>\n",
              "      <button class=\"colab-df-convert\" onclick=\"convertToInteractive('df-1140b36b-1687-4002-8ae0-aa62bcc6dc24')\"\n",
              "              title=\"Convert this dataframe to an interactive table.\"\n",
              "              style=\"display:none;\">\n",
              "        \n",
              "  <svg xmlns=\"http://www.w3.org/2000/svg\" height=\"24px\"viewBox=\"0 0 24 24\"\n",
              "       width=\"24px\">\n",
              "    <path d=\"M0 0h24v24H0V0z\" fill=\"none\"/>\n",
              "    <path d=\"M18.56 5.44l.94 2.06.94-2.06 2.06-.94-2.06-.94-.94-2.06-.94 2.06-2.06.94zm-11 1L8.5 8.5l.94-2.06 2.06-.94-2.06-.94L8.5 2.5l-.94 2.06-2.06.94zm10 10l.94 2.06.94-2.06 2.06-.94-2.06-.94-.94-2.06-.94 2.06-2.06.94z\"/><path d=\"M17.41 7.96l-1.37-1.37c-.4-.4-.92-.59-1.43-.59-.52 0-1.04.2-1.43.59L10.3 9.45l-7.72 7.72c-.78.78-.78 2.05 0 2.83L4 21.41c.39.39.9.59 1.41.59.51 0 1.02-.2 1.41-.59l7.78-7.78 2.81-2.81c.8-.78.8-2.07 0-2.86zM5.41 20L4 18.59l7.72-7.72 1.47 1.35L5.41 20z\"/>\n",
              "  </svg>\n",
              "      </button>\n",
              "      \n",
              "  <style>\n",
              "    .colab-df-container {\n",
              "      display:flex;\n",
              "      flex-wrap:wrap;\n",
              "      gap: 12px;\n",
              "    }\n",
              "\n",
              "    .colab-df-convert {\n",
              "      background-color: #E8F0FE;\n",
              "      border: none;\n",
              "      border-radius: 50%;\n",
              "      cursor: pointer;\n",
              "      display: none;\n",
              "      fill: #1967D2;\n",
              "      height: 32px;\n",
              "      padding: 0 0 0 0;\n",
              "      width: 32px;\n",
              "    }\n",
              "\n",
              "    .colab-df-convert:hover {\n",
              "      background-color: #E2EBFA;\n",
              "      box-shadow: 0px 1px 2px rgba(60, 64, 67, 0.3), 0px 1px 3px 1px rgba(60, 64, 67, 0.15);\n",
              "      fill: #174EA6;\n",
              "    }\n",
              "\n",
              "    [theme=dark] .colab-df-convert {\n",
              "      background-color: #3B4455;\n",
              "      fill: #D2E3FC;\n",
              "    }\n",
              "\n",
              "    [theme=dark] .colab-df-convert:hover {\n",
              "      background-color: #434B5C;\n",
              "      box-shadow: 0px 1px 3px 1px rgba(0, 0, 0, 0.15);\n",
              "      filter: drop-shadow(0px 1px 2px rgba(0, 0, 0, 0.3));\n",
              "      fill: #FFFFFF;\n",
              "    }\n",
              "  </style>\n",
              "\n",
              "      <script>\n",
              "        const buttonEl =\n",
              "          document.querySelector('#df-1140b36b-1687-4002-8ae0-aa62bcc6dc24 button.colab-df-convert');\n",
              "        buttonEl.style.display =\n",
              "          google.colab.kernel.accessAllowed ? 'block' : 'none';\n",
              "\n",
              "        async function convertToInteractive(key) {\n",
              "          const element = document.querySelector('#df-1140b36b-1687-4002-8ae0-aa62bcc6dc24');\n",
              "          const dataTable =\n",
              "            await google.colab.kernel.invokeFunction('convertToInteractive',\n",
              "                                                     [key], {});\n",
              "          if (!dataTable) return;\n",
              "\n",
              "          const docLinkHtml = 'Like what you see? Visit the ' +\n",
              "            '<a target=\"_blank\" href=https://colab.research.google.com/notebooks/data_table.ipynb>data table notebook</a>'\n",
              "            + ' to learn more about interactive tables.';\n",
              "          element.innerHTML = '';\n",
              "          dataTable['output_type'] = 'display_data';\n",
              "          await google.colab.output.renderOutput(dataTable, element);\n",
              "          const docLink = document.createElement('div');\n",
              "          docLink.innerHTML = docLinkHtml;\n",
              "          element.appendChild(docLink);\n",
              "        }\n",
              "      </script>\n",
              "    </div>\n",
              "  </div>\n",
              "  "
            ]
          },
          "metadata": {},
          "execution_count": 109
        }
      ]
    },
    {
      "cell_type": "markdown",
      "source": [
        "### Some sample plots of the 90 + data"
      ],
      "metadata": {
        "id": "gVFPULk6ra5H"
      }
    },
    {
      "cell_type": "code",
      "metadata": {
        "id": "s-xqJp-vJlT-",
        "colab": {
          "base_uri": "https://localhost:8080/",
          "height": 282
        },
        "outputId": "903cb1a0-ada4-46a8-cc03-c6ac30554618"
      },
      "source": [
        "with plt.style.context('seaborn-colorblind'):  #add this line \n",
        "    df_sub.hist(column = '60aged_perc', bins = 10)"
      ],
      "execution_count": null,
      "outputs": [
        {
          "output_type": "display_data",
          "data": {
            "text/plain": [
              "<Figure size 432x288 with 1 Axes>"
            ],
            "image/png": "[encoded data removed]"
          },
          "metadata": {}
        }
      ]
    },
    {
      "cell_type": "code",
      "metadata": {
        "id": "Bw0UDzIzKw0r",
        "colab": {
          "base_uri": "https://localhost:8080/",
          "height": 238
        },
        "outputId": "f4e213aa-6cdf-4d44-ff9d-8fb5a2476d76"
      },
      "source": [
        "df_sub['60percent_ageg60+'] = df_sub['60aged_perc'].apply(lambda x: 1 if x >= .6 else 0)\n",
        "df_sub.head()"
      ],
      "execution_count": null,
      "outputs": [
        {
          "output_type": "execute_result",
          "data": {
            "text/plain": [
              "           60_over  voter  60aged_perc  60percent_ageg60+\n",
              "PEC_num                                                  \n",
              "01.01.01       474   1389          0.3                  0\n",
              "01.01.02       431   1276          0.3                  0\n",
              "01.01.03       508   1485          0.3                  0\n",
              "01.01.04       393   1194          0.3                  0\n",
              "01.01.05       521   1597          0.3                  0"
            ],
            "text/html": [
              "\n",
              "  <div id=\"df-63592ee6-f996-477f-af6a-5d75a1cd53bb\">\n",
              "    <div class=\"colab-df-container\">\n",
              "      <div>\n",
              "<style scoped>\n",
              "    .dataframe tbody tr th:only-of-type {\n",
              "        vertical-align: middle;\n",
              "    }\n",
              "\n",
              "    .dataframe tbody tr th {\n",
              "        vertical-align: top;\n",
              "    }\n",
              "\n",
              "    .dataframe thead th {\n",
              "        text-align: right;\n",
              "    }\n",
              "</style>\n",
              "<table border=\"1\" class=\"dataframe\">\n",
              "  <thead>\n",
              "    <tr style=\"text-align: right;\">\n",
              "      <th></th>\n",
              "      <th>60_over</th>\n",
              "      <th>voter</th>\n",
              "      <th>60aged_perc</th>\n",
              "      <th>60percent_ageg60+</th>\n",
              "    </tr>\n",
              "    <tr>\n",
              "      <th>PEC_num</th>\n",
              "      <th></th>\n",
              "      <th></th>\n",
              "      <th></th>\n",
              "      <th></th>\n",
              "    </tr>\n",
              "  </thead>\n",
              "  <tbody>\n",
              "    <tr>\n",
              "      <th>01.01.01</th>\n",
              "      <td>474</td>\n",
              "      <td>1389</td>\n",
              "      <td>0.3</td>\n",
              "      <td>0</td>\n",
              "    </tr>\n",
              "    <tr>\n",
              "      <th>01.01.02</th>\n",
              "      <td>431</td>\n",
              "      <td>1276</td>\n",
              "      <td>0.3</td>\n",
              "      <td>0</td>\n",
              "    </tr>\n",
              "    <tr>\n",
              "      <th>01.01.03</th>\n",
              "      <td>508</td>\n",
              "      <td>1485</td>\n",
              "      <td>0.3</td>\n",
              "      <td>0</td>\n",
              "    </tr>\n",
              "    <tr>\n",
              "      <th>01.01.04</th>\n",
              "      <td>393</td>\n",
              "      <td>1194</td>\n",
              "      <td>0.3</td>\n",
              "      <td>0</td>\n",
              "    </tr>\n",
              "    <tr>\n",
              "      <th>01.01.05</th>\n",
              "      <td>521</td>\n",
              "      <td>1597</td>\n",
              "      <td>0.3</td>\n",
              "      <td>0</td>\n",
              "    </tr>\n",
              "  </tbody>\n",
              "</table>\n",
              "</div>\n",
              "      <button class=\"colab-df-convert\" onclick=\"convertToInteractive('df-63592ee6-f996-477f-af6a-5d75a1cd53bb')\"\n",
              "              title=\"Convert this dataframe to an interactive table.\"\n",
              "              style=\"display:none;\">\n",
              "        \n",
              "  <svg xmlns=\"http://www.w3.org/2000/svg\" height=\"24px\"viewBox=\"0 0 24 24\"\n",
              "       width=\"24px\">\n",
              "    <path d=\"M0 0h24v24H0V0z\" fill=\"none\"/>\n",
              "    <path d=\"M18.56 5.44l.94 2.06.94-2.06 2.06-.94-2.06-.94-.94-2.06-.94 2.06-2.06.94zm-11 1L8.5 8.5l.94-2.06 2.06-.94-2.06-.94L8.5 2.5l-.94 2.06-2.06.94zm10 10l.94 2.06.94-2.06 2.06-.94-2.06-.94-.94-2.06-.94 2.06-2.06.94z\"/><path d=\"M17.41 7.96l-1.37-1.37c-.4-.4-.92-.59-1.43-.59-.52 0-1.04.2-1.43.59L10.3 9.45l-7.72 7.72c-.78.78-.78 2.05 0 2.83L4 21.41c.39.39.9.59 1.41.59.51 0 1.02-.2 1.41-.59l7.78-7.78 2.81-2.81c.8-.78.8-2.07 0-2.86zM5.41 20L4 18.59l7.72-7.72 1.47 1.35L5.41 20z\"/>\n",
              "  </svg>\n",
              "      </button>\n",
              "      \n",
              "  <style>\n",
              "    .colab-df-container {\n",
              "      display:flex;\n",
              "      flex-wrap:wrap;\n",
              "      gap: 12px;\n",
              "    }\n",
              "\n",
              "    .colab-df-convert {\n",
              "      background-color: #E8F0FE;\n",
              "      border: none;\n",
              "      border-radius: 50%;\n",
              "      cursor: pointer;\n",
              "      display: none;\n",
              "      fill: #1967D2;\n",
              "      height: 32px;\n",
              "      padding: 0 0 0 0;\n",
              "      width: 32px;\n",
              "    }\n",
              "\n",
              "    .colab-df-convert:hover {\n",
              "      background-color: #E2EBFA;\n",
              "      box-shadow: 0px 1px 2px rgba(60, 64, 67, 0.3), 0px 1px 3px 1px rgba(60, 64, 67, 0.15);\n",
              "      fill: #174EA6;\n",
              "    }\n",
              "\n",
              "    [theme=dark] .colab-df-convert {\n",
              "      background-color: #3B4455;\n",
              "      fill: #D2E3FC;\n",
              "    }\n",
              "\n",
              "    [theme=dark] .colab-df-convert:hover {\n",
              "      background-color: #434B5C;\n",
              "      box-shadow: 0px 1px 3px 1px rgba(0, 0, 0, 0.15);\n",
              "      filter: drop-shadow(0px 1px 2px rgba(0, 0, 0, 0.3));\n",
              "      fill: #FFFFFF;\n",
              "    }\n",
              "  </style>\n",
              "\n",
              "      <script>\n",
              "        const buttonEl =\n",
              "          document.querySelector('#df-63592ee6-f996-477f-af6a-5d75a1cd53bb button.colab-df-convert');\n",
              "        buttonEl.style.display =\n",
              "          google.colab.kernel.accessAllowed ? 'block' : 'none';\n",
              "\n",
              "        async function convertToInteractive(key) {\n",
              "          const element = document.querySelector('#df-63592ee6-f996-477f-af6a-5d75a1cd53bb');\n",
              "          const dataTable =\n",
              "            await google.colab.kernel.invokeFunction('convertToInteractive',\n",
              "                                                     [key], {});\n",
              "          if (!dataTable) return;\n",
              "\n",
              "          const docLinkHtml = 'Like what you see? Visit the ' +\n",
              "            '<a target=\"_blank\" href=https://colab.research.google.com/notebooks/data_table.ipynb>data table notebook</a>'\n",
              "            + ' to learn more about interactive tables.';\n",
              "          element.innerHTML = '';\n",
              "          dataTable['output_type'] = 'display_data';\n",
              "          await google.colab.output.renderOutput(dataTable, element);\n",
              "          const docLink = document.createElement('div');\n",
              "          docLink.innerHTML = docLinkHtml;\n",
              "          element.appendChild(docLink);\n",
              "        }\n",
              "      </script>\n",
              "    </div>\n",
              "  </div>\n",
              "  "
            ]
          },
          "metadata": {},
          "execution_count": 111
        }
      ]
    },
    {
      "cell_type": "code",
      "metadata": {
        "id": "YMXlEkAEKw3g",
        "colab": {
          "base_uri": "https://localhost:8080/"
        },
        "outputId": "c289bf45-02ac-4c98-f1dd-1df4ae32c5bc"
      },
      "source": [
        "df_sub.sum(axis = 0)"
      ],
      "execution_count": null,
      "outputs": [
        {
          "output_type": "execute_result",
          "data": {
            "text/plain": [
              "60_over             1082916.0\n",
              "voter               3501931.0\n",
              "60aged_perc            1163.3\n",
              "60percent_ageg60+        31.0\n",
              "dtype: float64"
            ]
          },
          "metadata": {},
          "execution_count": 112
        }
      ]
    },
    {
      "cell_type": "markdown",
      "metadata": {
        "id": "FwubrjmCMGYr"
      },
      "source": [
        "31 PEC out of 3656 are comprised of 60% or more voters who are aged 60 and over "
      ]
    },
    {
      "cell_type": "markdown",
      "metadata": {
        "id": "vWbxtyr6PUSL"
      },
      "source": [
        "<a name=\"sumhigh\"></a>\n",
        "# Summarizing at a higher level"
      ]
    },
    {
      "cell_type": "markdown",
      "metadata": {
        "id": "4_77cIsdPUSL"
      },
      "source": [
        "### Let's count how many entries or voters (non blank) are in each pec"
      ]
    },
    {
      "cell_type": "code",
      "metadata": {
        "id": "gh4TLFTTPUSX",
        "colab": {
          "base_uri": "https://localhost:8080/"
        },
        "outputId": "72458383-8d78-41a8-a1f3-dfe631548392"
      },
      "source": [
        "pscounts = df.groupby('PEC_num').size(); pscounts"
      ],
      "execution_count": null,
      "outputs": [
        {
          "output_type": "execute_result",
          "data": {
            "text/plain": [
              "PEC_num\n",
              "01.01.01     1389\n",
              "01.01.02     1276\n",
              "01.01.03     1485\n",
              "01.01.04     1194\n",
              "01.01.05     1597\n",
              "             ... \n",
              "30.84.50      350\n",
              "30.84.51      294\n",
              "30.84.52      188\n",
              "30.84.53      261\n",
              "30.84.54      320\n",
              "Length: 3656, dtype: int64"
            ]
          },
          "metadata": {},
          "execution_count": 113
        }
      ]
    },
    {
      "cell_type": "markdown",
      "metadata": {
        "id": "omy5X-nWPUSl"
      },
      "source": [
        "Look at the shape of our data"
      ]
    },
    {
      "cell_type": "code",
      "metadata": {
        "id": "ujaBz__kPUSm",
        "colab": {
          "base_uri": "https://localhost:8080/"
        },
        "outputId": "fcda7785-c40b-408b-88f9-aa8c48c704b7"
      },
      "source": [
        "pscounts.shape"
      ],
      "execution_count": null,
      "outputs": [
        {
          "output_type": "execute_result",
          "data": {
            "text/plain": [
              "(3656,)"
            ]
          },
          "metadata": {},
          "execution_count": 114
        }
      ]
    },
    {
      "cell_type": "markdown",
      "metadata": {
        "id": "Y0-aXBdDPUSo"
      },
      "source": [
        "Uh oh. What we created is actually a series (all in one column) but we want to make it a dataframe so we can label the columns. So we convert it the series to a dataframe (an we reset the dataframe index)."
      ]
    },
    {
      "cell_type": "code",
      "metadata": {
        "id": "CfQxxcPYPUSo"
      },
      "source": [
        "pscounts = pscounts.to_frame().reset_index()"
      ],
      "execution_count": null,
      "outputs": []
    },
    {
      "cell_type": "markdown",
      "metadata": {
        "id": "K-WtFSSRPUSq"
      },
      "source": [
        "Let's confirm it's 2 columns:"
      ]
    },
    {
      "cell_type": "code",
      "metadata": {
        "id": "sVHJa2q8PUSr",
        "colab": {
          "base_uri": "https://localhost:8080/"
        },
        "outputId": "52433af5-9ebe-44ab-e30c-f5cb7e80c4c8"
      },
      "source": [
        "pscounts.shape"
      ],
      "execution_count": null,
      "outputs": [
        {
          "output_type": "execute_result",
          "data": {
            "text/plain": [
              "(3656, 2)"
            ]
          },
          "metadata": {},
          "execution_count": 116
        }
      ]
    },
    {
      "cell_type": "markdown",
      "metadata": {
        "id": "398jEvhOPUSt"
      },
      "source": [
        "Yay, Let's look at the names of our columns"
      ]
    },
    {
      "cell_type": "code",
      "metadata": {
        "id": "PSHJ1YvnPUSu",
        "colab": {
          "base_uri": "https://localhost:8080/"
        },
        "outputId": "2966e611-fe27-4705-e915-14a1706dc039"
      },
      "source": [
        "pscounts.columns"
      ],
      "execution_count": null,
      "outputs": [
        {
          "output_type": "execute_result",
          "data": {
            "text/plain": [
              "Index(['PEC_num', 0], dtype='object')"
            ]
          },
          "metadata": {},
          "execution_count": 117
        }
      ]
    },
    {
      "cell_type": "markdown",
      "metadata": {
        "id": "_VAL_eXwPUSw"
      },
      "source": [
        "Re-name the second column (currently labeled 0) to 'numVoters'"
      ]
    },
    {
      "cell_type": "code",
      "metadata": {
        "id": "uR1p-aZRPUSy"
      },
      "source": [
        "pscounts.rename(columns={0: 'numVoters'}, inplace=True)"
      ],
      "execution_count": null,
      "outputs": []
    },
    {
      "cell_type": "code",
      "metadata": {
        "id": "_LAEGC1gPUS1",
        "colab": {
          "base_uri": "https://localhost:8080/"
        },
        "outputId": "2b1629e9-7a6c-4e75-fb7d-d94574e03e23"
      },
      "source": [
        "#check it\n",
        "pscounts.columns"
      ],
      "execution_count": null,
      "outputs": [
        {
          "output_type": "execute_result",
          "data": {
            "text/plain": [
              "Index(['PEC_num', 'numVoters'], dtype='object')"
            ]
          },
          "metadata": {},
          "execution_count": 119
        }
      ]
    },
    {
      "cell_type": "markdown",
      "metadata": {
        "id": "mYuHpheHPUS3"
      },
      "source": [
        "Let's get a quick view of the summary statistics for the numerical data (i.e., numVoters) in this polling station level dataset:"
      ]
    },
    {
      "cell_type": "code",
      "metadata": {
        "id": "aDCyp-XTPUS4",
        "colab": {
          "base_uri": "https://localhost:8080/",
          "height": 300
        },
        "outputId": "30e47694-5e43-4a2c-b810-88408001bf87"
      },
      "source": [
        "pscounts.describe()"
      ],
      "execution_count": null,
      "outputs": [
        {
          "output_type": "execute_result",
          "data": {
            "text/plain": [
              "       numVoters\n",
              "count     3656.0\n",
              "mean       957.9\n",
              "std        443.8\n",
              "min         21.0\n",
              "25%        593.0\n",
              "50%       1043.0\n",
              "75%       1331.0\n",
              "max       2846.0"
            ],
            "text/html": [
              "\n",
              "  <div id=\"df-3857c207-154c-4193-96cf-cff348049a17\">\n",
              "    <div class=\"colab-df-container\">\n",
              "      <div>\n",
              "<style scoped>\n",
              "    .dataframe tbody tr th:only-of-type {\n",
              "        vertical-align: middle;\n",
              "    }\n",
              "\n",
              "    .dataframe tbody tr th {\n",
              "        vertical-align: top;\n",
              "    }\n",
              "\n",
              "    .dataframe thead th {\n",
              "        text-align: right;\n",
              "    }\n",
              "</style>\n",
              "<table border=\"1\" class=\"dataframe\">\n",
              "  <thead>\n",
              "    <tr style=\"text-align: right;\">\n",
              "      <th></th>\n",
              "      <th>numVoters</th>\n",
              "    </tr>\n",
              "  </thead>\n",
              "  <tbody>\n",
              "    <tr>\n",
              "      <th>count</th>\n",
              "      <td>3656.0</td>\n",
              "    </tr>\n",
              "    <tr>\n",
              "      <th>mean</th>\n",
              "      <td>957.9</td>\n",
              "    </tr>\n",
              "    <tr>\n",
              "      <th>std</th>\n",
              "      <td>443.8</td>\n",
              "    </tr>\n",
              "    <tr>\n",
              "      <th>min</th>\n",
              "      <td>21.0</td>\n",
              "    </tr>\n",
              "    <tr>\n",
              "      <th>25%</th>\n",
              "      <td>593.0</td>\n",
              "    </tr>\n",
              "    <tr>\n",
              "      <th>50%</th>\n",
              "      <td>1043.0</td>\n",
              "    </tr>\n",
              "    <tr>\n",
              "      <th>75%</th>\n",
              "      <td>1331.0</td>\n",
              "    </tr>\n",
              "    <tr>\n",
              "      <th>max</th>\n",
              "      <td>2846.0</td>\n",
              "    </tr>\n",
              "  </tbody>\n",
              "</table>\n",
              "</div>\n",
              "      <button class=\"colab-df-convert\" onclick=\"convertToInteractive('df-3857c207-154c-4193-96cf-cff348049a17')\"\n",
              "              title=\"Convert this dataframe to an interactive table.\"\n",
              "              style=\"display:none;\">\n",
              "        \n",
              "  <svg xmlns=\"http://www.w3.org/2000/svg\" height=\"24px\"viewBox=\"0 0 24 24\"\n",
              "       width=\"24px\">\n",
              "    <path d=\"M0 0h24v24H0V0z\" fill=\"none\"/>\n",
              "    <path d=\"M18.56 5.44l.94 2.06.94-2.06 2.06-.94-2.06-.94-.94-2.06-.94 2.06-2.06.94zm-11 1L8.5 8.5l.94-2.06 2.06-.94-2.06-.94L8.5 2.5l-.94 2.06-2.06.94zm10 10l.94 2.06.94-2.06 2.06-.94-2.06-.94-.94-2.06-.94 2.06-2.06.94z\"/><path d=\"M17.41 7.96l-1.37-1.37c-.4-.4-.92-.59-1.43-.59-.52 0-1.04.2-1.43.59L10.3 9.45l-7.72 7.72c-.78.78-.78 2.05 0 2.83L4 21.41c.39.39.9.59 1.41.59.51 0 1.02-.2 1.41-.59l7.78-7.78 2.81-2.81c.8-.78.8-2.07 0-2.86zM5.41 20L4 18.59l7.72-7.72 1.47 1.35L5.41 20z\"/>\n",
              "  </svg>\n",
              "      </button>\n",
              "      \n",
              "  <style>\n",
              "    .colab-df-container {\n",
              "      display:flex;\n",
              "      flex-wrap:wrap;\n",
              "      gap: 12px;\n",
              "    }\n",
              "\n",
              "    .colab-df-convert {\n",
              "      background-color: #E8F0FE;\n",
              "      border: none;\n",
              "      border-radius: 50%;\n",
              "      cursor: pointer;\n",
              "      display: none;\n",
              "      fill: #1967D2;\n",
              "      height: 32px;\n",
              "      padding: 0 0 0 0;\n",
              "      width: 32px;\n",
              "    }\n",
              "\n",
              "    .colab-df-convert:hover {\n",
              "      background-color: #E2EBFA;\n",
              "      box-shadow: 0px 1px 2px rgba(60, 64, 67, 0.3), 0px 1px 3px 1px rgba(60, 64, 67, 0.15);\n",
              "      fill: #174EA6;\n",
              "    }\n",
              "\n",
              "    [theme=dark] .colab-df-convert {\n",
              "      background-color: #3B4455;\n",
              "      fill: #D2E3FC;\n",
              "    }\n",
              "\n",
              "    [theme=dark] .colab-df-convert:hover {\n",
              "      background-color: #434B5C;\n",
              "      box-shadow: 0px 1px 3px 1px rgba(0, 0, 0, 0.15);\n",
              "      filter: drop-shadow(0px 1px 2px rgba(0, 0, 0, 0.3));\n",
              "      fill: #FFFFFF;\n",
              "    }\n",
              "  </style>\n",
              "\n",
              "      <script>\n",
              "        const buttonEl =\n",
              "          document.querySelector('#df-3857c207-154c-4193-96cf-cff348049a17 button.colab-df-convert');\n",
              "        buttonEl.style.display =\n",
              "          google.colab.kernel.accessAllowed ? 'block' : 'none';\n",
              "\n",
              "        async function convertToInteractive(key) {\n",
              "          const element = document.querySelector('#df-3857c207-154c-4193-96cf-cff348049a17');\n",
              "          const dataTable =\n",
              "            await google.colab.kernel.invokeFunction('convertToInteractive',\n",
              "                                                     [key], {});\n",
              "          if (!dataTable) return;\n",
              "\n",
              "          const docLinkHtml = 'Like what you see? Visit the ' +\n",
              "            '<a target=\"_blank\" href=https://colab.research.google.com/notebooks/data_table.ipynb>data table notebook</a>'\n",
              "            + ' to learn more about interactive tables.';\n",
              "          element.innerHTML = '';\n",
              "          dataTable['output_type'] = 'display_data';\n",
              "          await google.colab.output.renderOutput(dataTable, element);\n",
              "          const docLink = document.createElement('div');\n",
              "          docLink.innerHTML = docLinkHtml;\n",
              "          element.appendChild(docLink);\n",
              "        }\n",
              "      </script>\n",
              "    </div>\n",
              "  </div>\n",
              "  "
            ]
          },
          "metadata": {},
          "execution_count": 120
        }
      ]
    },
    {
      "cell_type": "markdown",
      "metadata": {
        "id": "jzzdmUXnPUS8"
      },
      "source": [
        "<a name=\"histo\"></a>\n",
        "# Make a histogram of Voters (Polling station dataset)"
      ]
    },
    {
      "cell_type": "code",
      "metadata": {
        "id": "WIp4vBgqPUS-",
        "colab": {
          "base_uri": "https://localhost:8080/",
          "height": 282
        },
        "outputId": "c92f3bd4-7cbe-4af7-a3a7-33702a242bec"
      },
      "source": [
        "pscounts.hist('numVoters');"
      ],
      "execution_count": null,
      "outputs": [
        {
          "output_type": "display_data",
          "data": {
            "text/plain": [
              "<Figure size 432x288 with 1 Axes>"
            ],
            "image/png": "[encoded data removed]"
          },
          "metadata": {}
        }
      ]
    },
    {
      "cell_type": "code",
      "metadata": {
        "id": "NundUDQxPUTC",
        "colab": {
          "base_uri": "https://localhost:8080/",
          "height": 284
        },
        "outputId": "fb3055e4-9e03-40ea-e3e4-7a45133eeb49"
      },
      "source": [
        "pscounts[\"numVoters\"].plot(kind=\"hist\")"
      ],
      "execution_count": null,
      "outputs": [
        {
          "output_type": "execute_result",
          "data": {
            "text/plain": [
              "<matplotlib.axes._subplots.AxesSubplot at 0x7f7f593c2150>"
            ]
          },
          "metadata": {},
          "execution_count": 122
        },
        {
          "output_type": "display_data",
          "data": {
            "text/plain": [
              "<Figure size 432x288 with 1 Axes>"
            ],
            "image/png": "[encoded data removed]"
          },
          "metadata": {}
        }
      ]
    },
    {
      "cell_type": "markdown",
      "metadata": {
        "id": "Hf33RNLkPUTE"
      },
      "source": [
        "<a name=\"save\"></a>\n",
        "# Save the polling station level dataset"
      ]
    },
    {
      "cell_type": "markdown",
      "metadata": {
        "id": "vkPJXu-9PUTF"
      },
      "source": [
        "Save this polling station-level dataset to a csv file that is tab separated and with utf-8 encoding"
      ]
    },
    {
      "cell_type": "code",
      "metadata": {
        "id": "MFFiIuX0PUTG"
      },
      "source": [
        "pscounts.to_csv('PollingStation_VLcounts_tabsep.csv', sep='\\t', encoding='utf-8', index=False)"
      ],
      "execution_count": null,
      "outputs": []
    },
    {
      "cell_type": "markdown",
      "metadata": {
        "id": "XGNmPPkAPUTH"
      },
      "source": [
        "Or we could save it to a csv file that is (by default) comma separated by not including the sep='\\t' option"
      ]
    },
    {
      "cell_type": "code",
      "metadata": {
        "id": "f8L7_I_tPUTI"
      },
      "source": [
        "pscounts.to_csv('PollingStation_VLcounts_comma.csv', encoding='utf-8', index=False)"
      ],
      "execution_count": null,
      "outputs": []
    },
    {
      "cell_type": "markdown",
      "metadata": {
        "id": "PPIhMpCxYivp"
      },
      "source": [
        "(Colab)  The Colab environment does NOT save datasets once you disconnect or close this notebook. We can download the files we created to our local computer. Running the code below will download both files to your default download folder (if you are using Chrome)."
      ]
    },
    {
      "cell_type": "code",
      "metadata": {
        "id": "IQx8yHJEG3Ai",
        "colab": {
          "base_uri": "https://localhost:8080/",
          "height": 17
        },
        "outputId": "c5c972e1-931b-4b1d-b957-0ab9019cab3c"
      },
      "source": [
        "from google.colab import files\n",
        "downloaded = files.download('/content/PollingStation_VLcounts_tabsep.csv')\n",
        "alsodownloaded = files.download('/content/PollingStation_VLcounts_comma.csv')"
      ],
      "execution_count": null,
      "outputs": [
        {
          "output_type": "display_data",
          "data": {
            "text/plain": [
              "<IPython.core.display.Javascript object>"
            ],
            "application/javascript": [
              "\n",
              "    async function download(id, filename, size) {\n",
              "      if (!google.colab.kernel.accessAllowed) {\n",
              "        return;\n",
              "      }\n",
              "      const div = document.createElement('div');\n",
              "      const label = document.createElement('label');\n",
              "      label.textContent = `Downloading \"${filename}\": `;\n",
              "      div.appendChild(label);\n",
              "      const progress = document.createElement('progress');\n",
              "      progress.max = size;\n",
              "      div.appendChild(progress);\n",
              "      document.body.appendChild(div);\n",
              "\n",
              "      const buffers = [];\n",
              "      let downloaded = 0;\n",
              "\n",
              "      const channel = await google.colab.kernel.comms.open(id);\n",
              "      // Send a message to notify the kernel that we're ready.\n",
              "      channel.send({})\n",
              "\n",
              "      for await (const message of channel.messages) {\n",
              "        // Send a message to notify the kernel that we're ready.\n",
              "        channel.send({})\n",
              "        if (message.buffers) {\n",
              "          for (const buffer of message.buffers) {\n",
              "            buffers.push(buffer);\n",
              "            downloaded += buffer.byteLength;\n",
              "            progress.value = downloaded;\n",
              "          }\n",
              "        }\n",
              "      }\n",
              "      const blob = new Blob(buffers, {type: 'application/binary'});\n",
              "      const a = document.createElement('a');\n",
              "      a.href = window.URL.createObjectURL(blob);\n",
              "      a.download = filename;\n",
              "      div.appendChild(a);\n",
              "      a.click();\n",
              "      div.remove();\n",
              "    }\n",
              "  "
            ]
          },
          "metadata": {}
        },
        {
          "output_type": "display_data",
          "data": {
            "text/plain": [
              "<IPython.core.display.Javascript object>"
            ],
            "application/javascript": [
              "download(\"download_7402c92a-7adf-4f5d-8c59-9fce380d3d33\", \"PollingStation_VLcounts_tabsep.csv\", 53071)"
            ]
          },
          "metadata": {}
        },
        {
          "output_type": "display_data",
          "data": {
            "text/plain": [
              "<IPython.core.display.Javascript object>"
            ],
            "application/javascript": [
              "\n",
              "    async function download(id, filename, size) {\n",
              "      if (!google.colab.kernel.accessAllowed) {\n",
              "        return;\n",
              "      }\n",
              "      const div = document.createElement('div');\n",
              "      const label = document.createElement('label');\n",
              "      label.textContent = `Downloading \"${filename}\": `;\n",
              "      div.appendChild(label);\n",
              "      const progress = document.createElement('progress');\n",
              "      progress.max = size;\n",
              "      div.appendChild(progress);\n",
              "      document.body.appendChild(div);\n",
              "\n",
              "      const buffers = [];\n",
              "      let downloaded = 0;\n",
              "\n",
              "      const channel = await google.colab.kernel.comms.open(id);\n",
              "      // Send a message to notify the kernel that we're ready.\n",
              "      channel.send({})\n",
              "\n",
              "      for await (const message of channel.messages) {\n",
              "        // Send a message to notify the kernel that we're ready.\n",
              "        channel.send({})\n",
              "        if (message.buffers) {\n",
              "          for (const buffer of message.buffers) {\n",
              "            buffers.push(buffer);\n",
              "            downloaded += buffer.byteLength;\n",
              "            progress.value = downloaded;\n",
              "          }\n",
              "        }\n",
              "      }\n",
              "      const blob = new Blob(buffers, {type: 'application/binary'});\n",
              "      const a = document.createElement('a');\n",
              "      a.href = window.URL.createObjectURL(blob);\n",
              "      a.download = filename;\n",
              "      div.appendChild(a);\n",
              "      a.click();\n",
              "      div.remove();\n",
              "    }\n",
              "  "
            ]
          },
          "metadata": {}
        },
        {
          "output_type": "display_data",
          "data": {
            "text/plain": [
              "<IPython.core.display.Javascript object>"
            ],
            "application/javascript": [
              "download(\"download_4017effc-47ba-4e2f-bda8-d3a5bd1e8ae8\", \"PollingStation_VLcounts_comma.csv\", 53071)"
            ]
          },
          "metadata": {}
        }
      ]
    },
    {
      "cell_type": "markdown",
      "metadata": {
        "collapsed": false,
        "id": "1H3DO3ZEPUTL"
      },
      "source": [
        "This is the end of this notebook. "
      ]
    }
  ]
}